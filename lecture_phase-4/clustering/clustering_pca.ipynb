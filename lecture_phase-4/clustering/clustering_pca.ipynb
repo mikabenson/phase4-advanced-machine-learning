{
  "cells": [
    {
      "cell_type": "markdown",
      "metadata": {
        "id": "hTDJqSHhYGL8"
      },
      "source": [
        "# Part 1: Clustering\n",
        "# 1. What is Clustering?\n",
        "\n",
        "Clustering is an unsupervised learning technique used to group data points that share similar characteristics. Unlike supervised learning, where the data is labeled, in clustering, we don't know the categories in advance. The goal of clustering is to divide the data into groups or clusters, where data points within a cluster are similar to each other, and data points in different clusters are dissimilar.\n",
        "\n",
        "# 2. Types of Clustering Algorithms\n",
        "There are many clustering algorithms, but the two most common ones we'll cover here are:\n",
        "\n",
        "## a. K-Means Clustering\n",
        "\n",
        "K-means clustering tries to divide data into K clusters, where each cluster is represented by a centroid (the mean of all points in the cluster).\n",
        "\n",
        "**How it works:**\n",
        "\n",
        "1. Initialize K cluster centroids (often randomly).\n",
        "2. Assign each data point to the nearest centroid.\n",
        "3. Recalculate the centroids based on the points assigned to each cluster.\n",
        "4. Repeat steps 2 and 3 until the centroids no longer move significantly (convergence).\n",
        "\n",
        "\n",
        "**Pros:**\n",
        "\n",
        "1. Easy to implement and works well with spherical or well-separated clusters.\n",
        "\n",
        "**Cons:**\n",
        "\n",
        " 1. You must pre-define the number of clusters, and the algorithm may converge to a local optimum.\n",
        "\n",
        "\n"
      ]
    },
    {
      "cell_type": "markdown",
      "metadata": {
        "id": "PxPp5jFyYGMA"
      },
      "source": [
        "## Step-by-Step K-Means Code:"
      ]
    },
    {
      "cell_type": "markdown",
      "metadata": {
        "id": "hl8EDMJ8YGMB"
      },
      "source": [
        "Let's apply K-Means clustering to the Iris Dataset, which has 4 features (sepal length, sepal width, petal length, and petal width)."
      ]
    },
    {
      "cell_type": "code",
      "execution_count": 1,
      "metadata": {
        "id": "1Un0fSjuYGMC"
      },
      "outputs": [],
      "source": [
        "import numpy as np\n",
        "import pandas as pd\n",
        "import matplotlib.pyplot as plt\n",
        "from sklearn.datasets import load_iris\n",
        "from sklearn.cluster import KMeans"
      ]
    },
    {
      "cell_type": "code",
      "execution_count": 2,
      "metadata": {
        "id": "00QXlgXeYGME"
      },
      "outputs": [],
      "source": [
        "# Load the Iris dataset\n",
        "iris = load_iris()\n",
        "X = iris.data  # features\n",
        "y = iris.target  # target labels (species)"
      ]
    },
    {
      "cell_type": "code",
      "execution_count": 3,
      "metadata": {},
      "outputs": [
        {
          "name": "stdout",
          "output_type": "stream",
          "text": [
            "{'data': array([[5.1, 3.5, 1.4, 0.2],\n",
            "       [4.9, 3. , 1.4, 0.2],\n",
            "       [4.7, 3.2, 1.3, 0.2],\n",
            "       [4.6, 3.1, 1.5, 0.2],\n",
            "       [5. , 3.6, 1.4, 0.2],\n",
            "       [5.4, 3.9, 1.7, 0.4],\n",
            "       [4.6, 3.4, 1.4, 0.3],\n",
            "       [5. , 3.4, 1.5, 0.2],\n",
            "       [4.4, 2.9, 1.4, 0.2],\n",
            "       [4.9, 3.1, 1.5, 0.1],\n",
            "       [5.4, 3.7, 1.5, 0.2],\n",
            "       [4.8, 3.4, 1.6, 0.2],\n",
            "       [4.8, 3. , 1.4, 0.1],\n",
            "       [4.3, 3. , 1.1, 0.1],\n",
            "       [5.8, 4. , 1.2, 0.2],\n",
            "       [5.7, 4.4, 1.5, 0.4],\n",
            "       [5.4, 3.9, 1.3, 0.4],\n",
            "       [5.1, 3.5, 1.4, 0.3],\n",
            "       [5.7, 3.8, 1.7, 0.3],\n",
            "       [5.1, 3.8, 1.5, 0.3],\n",
            "       [5.4, 3.4, 1.7, 0.2],\n",
            "       [5.1, 3.7, 1.5, 0.4],\n",
            "       [4.6, 3.6, 1. , 0.2],\n",
            "       [5.1, 3.3, 1.7, 0.5],\n",
            "       [4.8, 3.4, 1.9, 0.2],\n",
            "       [5. , 3. , 1.6, 0.2],\n",
            "       [5. , 3.4, 1.6, 0.4],\n",
            "       [5.2, 3.5, 1.5, 0.2],\n",
            "       [5.2, 3.4, 1.4, 0.2],\n",
            "       [4.7, 3.2, 1.6, 0.2],\n",
            "       [4.8, 3.1, 1.6, 0.2],\n",
            "       [5.4, 3.4, 1.5, 0.4],\n",
            "       [5.2, 4.1, 1.5, 0.1],\n",
            "       [5.5, 4.2, 1.4, 0.2],\n",
            "       [4.9, 3.1, 1.5, 0.2],\n",
            "       [5. , 3.2, 1.2, 0.2],\n",
            "       [5.5, 3.5, 1.3, 0.2],\n",
            "       [4.9, 3.6, 1.4, 0.1],\n",
            "       [4.4, 3. , 1.3, 0.2],\n",
            "       [5.1, 3.4, 1.5, 0.2],\n",
            "       [5. , 3.5, 1.3, 0.3],\n",
            "       [4.5, 2.3, 1.3, 0.3],\n",
            "       [4.4, 3.2, 1.3, 0.2],\n",
            "       [5. , 3.5, 1.6, 0.6],\n",
            "       [5.1, 3.8, 1.9, 0.4],\n",
            "       [4.8, 3. , 1.4, 0.3],\n",
            "       [5.1, 3.8, 1.6, 0.2],\n",
            "       [4.6, 3.2, 1.4, 0.2],\n",
            "       [5.3, 3.7, 1.5, 0.2],\n",
            "       [5. , 3.3, 1.4, 0.2],\n",
            "       [7. , 3.2, 4.7, 1.4],\n",
            "       [6.4, 3.2, 4.5, 1.5],\n",
            "       [6.9, 3.1, 4.9, 1.5],\n",
            "       [5.5, 2.3, 4. , 1.3],\n",
            "       [6.5, 2.8, 4.6, 1.5],\n",
            "       [5.7, 2.8, 4.5, 1.3],\n",
            "       [6.3, 3.3, 4.7, 1.6],\n",
            "       [4.9, 2.4, 3.3, 1. ],\n",
            "       [6.6, 2.9, 4.6, 1.3],\n",
            "       [5.2, 2.7, 3.9, 1.4],\n",
            "       [5. , 2. , 3.5, 1. ],\n",
            "       [5.9, 3. , 4.2, 1.5],\n",
            "       [6. , 2.2, 4. , 1. ],\n",
            "       [6.1, 2.9, 4.7, 1.4],\n",
            "       [5.6, 2.9, 3.6, 1.3],\n",
            "       [6.7, 3.1, 4.4, 1.4],\n",
            "       [5.6, 3. , 4.5, 1.5],\n",
            "       [5.8, 2.7, 4.1, 1. ],\n",
            "       [6.2, 2.2, 4.5, 1.5],\n",
            "       [5.6, 2.5, 3.9, 1.1],\n",
            "       [5.9, 3.2, 4.8, 1.8],\n",
            "       [6.1, 2.8, 4. , 1.3],\n",
            "       [6.3, 2.5, 4.9, 1.5],\n",
            "       [6.1, 2.8, 4.7, 1.2],\n",
            "       [6.4, 2.9, 4.3, 1.3],\n",
            "       [6.6, 3. , 4.4, 1.4],\n",
            "       [6.8, 2.8, 4.8, 1.4],\n",
            "       [6.7, 3. , 5. , 1.7],\n",
            "       [6. , 2.9, 4.5, 1.5],\n",
            "       [5.7, 2.6, 3.5, 1. ],\n",
            "       [5.5, 2.4, 3.8, 1.1],\n",
            "       [5.5, 2.4, 3.7, 1. ],\n",
            "       [5.8, 2.7, 3.9, 1.2],\n",
            "       [6. , 2.7, 5.1, 1.6],\n",
            "       [5.4, 3. , 4.5, 1.5],\n",
            "       [6. , 3.4, 4.5, 1.6],\n",
            "       [6.7, 3.1, 4.7, 1.5],\n",
            "       [6.3, 2.3, 4.4, 1.3],\n",
            "       [5.6, 3. , 4.1, 1.3],\n",
            "       [5.5, 2.5, 4. , 1.3],\n",
            "       [5.5, 2.6, 4.4, 1.2],\n",
            "       [6.1, 3. , 4.6, 1.4],\n",
            "       [5.8, 2.6, 4. , 1.2],\n",
            "       [5. , 2.3, 3.3, 1. ],\n",
            "       [5.6, 2.7, 4.2, 1.3],\n",
            "       [5.7, 3. , 4.2, 1.2],\n",
            "       [5.7, 2.9, 4.2, 1.3],\n",
            "       [6.2, 2.9, 4.3, 1.3],\n",
            "       [5.1, 2.5, 3. , 1.1],\n",
            "       [5.7, 2.8, 4.1, 1.3],\n",
            "       [6.3, 3.3, 6. , 2.5],\n",
            "       [5.8, 2.7, 5.1, 1.9],\n",
            "       [7.1, 3. , 5.9, 2.1],\n",
            "       [6.3, 2.9, 5.6, 1.8],\n",
            "       [6.5, 3. , 5.8, 2.2],\n",
            "       [7.6, 3. , 6.6, 2.1],\n",
            "       [4.9, 2.5, 4.5, 1.7],\n",
            "       [7.3, 2.9, 6.3, 1.8],\n",
            "       [6.7, 2.5, 5.8, 1.8],\n",
            "       [7.2, 3.6, 6.1, 2.5],\n",
            "       [6.5, 3.2, 5.1, 2. ],\n",
            "       [6.4, 2.7, 5.3, 1.9],\n",
            "       [6.8, 3. , 5.5, 2.1],\n",
            "       [5.7, 2.5, 5. , 2. ],\n",
            "       [5.8, 2.8, 5.1, 2.4],\n",
            "       [6.4, 3.2, 5.3, 2.3],\n",
            "       [6.5, 3. , 5.5, 1.8],\n",
            "       [7.7, 3.8, 6.7, 2.2],\n",
            "       [7.7, 2.6, 6.9, 2.3],\n",
            "       [6. , 2.2, 5. , 1.5],\n",
            "       [6.9, 3.2, 5.7, 2.3],\n",
            "       [5.6, 2.8, 4.9, 2. ],\n",
            "       [7.7, 2.8, 6.7, 2. ],\n",
            "       [6.3, 2.7, 4.9, 1.8],\n",
            "       [6.7, 3.3, 5.7, 2.1],\n",
            "       [7.2, 3.2, 6. , 1.8],\n",
            "       [6.2, 2.8, 4.8, 1.8],\n",
            "       [6.1, 3. , 4.9, 1.8],\n",
            "       [6.4, 2.8, 5.6, 2.1],\n",
            "       [7.2, 3. , 5.8, 1.6],\n",
            "       [7.4, 2.8, 6.1, 1.9],\n",
            "       [7.9, 3.8, 6.4, 2. ],\n",
            "       [6.4, 2.8, 5.6, 2.2],\n",
            "       [6.3, 2.8, 5.1, 1.5],\n",
            "       [6.1, 2.6, 5.6, 1.4],\n",
            "       [7.7, 3. , 6.1, 2.3],\n",
            "       [6.3, 3.4, 5.6, 2.4],\n",
            "       [6.4, 3.1, 5.5, 1.8],\n",
            "       [6. , 3. , 4.8, 1.8],\n",
            "       [6.9, 3.1, 5.4, 2.1],\n",
            "       [6.7, 3.1, 5.6, 2.4],\n",
            "       [6.9, 3.1, 5.1, 2.3],\n",
            "       [5.8, 2.7, 5.1, 1.9],\n",
            "       [6.8, 3.2, 5.9, 2.3],\n",
            "       [6.7, 3.3, 5.7, 2.5],\n",
            "       [6.7, 3. , 5.2, 2.3],\n",
            "       [6.3, 2.5, 5. , 1.9],\n",
            "       [6.5, 3. , 5.2, 2. ],\n",
            "       [6.2, 3.4, 5.4, 2.3],\n",
            "       [5.9, 3. , 5.1, 1.8]]), 'target': array([0, 0, 0, 0, 0, 0, 0, 0, 0, 0, 0, 0, 0, 0, 0, 0, 0, 0, 0, 0, 0, 0,\n",
            "       0, 0, 0, 0, 0, 0, 0, 0, 0, 0, 0, 0, 0, 0, 0, 0, 0, 0, 0, 0, 0, 0,\n",
            "       0, 0, 0, 0, 0, 0, 1, 1, 1, 1, 1, 1, 1, 1, 1, 1, 1, 1, 1, 1, 1, 1,\n",
            "       1, 1, 1, 1, 1, 1, 1, 1, 1, 1, 1, 1, 1, 1, 1, 1, 1, 1, 1, 1, 1, 1,\n",
            "       1, 1, 1, 1, 1, 1, 1, 1, 1, 1, 1, 1, 2, 2, 2, 2, 2, 2, 2, 2, 2, 2,\n",
            "       2, 2, 2, 2, 2, 2, 2, 2, 2, 2, 2, 2, 2, 2, 2, 2, 2, 2, 2, 2, 2, 2,\n",
            "       2, 2, 2, 2, 2, 2, 2, 2, 2, 2, 2, 2, 2, 2, 2, 2, 2, 2]), 'frame': None, 'target_names': array(['setosa', 'versicolor', 'virginica'], dtype='<U10'), 'DESCR': '.. _iris_dataset:\\n\\nIris plants dataset\\n--------------------\\n\\n**Data Set Characteristics:**\\n\\n    :Number of Instances: 150 (50 in each of three classes)\\n    :Number of Attributes: 4 numeric, predictive attributes and the class\\n    :Attribute Information:\\n        - sepal length in cm\\n        - sepal width in cm\\n        - petal length in cm\\n        - petal width in cm\\n        - class:\\n                - Iris-Setosa\\n                - Iris-Versicolour\\n                - Iris-Virginica\\n                \\n    :Summary Statistics:\\n\\n    ============== ==== ==== ======= ===== ====================\\n                    Min  Max   Mean    SD   Class Correlation\\n    ============== ==== ==== ======= ===== ====================\\n    sepal length:   4.3  7.9   5.84   0.83    0.7826\\n    sepal width:    2.0  4.4   3.05   0.43   -0.4194\\n    petal length:   1.0  6.9   3.76   1.76    0.9490  (high!)\\n    petal width:    0.1  2.5   1.20   0.76    0.9565  (high!)\\n    ============== ==== ==== ======= ===== ====================\\n\\n    :Missing Attribute Values: None\\n    :Class Distribution: 33.3% for each of 3 classes.\\n    :Creator: R.A. Fisher\\n    :Donor: Michael Marshall (MARSHALL%PLU@io.arc.nasa.gov)\\n    :Date: July, 1988\\n\\nThe famous Iris database, first used by Sir R.A. Fisher. The dataset is taken\\nfrom Fisher\\'s paper. Note that it\\'s the same as in R, but not as in the UCI\\nMachine Learning Repository, which has two wrong data points.\\n\\nThis is perhaps the best known database to be found in the\\npattern recognition literature.  Fisher\\'s paper is a classic in the field and\\nis referenced frequently to this day.  (See Duda & Hart, for example.)  The\\ndata set contains 3 classes of 50 instances each, where each class refers to a\\ntype of iris plant.  One class is linearly separable from the other 2; the\\nlatter are NOT linearly separable from each other.\\n\\n|details-start|\\n**References**\\n|details-split|\\n\\n- Fisher, R.A. \"The use of multiple measurements in taxonomic problems\"\\n  Annual Eugenics, 7, Part II, 179-188 (1936); also in \"Contributions to\\n  Mathematical Statistics\" (John Wiley, NY, 1950).\\n- Duda, R.O., & Hart, P.E. (1973) Pattern Classification and Scene Analysis.\\n  (Q327.D83) John Wiley & Sons.  ISBN 0-471-22361-1.  See page 218.\\n- Dasarathy, B.V. (1980) \"Nosing Around the Neighborhood: A New System\\n  Structure and Classification Rule for Recognition in Partially Exposed\\n  Environments\".  IEEE Transactions on Pattern Analysis and Machine\\n  Intelligence, Vol. PAMI-2, No. 1, 67-71.\\n- Gates, G.W. (1972) \"The Reduced Nearest Neighbor Rule\".  IEEE Transactions\\n  on Information Theory, May 1972, 431-433.\\n- See also: 1988 MLC Proceedings, 54-64.  Cheeseman et al\"s AUTOCLASS II\\n  conceptual clustering system finds 3 classes in the data.\\n- Many, many more ...\\n\\n|details-end|', 'feature_names': ['sepal length (cm)', 'sepal width (cm)', 'petal length (cm)', 'petal width (cm)'], 'filename': 'iris.csv', 'data_module': 'sklearn.datasets.data'}\n"
          ]
        }
      ],
      "source": [
        "print(iris)"
      ]
    },
    {
      "cell_type": "code",
      "execution_count": 4,
      "metadata": {},
      "outputs": [
        {
          "name": "stdout",
          "output_type": "stream",
          "text": [
            "[[5.1 3.5 1.4 0.2]\n",
            " [4.9 3.  1.4 0.2]\n",
            " [4.7 3.2 1.3 0.2]\n",
            " [4.6 3.1 1.5 0.2]\n",
            " [5.  3.6 1.4 0.2]\n",
            " [5.4 3.9 1.7 0.4]\n",
            " [4.6 3.4 1.4 0.3]\n",
            " [5.  3.4 1.5 0.2]\n",
            " [4.4 2.9 1.4 0.2]\n",
            " [4.9 3.1 1.5 0.1]\n",
            " [5.4 3.7 1.5 0.2]\n",
            " [4.8 3.4 1.6 0.2]\n",
            " [4.8 3.  1.4 0.1]\n",
            " [4.3 3.  1.1 0.1]\n",
            " [5.8 4.  1.2 0.2]\n",
            " [5.7 4.4 1.5 0.4]\n",
            " [5.4 3.9 1.3 0.4]\n",
            " [5.1 3.5 1.4 0.3]\n",
            " [5.7 3.8 1.7 0.3]\n",
            " [5.1 3.8 1.5 0.3]\n",
            " [5.4 3.4 1.7 0.2]\n",
            " [5.1 3.7 1.5 0.4]\n",
            " [4.6 3.6 1.  0.2]\n",
            " [5.1 3.3 1.7 0.5]\n",
            " [4.8 3.4 1.9 0.2]\n",
            " [5.  3.  1.6 0.2]\n",
            " [5.  3.4 1.6 0.4]\n",
            " [5.2 3.5 1.5 0.2]\n",
            " [5.2 3.4 1.4 0.2]\n",
            " [4.7 3.2 1.6 0.2]\n",
            " [4.8 3.1 1.6 0.2]\n",
            " [5.4 3.4 1.5 0.4]\n",
            " [5.2 4.1 1.5 0.1]\n",
            " [5.5 4.2 1.4 0.2]\n",
            " [4.9 3.1 1.5 0.2]\n",
            " [5.  3.2 1.2 0.2]\n",
            " [5.5 3.5 1.3 0.2]\n",
            " [4.9 3.6 1.4 0.1]\n",
            " [4.4 3.  1.3 0.2]\n",
            " [5.1 3.4 1.5 0.2]\n",
            " [5.  3.5 1.3 0.3]\n",
            " [4.5 2.3 1.3 0.3]\n",
            " [4.4 3.2 1.3 0.2]\n",
            " [5.  3.5 1.6 0.6]\n",
            " [5.1 3.8 1.9 0.4]\n",
            " [4.8 3.  1.4 0.3]\n",
            " [5.1 3.8 1.6 0.2]\n",
            " [4.6 3.2 1.4 0.2]\n",
            " [5.3 3.7 1.5 0.2]\n",
            " [5.  3.3 1.4 0.2]\n",
            " [7.  3.2 4.7 1.4]\n",
            " [6.4 3.2 4.5 1.5]\n",
            " [6.9 3.1 4.9 1.5]\n",
            " [5.5 2.3 4.  1.3]\n",
            " [6.5 2.8 4.6 1.5]\n",
            " [5.7 2.8 4.5 1.3]\n",
            " [6.3 3.3 4.7 1.6]\n",
            " [4.9 2.4 3.3 1. ]\n",
            " [6.6 2.9 4.6 1.3]\n",
            " [5.2 2.7 3.9 1.4]\n",
            " [5.  2.  3.5 1. ]\n",
            " [5.9 3.  4.2 1.5]\n",
            " [6.  2.2 4.  1. ]\n",
            " [6.1 2.9 4.7 1.4]\n",
            " [5.6 2.9 3.6 1.3]\n",
            " [6.7 3.1 4.4 1.4]\n",
            " [5.6 3.  4.5 1.5]\n",
            " [5.8 2.7 4.1 1. ]\n",
            " [6.2 2.2 4.5 1.5]\n",
            " [5.6 2.5 3.9 1.1]\n",
            " [5.9 3.2 4.8 1.8]\n",
            " [6.1 2.8 4.  1.3]\n",
            " [6.3 2.5 4.9 1.5]\n",
            " [6.1 2.8 4.7 1.2]\n",
            " [6.4 2.9 4.3 1.3]\n",
            " [6.6 3.  4.4 1.4]\n",
            " [6.8 2.8 4.8 1.4]\n",
            " [6.7 3.  5.  1.7]\n",
            " [6.  2.9 4.5 1.5]\n",
            " [5.7 2.6 3.5 1. ]\n",
            " [5.5 2.4 3.8 1.1]\n",
            " [5.5 2.4 3.7 1. ]\n",
            " [5.8 2.7 3.9 1.2]\n",
            " [6.  2.7 5.1 1.6]\n",
            " [5.4 3.  4.5 1.5]\n",
            " [6.  3.4 4.5 1.6]\n",
            " [6.7 3.1 4.7 1.5]\n",
            " [6.3 2.3 4.4 1.3]\n",
            " [5.6 3.  4.1 1.3]\n",
            " [5.5 2.5 4.  1.3]\n",
            " [5.5 2.6 4.4 1.2]\n",
            " [6.1 3.  4.6 1.4]\n",
            " [5.8 2.6 4.  1.2]\n",
            " [5.  2.3 3.3 1. ]\n",
            " [5.6 2.7 4.2 1.3]\n",
            " [5.7 3.  4.2 1.2]\n",
            " [5.7 2.9 4.2 1.3]\n",
            " [6.2 2.9 4.3 1.3]\n",
            " [5.1 2.5 3.  1.1]\n",
            " [5.7 2.8 4.1 1.3]\n",
            " [6.3 3.3 6.  2.5]\n",
            " [5.8 2.7 5.1 1.9]\n",
            " [7.1 3.  5.9 2.1]\n",
            " [6.3 2.9 5.6 1.8]\n",
            " [6.5 3.  5.8 2.2]\n",
            " [7.6 3.  6.6 2.1]\n",
            " [4.9 2.5 4.5 1.7]\n",
            " [7.3 2.9 6.3 1.8]\n",
            " [6.7 2.5 5.8 1.8]\n",
            " [7.2 3.6 6.1 2.5]\n",
            " [6.5 3.2 5.1 2. ]\n",
            " [6.4 2.7 5.3 1.9]\n",
            " [6.8 3.  5.5 2.1]\n",
            " [5.7 2.5 5.  2. ]\n",
            " [5.8 2.8 5.1 2.4]\n",
            " [6.4 3.2 5.3 2.3]\n",
            " [6.5 3.  5.5 1.8]\n",
            " [7.7 3.8 6.7 2.2]\n",
            " [7.7 2.6 6.9 2.3]\n",
            " [6.  2.2 5.  1.5]\n",
            " [6.9 3.2 5.7 2.3]\n",
            " [5.6 2.8 4.9 2. ]\n",
            " [7.7 2.8 6.7 2. ]\n",
            " [6.3 2.7 4.9 1.8]\n",
            " [6.7 3.3 5.7 2.1]\n",
            " [7.2 3.2 6.  1.8]\n",
            " [6.2 2.8 4.8 1.8]\n",
            " [6.1 3.  4.9 1.8]\n",
            " [6.4 2.8 5.6 2.1]\n",
            " [7.2 3.  5.8 1.6]\n",
            " [7.4 2.8 6.1 1.9]\n",
            " [7.9 3.8 6.4 2. ]\n",
            " [6.4 2.8 5.6 2.2]\n",
            " [6.3 2.8 5.1 1.5]\n",
            " [6.1 2.6 5.6 1.4]\n",
            " [7.7 3.  6.1 2.3]\n",
            " [6.3 3.4 5.6 2.4]\n",
            " [6.4 3.1 5.5 1.8]\n",
            " [6.  3.  4.8 1.8]\n",
            " [6.9 3.1 5.4 2.1]\n",
            " [6.7 3.1 5.6 2.4]\n",
            " [6.9 3.1 5.1 2.3]\n",
            " [5.8 2.7 5.1 1.9]\n",
            " [6.8 3.2 5.9 2.3]\n",
            " [6.7 3.3 5.7 2.5]\n",
            " [6.7 3.  5.2 2.3]\n",
            " [6.3 2.5 5.  1.9]\n",
            " [6.5 3.  5.2 2. ]\n",
            " [6.2 3.4 5.4 2.3]\n",
            " [5.9 3.  5.1 1.8]]\n"
          ]
        }
      ],
      "source": [
        "print(X)"
      ]
    },
    {
      "cell_type": "code",
      "execution_count": 5,
      "metadata": {},
      "outputs": [
        {
          "name": "stdout",
          "output_type": "stream",
          "text": [
            "Requirement already satisfied: scikit-learn in c:\\users\\administrator\\anaconda3\\envs\\learn-env\\lib\\site-packages (1.3.2)\n",
            "Requirement already satisfied: numpy in c:\\users\\administrator\\anaconda3\\envs\\learn-env\\lib\\site-packages (1.24.4)\n",
            "Requirement already satisfied: scipy in c:\\users\\administrator\\anaconda3\\envs\\learn-env\\lib\\site-packages (1.10.1)\n",
            "Requirement already satisfied: joblib>=1.1.1 in c:\\users\\administrator\\anaconda3\\envs\\learn-env\\lib\\site-packages (from scikit-learn) (1.4.2)\n",
            "Requirement already satisfied: threadpoolctl>=2.0.0 in c:\\users\\administrator\\anaconda3\\envs\\learn-env\\lib\\site-packages (from scikit-learn) (2.1.0)\n"
          ]
        }
      ],
      "source": [
        "! pip install --upgrade scikit-learn numpy scipy"
      ]
    },
    {
      "cell_type": "code",
      "execution_count": 6,
      "metadata": {
        "colab": {
          "base_uri": "https://localhost:8080/",
          "height": 80
        },
        "id": "lmVBrnNeYGMG",
        "outputId": "e055b06b-231c-4618-e20a-9435bf0f91c4"
      },
      "outputs": [
        {
          "name": "stderr",
          "output_type": "stream",
          "text": [
            "c:\\Users\\Administrator\\anaconda3\\envs\\learn-env\\lib\\site-packages\\sklearn\\cluster\\_kmeans.py:1416: FutureWarning: The default value of `n_init` will change from 10 to 'auto' in 1.4. Set the value of `n_init` explicitly to suppress the warning\n",
            "  super()._check_params_vs_input(X, default_n_init=10)\n"
          ]
        },
        {
          "ename": "AttributeError",
          "evalue": "'NoneType' object has no attribute 'split'",
          "output_type": "error",
          "traceback": [
            "\u001b[1;31m---------------------------------------------------------------------------\u001b[0m",
            "\u001b[1;31mAttributeError\u001b[0m                            Traceback (most recent call last)",
            "Cell \u001b[1;32mIn[6], line 3\u001b[0m\n\u001b[0;32m      1\u001b[0m \u001b[38;5;66;03m# Apply KMeans Clustering (let's assume we want 3 clusters)\u001b[39;00m\n\u001b[0;32m      2\u001b[0m kmeans \u001b[38;5;241m=\u001b[39m KMeans(n_clusters\u001b[38;5;241m=\u001b[39m\u001b[38;5;241m3\u001b[39m, random_state\u001b[38;5;241m=\u001b[39m\u001b[38;5;241m42\u001b[39m)\n\u001b[1;32m----> 3\u001b[0m \u001b[43mkmeans\u001b[49m\u001b[38;5;241;43m.\u001b[39;49m\u001b[43mfit\u001b[49m\u001b[43m(\u001b[49m\u001b[43mX\u001b[49m\u001b[43m)\u001b[49m\n",
            "File \u001b[1;32mc:\\Users\\Administrator\\anaconda3\\envs\\learn-env\\lib\\site-packages\\sklearn\\base.py:1152\u001b[0m, in \u001b[0;36m_fit_context.<locals>.decorator.<locals>.wrapper\u001b[1;34m(estimator, *args, **kwargs)\u001b[0m\n\u001b[0;32m   1145\u001b[0m     estimator\u001b[38;5;241m.\u001b[39m_validate_params()\n\u001b[0;32m   1147\u001b[0m \u001b[38;5;28;01mwith\u001b[39;00m config_context(\n\u001b[0;32m   1148\u001b[0m     skip_parameter_validation\u001b[38;5;241m=\u001b[39m(\n\u001b[0;32m   1149\u001b[0m         prefer_skip_nested_validation \u001b[38;5;129;01mor\u001b[39;00m global_skip_validation\n\u001b[0;32m   1150\u001b[0m     )\n\u001b[0;32m   1151\u001b[0m ):\n\u001b[1;32m-> 1152\u001b[0m     \u001b[38;5;28;01mreturn\u001b[39;00m \u001b[43mfit_method\u001b[49m\u001b[43m(\u001b[49m\u001b[43mestimator\u001b[49m\u001b[43m,\u001b[49m\u001b[43m \u001b[49m\u001b[38;5;241;43m*\u001b[39;49m\u001b[43margs\u001b[49m\u001b[43m,\u001b[49m\u001b[43m \u001b[49m\u001b[38;5;241;43m*\u001b[39;49m\u001b[38;5;241;43m*\u001b[39;49m\u001b[43mkwargs\u001b[49m\u001b[43m)\u001b[49m\n",
            "File \u001b[1;32mc:\\Users\\Administrator\\anaconda3\\envs\\learn-env\\lib\\site-packages\\sklearn\\cluster\\_kmeans.py:1513\u001b[0m, in \u001b[0;36mKMeans.fit\u001b[1;34m(self, X, y, sample_weight)\u001b[0m\n\u001b[0;32m   1511\u001b[0m \u001b[38;5;28;01melse\u001b[39;00m:\n\u001b[0;32m   1512\u001b[0m     kmeans_single \u001b[38;5;241m=\u001b[39m _kmeans_single_lloyd\n\u001b[1;32m-> 1513\u001b[0m     \u001b[38;5;28;43mself\u001b[39;49m\u001b[38;5;241;43m.\u001b[39;49m\u001b[43m_check_mkl_vcomp\u001b[49m\u001b[43m(\u001b[49m\u001b[43mX\u001b[49m\u001b[43m,\u001b[49m\u001b[43m \u001b[49m\u001b[43mX\u001b[49m\u001b[38;5;241;43m.\u001b[39;49m\u001b[43mshape\u001b[49m\u001b[43m[\u001b[49m\u001b[38;5;241;43m0\u001b[39;49m\u001b[43m]\u001b[49m\u001b[43m)\u001b[49m\n\u001b[0;32m   1515\u001b[0m best_inertia, best_labels \u001b[38;5;241m=\u001b[39m \u001b[38;5;28;01mNone\u001b[39;00m, \u001b[38;5;28;01mNone\u001b[39;00m\n\u001b[0;32m   1517\u001b[0m \u001b[38;5;28;01mfor\u001b[39;00m i \u001b[38;5;129;01min\u001b[39;00m \u001b[38;5;28mrange\u001b[39m(\u001b[38;5;28mself\u001b[39m\u001b[38;5;241m.\u001b[39m_n_init):\n\u001b[0;32m   1518\u001b[0m     \u001b[38;5;66;03m# Initialize centers\u001b[39;00m\n",
            "File \u001b[1;32mc:\\Users\\Administrator\\anaconda3\\envs\\learn-env\\lib\\site-packages\\sklearn\\cluster\\_kmeans.py:927\u001b[0m, in \u001b[0;36m_BaseKMeans._check_mkl_vcomp\u001b[1;34m(self, X, n_samples)\u001b[0m\n\u001b[0;32m    925\u001b[0m n_active_threads \u001b[38;5;241m=\u001b[39m \u001b[38;5;28mint\u001b[39m(np\u001b[38;5;241m.\u001b[39mceil(n_samples \u001b[38;5;241m/\u001b[39m CHUNK_SIZE))\n\u001b[0;32m    926\u001b[0m \u001b[38;5;28;01mif\u001b[39;00m n_active_threads \u001b[38;5;241m<\u001b[39m \u001b[38;5;28mself\u001b[39m\u001b[38;5;241m.\u001b[39m_n_threads:\n\u001b[1;32m--> 927\u001b[0m     modules \u001b[38;5;241m=\u001b[39m \u001b[43mthreadpool_info\u001b[49m\u001b[43m(\u001b[49m\u001b[43m)\u001b[49m\n\u001b[0;32m    928\u001b[0m     has_vcomp \u001b[38;5;241m=\u001b[39m \u001b[38;5;124m\"\u001b[39m\u001b[38;5;124mvcomp\u001b[39m\u001b[38;5;124m\"\u001b[39m \u001b[38;5;129;01min\u001b[39;00m [module[\u001b[38;5;124m\"\u001b[39m\u001b[38;5;124mprefix\u001b[39m\u001b[38;5;124m\"\u001b[39m] \u001b[38;5;28;01mfor\u001b[39;00m module \u001b[38;5;129;01min\u001b[39;00m modules]\n\u001b[0;32m    929\u001b[0m     has_mkl \u001b[38;5;241m=\u001b[39m (\u001b[38;5;124m\"\u001b[39m\u001b[38;5;124mmkl\u001b[39m\u001b[38;5;124m\"\u001b[39m, \u001b[38;5;124m\"\u001b[39m\u001b[38;5;124mintel\u001b[39m\u001b[38;5;124m\"\u001b[39m) \u001b[38;5;129;01min\u001b[39;00m [\n\u001b[0;32m    930\u001b[0m         (module[\u001b[38;5;124m\"\u001b[39m\u001b[38;5;124minternal_api\u001b[39m\u001b[38;5;124m\"\u001b[39m], module\u001b[38;5;241m.\u001b[39mget(\u001b[38;5;124m\"\u001b[39m\u001b[38;5;124mthreading_layer\u001b[39m\u001b[38;5;124m\"\u001b[39m, \u001b[38;5;28;01mNone\u001b[39;00m))\n\u001b[0;32m    931\u001b[0m         \u001b[38;5;28;01mfor\u001b[39;00m module \u001b[38;5;129;01min\u001b[39;00m modules\n\u001b[0;32m    932\u001b[0m     ]\n",
            "File \u001b[1;32mc:\\Users\\Administrator\\anaconda3\\envs\\learn-env\\lib\\site-packages\\sklearn\\utils\\fixes.py:85\u001b[0m, in \u001b[0;36mthreadpool_info\u001b[1;34m()\u001b[0m\n\u001b[0;32m     83\u001b[0m     \u001b[38;5;28;01mreturn\u001b[39;00m controller\u001b[38;5;241m.\u001b[39minfo()\n\u001b[0;32m     84\u001b[0m \u001b[38;5;28;01melse\u001b[39;00m:\n\u001b[1;32m---> 85\u001b[0m     \u001b[38;5;28;01mreturn\u001b[39;00m \u001b[43mthreadpoolctl\u001b[49m\u001b[38;5;241;43m.\u001b[39;49m\u001b[43mthreadpool_info\u001b[49m\u001b[43m(\u001b[49m\u001b[43m)\u001b[49m\n",
            "File \u001b[1;32mc:\\Users\\Administrator\\anaconda3\\envs\\learn-env\\lib\\site-packages\\threadpoolctl.py:124\u001b[0m, in \u001b[0;36mthreadpool_info\u001b[1;34m()\u001b[0m\n\u001b[0;32m    107\u001b[0m \u001b[38;5;129m@_format_docstring\u001b[39m(USER_APIS\u001b[38;5;241m=\u001b[39m\u001b[38;5;28mlist\u001b[39m(_ALL_USER_APIS),\n\u001b[0;32m    108\u001b[0m                    INTERNAL_APIS\u001b[38;5;241m=\u001b[39m_ALL_INTERNAL_APIS)\n\u001b[0;32m    109\u001b[0m \u001b[38;5;28;01mdef\u001b[39;00m \u001b[38;5;21mthreadpool_info\u001b[39m():\n\u001b[0;32m    110\u001b[0m     \u001b[38;5;124;03m\"\"\"Return the maximal number of threads for each detected library.\u001b[39;00m\n\u001b[0;32m    111\u001b[0m \n\u001b[0;32m    112\u001b[0m \u001b[38;5;124;03m    Return a list with all the supported modules that have been found. Each\u001b[39;00m\n\u001b[1;32m   (...)\u001b[0m\n\u001b[0;32m    122\u001b[0m \u001b[38;5;124;03m    In addition, each module may contain internal_api specific entries.\u001b[39;00m\n\u001b[0;32m    123\u001b[0m \u001b[38;5;124;03m    \"\"\"\u001b[39;00m\n\u001b[1;32m--> 124\u001b[0m     \u001b[38;5;28;01mreturn\u001b[39;00m \u001b[43m_ThreadpoolInfo\u001b[49m\u001b[43m(\u001b[49m\u001b[43muser_api\u001b[49m\u001b[38;5;241;43m=\u001b[39;49m\u001b[43m_ALL_USER_APIS\u001b[49m\u001b[43m)\u001b[49m\u001b[38;5;241m.\u001b[39mtodicts()\n",
            "File \u001b[1;32mc:\\Users\\Administrator\\anaconda3\\envs\\learn-env\\lib\\site-packages\\threadpoolctl.py:340\u001b[0m, in \u001b[0;36m_ThreadpoolInfo.__init__\u001b[1;34m(self, user_api, prefixes, modules)\u001b[0m\n\u001b[0;32m    337\u001b[0m     \u001b[38;5;28mself\u001b[39m\u001b[38;5;241m.\u001b[39muser_api \u001b[38;5;241m=\u001b[39m [] \u001b[38;5;28;01mif\u001b[39;00m user_api \u001b[38;5;129;01mis\u001b[39;00m \u001b[38;5;28;01mNone\u001b[39;00m \u001b[38;5;28;01melse\u001b[39;00m user_api\n\u001b[0;32m    339\u001b[0m     \u001b[38;5;28mself\u001b[39m\u001b[38;5;241m.\u001b[39mmodules \u001b[38;5;241m=\u001b[39m []\n\u001b[1;32m--> 340\u001b[0m     \u001b[38;5;28;43mself\u001b[39;49m\u001b[38;5;241;43m.\u001b[39;49m\u001b[43m_load_modules\u001b[49m\u001b[43m(\u001b[49m\u001b[43m)\u001b[49m\n\u001b[0;32m    341\u001b[0m     \u001b[38;5;28mself\u001b[39m\u001b[38;5;241m.\u001b[39m_warn_if_incompatible_openmp()\n\u001b[0;32m    342\u001b[0m \u001b[38;5;28;01melse\u001b[39;00m:\n",
            "File \u001b[1;32mc:\\Users\\Administrator\\anaconda3\\envs\\learn-env\\lib\\site-packages\\threadpoolctl.py:373\u001b[0m, in \u001b[0;36m_ThreadpoolInfo._load_modules\u001b[1;34m(self)\u001b[0m\n\u001b[0;32m    371\u001b[0m     \u001b[38;5;28mself\u001b[39m\u001b[38;5;241m.\u001b[39m_find_modules_with_dyld()\n\u001b[0;32m    372\u001b[0m \u001b[38;5;28;01melif\u001b[39;00m sys\u001b[38;5;241m.\u001b[39mplatform \u001b[38;5;241m==\u001b[39m \u001b[38;5;124m\"\u001b[39m\u001b[38;5;124mwin32\u001b[39m\u001b[38;5;124m\"\u001b[39m:\n\u001b[1;32m--> 373\u001b[0m     \u001b[38;5;28;43mself\u001b[39;49m\u001b[38;5;241;43m.\u001b[39;49m\u001b[43m_find_modules_with_enum_process_module_ex\u001b[49m\u001b[43m(\u001b[49m\u001b[43m)\u001b[49m\n\u001b[0;32m    374\u001b[0m \u001b[38;5;28;01melse\u001b[39;00m:\n\u001b[0;32m    375\u001b[0m     \u001b[38;5;28mself\u001b[39m\u001b[38;5;241m.\u001b[39m_find_modules_with_dl_iterate_phdr()\n",
            "File \u001b[1;32mc:\\Users\\Administrator\\anaconda3\\envs\\learn-env\\lib\\site-packages\\threadpoolctl.py:485\u001b[0m, in \u001b[0;36m_ThreadpoolInfo._find_modules_with_enum_process_module_ex\u001b[1;34m(self)\u001b[0m\n\u001b[0;32m    482\u001b[0m         filepath \u001b[38;5;241m=\u001b[39m buf\u001b[38;5;241m.\u001b[39mvalue\n\u001b[0;32m    484\u001b[0m         \u001b[38;5;66;03m# Store the module if it is supported and selected\u001b[39;00m\n\u001b[1;32m--> 485\u001b[0m         \u001b[38;5;28;43mself\u001b[39;49m\u001b[38;5;241;43m.\u001b[39;49m\u001b[43m_make_module_from_path\u001b[49m\u001b[43m(\u001b[49m\u001b[43mfilepath\u001b[49m\u001b[43m)\u001b[49m\n\u001b[0;32m    486\u001b[0m \u001b[38;5;28;01mfinally\u001b[39;00m:\n\u001b[0;32m    487\u001b[0m     kernel_32\u001b[38;5;241m.\u001b[39mCloseHandle(h_process)\n",
            "File \u001b[1;32mc:\\Users\\Administrator\\anaconda3\\envs\\learn-env\\lib\\site-packages\\threadpoolctl.py:515\u001b[0m, in \u001b[0;36m_ThreadpoolInfo._make_module_from_path\u001b[1;34m(self, filepath)\u001b[0m\n\u001b[0;32m    513\u001b[0m \u001b[38;5;28;01mif\u001b[39;00m prefix \u001b[38;5;129;01min\u001b[39;00m \u001b[38;5;28mself\u001b[39m\u001b[38;5;241m.\u001b[39mprefixes \u001b[38;5;129;01mor\u001b[39;00m user_api \u001b[38;5;129;01min\u001b[39;00m \u001b[38;5;28mself\u001b[39m\u001b[38;5;241m.\u001b[39muser_api:\n\u001b[0;32m    514\u001b[0m     module_class \u001b[38;5;241m=\u001b[39m \u001b[38;5;28mglobals\u001b[39m()[module_class]\n\u001b[1;32m--> 515\u001b[0m     module \u001b[38;5;241m=\u001b[39m \u001b[43mmodule_class\u001b[49m\u001b[43m(\u001b[49m\u001b[43mfilepath\u001b[49m\u001b[43m,\u001b[49m\u001b[43m \u001b[49m\u001b[43mprefix\u001b[49m\u001b[43m,\u001b[49m\u001b[43m \u001b[49m\u001b[43muser_api\u001b[49m\u001b[43m,\u001b[49m\u001b[43m \u001b[49m\u001b[43minternal_api\u001b[49m\u001b[43m)\u001b[49m\n\u001b[0;32m    516\u001b[0m     \u001b[38;5;28mself\u001b[39m\u001b[38;5;241m.\u001b[39mmodules\u001b[38;5;241m.\u001b[39mappend(module)\n",
            "File \u001b[1;32mc:\\Users\\Administrator\\anaconda3\\envs\\learn-env\\lib\\site-packages\\threadpoolctl.py:606\u001b[0m, in \u001b[0;36m_Module.__init__\u001b[1;34m(self, filepath, prefix, user_api, internal_api)\u001b[0m\n\u001b[0;32m    604\u001b[0m \u001b[38;5;28mself\u001b[39m\u001b[38;5;241m.\u001b[39minternal_api \u001b[38;5;241m=\u001b[39m internal_api\n\u001b[0;32m    605\u001b[0m \u001b[38;5;28mself\u001b[39m\u001b[38;5;241m.\u001b[39m_dynlib \u001b[38;5;241m=\u001b[39m ctypes\u001b[38;5;241m.\u001b[39mCDLL(filepath, mode\u001b[38;5;241m=\u001b[39m_RTLD_NOLOAD)\n\u001b[1;32m--> 606\u001b[0m \u001b[38;5;28mself\u001b[39m\u001b[38;5;241m.\u001b[39mversion \u001b[38;5;241m=\u001b[39m \u001b[38;5;28;43mself\u001b[39;49m\u001b[38;5;241;43m.\u001b[39;49m\u001b[43mget_version\u001b[49m\u001b[43m(\u001b[49m\u001b[43m)\u001b[49m\n\u001b[0;32m    607\u001b[0m \u001b[38;5;28mself\u001b[39m\u001b[38;5;241m.\u001b[39mnum_threads \u001b[38;5;241m=\u001b[39m \u001b[38;5;28mself\u001b[39m\u001b[38;5;241m.\u001b[39mget_num_threads()\n\u001b[0;32m    608\u001b[0m \u001b[38;5;28mself\u001b[39m\u001b[38;5;241m.\u001b[39m_get_extra_info()\n",
            "File \u001b[1;32mc:\\Users\\Administrator\\anaconda3\\envs\\learn-env\\lib\\site-packages\\threadpoolctl.py:646\u001b[0m, in \u001b[0;36m_OpenBLASModule.get_version\u001b[1;34m(self)\u001b[0m\n\u001b[0;32m    643\u001b[0m get_config \u001b[38;5;241m=\u001b[39m \u001b[38;5;28mgetattr\u001b[39m(\u001b[38;5;28mself\u001b[39m\u001b[38;5;241m.\u001b[39m_dynlib, \u001b[38;5;124m\"\u001b[39m\u001b[38;5;124mopenblas_get_config\u001b[39m\u001b[38;5;124m\"\u001b[39m,\n\u001b[0;32m    644\u001b[0m                      \u001b[38;5;28;01mlambda\u001b[39;00m: \u001b[38;5;28;01mNone\u001b[39;00m)\n\u001b[0;32m    645\u001b[0m get_config\u001b[38;5;241m.\u001b[39mrestype \u001b[38;5;241m=\u001b[39m ctypes\u001b[38;5;241m.\u001b[39mc_char_p\n\u001b[1;32m--> 646\u001b[0m config \u001b[38;5;241m=\u001b[39m \u001b[43mget_config\u001b[49m\u001b[43m(\u001b[49m\u001b[43m)\u001b[49m\u001b[38;5;241;43m.\u001b[39;49m\u001b[43msplit\u001b[49m()\n\u001b[0;32m    647\u001b[0m \u001b[38;5;28;01mif\u001b[39;00m config[\u001b[38;5;241m0\u001b[39m] \u001b[38;5;241m==\u001b[39m \u001b[38;5;124mb\u001b[39m\u001b[38;5;124m\"\u001b[39m\u001b[38;5;124mOpenBLAS\u001b[39m\u001b[38;5;124m\"\u001b[39m:\n\u001b[0;32m    648\u001b[0m     \u001b[38;5;28;01mreturn\u001b[39;00m config[\u001b[38;5;241m1\u001b[39m]\u001b[38;5;241m.\u001b[39mdecode(\u001b[38;5;124m\"\u001b[39m\u001b[38;5;124mutf-8\u001b[39m\u001b[38;5;124m\"\u001b[39m)\n",
            "\u001b[1;31mAttributeError\u001b[0m: 'NoneType' object has no attribute 'split'"
          ]
        }
      ],
      "source": [
        "# Apply KMeans Clustering (let's assume we want 3 clusters)\n",
        "kmeans = KMeans(n_clusters=3, random_state=42)\n",
        "kmeans.fit(X)"
      ]
    },
    {
      "cell_type": "code",
      "execution_count": null,
      "metadata": {
        "id": "D2tFItBGYGMG"
      },
      "outputs": [],
      "source": [
        "# Get the cluster labels and centroids\n",
        "labels = kmeans.labels_\n",
        "centroids = kmeans.cluster_centers_\n"
      ]
    },
    {
      "cell_type": "code",
      "execution_count": null,
      "metadata": {
        "colab": {
          "base_uri": "https://localhost:8080/",
          "height": 564
        },
        "id": "LmcVWplPYGMH",
        "outputId": "e9d524b7-6f6a-4c9e-b20a-370de53da68f"
      },
      "outputs": [
        {
          "data": {
            "image/png": "[encoded data removed]",
            "text/plain": [
              "<Figure size 800x600 with 1 Axes>"
            ]
          },
          "metadata": {},
          "output_type": "display_data"
        }
      ],
      "source": [
        "# Visualize the result\n",
        "plt.figure(figsize=(8, 6))\n",
        "plt.scatter(X[:, 0], X[:, 1], c=labels, cmap='viridis', alpha=0.7)  # First two features for visualization\n",
        "plt.scatter(centroids[:, 0], centroids[:, 1], s=300, c='red', marker='X', label='Centroids')\n",
        "plt.title('K-Means Clustering (Iris Dataset)')\n",
        "plt.xlabel('Sepal Length')\n",
        "plt.ylabel('Sepal Width')\n",
        "plt.legend()\n",
        "plt.show()\n"
      ]
    },
    {
      "cell_type": "markdown",
      "metadata": {
        "id": "VIXF-SBJYGMH"
      },
      "source": [
        "**Explanation:**\n",
        "\n",
        ">> The code applies K-Means clustering on the Iris dataset and tries to divide the data into 3 clusters (since there are 3 species in the Iris dataset).\n",
        "\n",
        ">> The scatter plot shows the data points colored by their assigned clusters, and the red \"X\" markers represent the centroids of those clusters."
      ]
    },
    {
      "cell_type": "markdown",
      "metadata": {
        "id": "p6RwhJTSYGMH"
      },
      "source": [
        "## b. Hierarchical Agglomerative Clustering (HAC)\n",
        "\n",
        "Unlike K-Means, Hierarchical Agglomerative Clustering (HAC) doesn’t require you to specify the number of clusters beforehand. Instead, it starts with each data point as its own cluster and iteratively merges the closest clusters based on some similarity metric.\n",
        "\n",
        "**How HAC Works:**\n",
        "\n",
        "1. Start with each data point as its own cluster.\n",
        "2. Find the two closest clusters and merge them.\n",
        "3. Repeat step 2 until all data points are in a single cluster or the desired number of clusters is reached.\n",
        "\n",
        "**Pros:**\n",
        "\n",
        "You don't need to choose the number of clusters initially and it creates a dendrogram (tree-like diagram) that can help visualize the hierarchy of clusters.\n",
        "\n",
        "**Cons:**\n",
        "\n",
        " It can be computationally expensive for large datasets."
      ]
    },
    {
      "cell_type": "markdown",
      "metadata": {
        "id": "h9zWFDKXYGMI"
      },
      "source": [
        "## Step-by-Step Hierarchical Clustering Code:"
      ]
    },
    {
      "cell_type": "code",
      "execution_count": 18,
      "metadata": {
        "id": "e2L_kXjBYGMJ"
      },
      "outputs": [],
      "source": [
        "from sklearn.cluster import AgglomerativeClustering\n",
        "\n",
        "# Apply Agglomerative Clustering (let's assume we want 3 clusters)\n",
        "hierarchical = AgglomerativeClustering(n_clusters=3)\n",
        "labels_hierarchical = hierarchical.fit_predict(X)\n"
      ]
    },
    {
      "cell_type": "code",
      "execution_count": 19,
      "metadata": {
        "colab": {
          "base_uri": "https://localhost:8080/",
          "height": 564
        },
        "id": "uCya-DWaYGMK",
        "outputId": "342a501f-0b56-4fc4-9ff6-feedc9836ee5"
      },
      "outputs": [
        {
          "data": {
            "image/png": "[encoded data removed]",
            "text/plain": [
              "<Figure size 800x600 with 1 Axes>"
            ]
          },
          "metadata": {},
          "output_type": "display_data"
        }
      ],
      "source": [
        "\n",
        "# Visualize the result\n",
        "plt.figure(figsize=(8, 6))\n",
        "plt.scatter(X[:, 0], X[:, 1], c=labels_hierarchical, cmap='viridis', alpha=0.7)  # First two features for visualization\n",
        "plt.title('Hierarchical Agglomerative Clustering (Iris Dataset)')\n",
        "plt.xlabel('Sepal Length')\n",
        "plt.ylabel('Sepal Width')\n",
        "plt.show()\n"
      ]
    },
    {
      "cell_type": "markdown",
      "metadata": {
        "id": "pvslmtG-YGMK"
      },
      "source": [
        "**Explanation:**\n",
        "\n",
        ">> The scatter plot shows the data points grouped into clusters, but note that no centroids are shown because this method doesn't explicitly calculate centroids like K-Means."
      ]
    },
    {
      "cell_type": "markdown",
      "metadata": {
        "id": "nHYLM_fhYGMK"
      },
      "source": [
        "### Cluster Comparison:\n",
        "##### K-Means:\n",
        "> Works well for well-separated spherical clusters, but requires you to choose the number of clusters upfront.\n",
        "\n",
        "##### Hierarchical Clustering:\n",
        "> Doesn’t require specifying the number of clusters upfront, and instead builds a tree structure (dendrogram), which can be useful to visualize the relationships between clusters."
      ]
    },
    {
      "cell_type": "markdown",
      "metadata": {
        "id": "yy8MIOBTYGML"
      },
      "source": [
        "### Conclusion\n",
        "\n",
        "Clustering is a powerful unsupervised learning technique that can help discover patterns and group similar data points. Techniques like K-Means and Hierarchical Clustering are commonly used for a variety of applications, including customer segmentation and anomaly detection. Dimensionality reduction techniques like PCA play an essential role in making clustering algorithms more effective, especially for high-dimensional data.\n",
        "\n"
      ]
    },
    {
      "cell_type": "markdown",
      "metadata": {
        "id": "NqphXuAaYGML"
      },
      "source": [
        "## c. Market Segmentation Using Clustering\n",
        "\n",
        "Market segmentation involves grouping customers based on their characteristics to tailor marketing strategies. For instance, businesses may segment customers based on features such as income, spending habits, or demographic information.\n",
        "\n",
        "### Code Example: Simulating Market Segmentation\n",
        "Let's simulate customer data, apply K-Means, and analyze the segmentation."
      ]
    },
    {
      "cell_type": "code",
      "execution_count": 20,
      "metadata": {
        "id": "bVWfAhOJYGML"
      },
      "outputs": [],
      "source": [
        "# Simulating customer data: income and spending score\n",
        "from sklearn.datasets import make_blobs\n",
        "\n",
        "X_customer, _ = make_blobs(n_samples=500, centers=5, random_state=42)\n",
        "\n"
      ]
    },
    {
      "cell_type": "code",
      "execution_count": 21,
      "metadata": {},
      "outputs": [
        {
          "data": {
            "text/plain": [
              "array([[  4.62763206,   1.07591531],\n",
              "       [  1.93256454,   5.60156877],\n",
              "       [  0.74199584,   5.03390888],\n",
              "       [  1.3986115 ,   0.94878204],\n",
              "       [ -8.75041911,  -7.23162308],\n",
              "       [  3.9095122 ,   2.18962827],\n",
              "       [ -5.71184513,  -6.62568875],\n",
              "       [  2.31146888,   6.6167517 ],\n",
              "       [ -2.21307735,   9.2753414 ],\n",
              "       [ -2.58629933,   9.3554381 ],\n",
              "       [  5.38717244,   2.58353995],\n",
              "       [  4.68545068,   1.32156934],\n",
              "       [  3.04545118,   1.37379466],\n",
              "       [  1.47007719,   4.79438337],\n",
              "       [ -8.87331625,   9.09432355],\n",
              "       [ -9.09330497,   8.8275159 ],\n",
              "       [  4.16794697,   3.06212028],\n",
              "       [-11.48929757,   8.41502977],\n",
              "       [ -7.53026976,  -7.36723498],\n",
              "       [  3.19179449,   0.56570591],\n",
              "       [  2.63019674,   4.34806068],\n",
              "       [ -9.54267145,   5.91506162],\n",
              "       [ -5.25101165,  -8.26021105],\n",
              "       [ -9.761561  ,   5.97183831],\n",
              "       [ -2.1475616 ,   8.36916637],\n",
              "       [ -8.01515717,   7.39684088],\n",
              "       [ -3.83738367,   9.21114736],\n",
              "       [ -8.12736779,   7.76778623],\n",
              "       [ -6.78029489,  -6.12872247],\n",
              "       [  4.52533899,   3.210986  ],\n",
              "       [ -1.6966718 ,  10.37052616],\n",
              "       [ -4.05986105,   9.0828491 ],\n",
              "       [ -1.10640331,   7.61243507],\n",
              "       [  1.56999392,   1.73757223],\n",
              "       [  2.86294378,   3.50882758],\n",
              "       [ -2.58120774,  10.01781903],\n",
              "       [ -8.32066874,   6.5977791 ],\n",
              "       [  4.66438901,   2.47116798],\n",
              "       [ -9.07865315,   6.94870211],\n",
              "       [ -1.77073104,   9.18565441],\n",
              "       [ -8.58229802,   8.3062139 ],\n",
              "       [  5.15492652,   5.82590117],\n",
              "       [ -3.18611962,   9.62596242],\n",
              "       [ -6.98937166,   8.45008795],\n",
              "       [ -3.4172217 ,   7.60198243],\n",
              "       [ -6.30307023,  -6.56885944],\n",
              "       [ -2.40954626,   8.51081047],\n",
              "       [-11.5352144 ,   7.26922805],\n",
              "       [ -7.54225095,  -6.30951092],\n",
              "       [ -6.54202453,  -7.29198656],\n",
              "       [ -6.00850249,  -7.20613313],\n",
              "       [ -1.03130358,   8.49601591],\n",
              "       [  1.05532409,   4.1137402 ],\n",
              "       [  4.32460959,   2.7321389 ],\n",
              "       [  1.38456025,   3.6304546 ],\n",
              "       [  1.39915971,   3.60597444],\n",
              "       [  1.77512285,   3.47946731],\n",
              "       [ -8.1839621 ,   7.26793824],\n",
              "       [ -9.19929392,   8.48285272],\n",
              "       [ -8.27819476,  -6.31714036],\n",
              "       [ -7.32392045,  -6.5028091 ],\n",
              "       [ -2.52269485,   7.9565752 ],\n",
              "       [  1.40951154,   3.77375   ],\n",
              "       [ -8.41374136,  -5.60243277],\n",
              "       [ -1.54582149,   9.42706706],\n",
              "       [  1.00106742,   4.869808  ],\n",
              "       [  2.67250141,   4.06227569],\n",
              "       [ -6.26546049,  -6.12260188],\n",
              "       [  2.22522326,   2.64570744],\n",
              "       [  2.15040465,   3.4803999 ],\n",
              "       [  5.79798971,   2.76483238],\n",
              "       [  5.5938806 ,   2.62456094],\n",
              "       [  2.2893505 ,   5.05108235],\n",
              "       [  2.61473625,   2.159624  ],\n",
              "       [  1.85518215,   4.30816524],\n",
              "       [  4.88484541,   1.46622651],\n",
              "       [  5.59030267,   1.39626603],\n",
              "       [ -0.64342311,   9.48811905],\n",
              "       [ -9.56546493,   7.07600428],\n",
              "       [ -5.67841327,  -7.28818497],\n",
              "       [ -5.37727014,  -6.80601481],\n",
              "       [ -2.28173769,  10.32142888],\n",
              "       [  3.97809237,   2.82560302],\n",
              "       [ -8.53052599,   5.61335452],\n",
              "       [ -8.35821344,  -5.73635555],\n",
              "       [ -9.36105078,   8.37253214],\n",
              "       [  3.81765844,   2.2168569 ],\n",
              "       [  4.98163481,   3.84934052],\n",
              "       [ -1.71816568,   8.10489867],\n",
              "       [  5.05281029,   1.40944513],\n",
              "       [  2.80810039,   4.58690912],\n",
              "       [ -6.04393508,  -8.00981645],\n",
              "       [  3.65837019,   2.43527316],\n",
              "       [ -8.39481825,  -5.51323533],\n",
              "       [ -2.14780202,  10.55232269],\n",
              "       [  5.32183181,   1.66290293],\n",
              "       [ -2.95571258,   9.87068492],\n",
              "       [ -7.4332765 ,  -8.07798749],\n",
              "       [  4.83893853,   1.37295281],\n",
              "       [  2.15526991,   3.46133074],\n",
              "       [  1.57586662,   4.35554155],\n",
              "       [  2.0186977 ,   3.00308687],\n",
              "       [ -2.75458574,   8.26054996],\n",
              "       [  6.77291221,   0.02108188],\n",
              "       [ -2.54502366,  10.57892978],\n",
              "       [ -6.94570699,  -8.09112579],\n",
              "       [ -6.55269982,  -7.09921012],\n",
              "       [ -5.35650311,  -6.34119955],\n",
              "       [ -3.80074638,  -5.76053468],\n",
              "       [ -6.58985233,  -4.80470879],\n",
              "       [  3.86893723,   3.09136679],\n",
              "       [ -2.15141026,   9.57507065],\n",
              "       [  4.48809374,   2.56148689],\n",
              "       [  3.44280448,   3.59070526],\n",
              "       [ -8.0628857 ,  -8.91934177],\n",
              "       [  3.46927812,   4.35800633],\n",
              "       [ -8.65156099,   6.56813998],\n",
              "       [ -8.81989382,   7.67110462],\n",
              "       [ -5.32847522,  -6.76443496],\n",
              "       [  1.60211342,   3.87966695],\n",
              "       [ -8.87788291,   8.00502361],\n",
              "       [  3.58782426,   4.09570129],\n",
              "       [  1.84535301,   3.36315431],\n",
              "       [  1.38491311,   5.35046809],\n",
              "       [  1.57679771,   5.61483603],\n",
              "       [ -7.84455065,  -6.19405813],\n",
              "       [ -3.35599134,   7.4994389 ],\n",
              "       [  6.22589565,   0.73535419],\n",
              "       [ -7.63597794,  -8.3023633 ],\n",
              "       [  2.46231468,   3.65939733],\n",
              "       [  4.86397132,   1.98576208],\n",
              "       [ -9.81420101,   8.37716471],\n",
              "       [  1.97671422,   4.40479101],\n",
              "       [ -8.430075  ,   5.62093931],\n",
              "       [  3.80015699,   1.37377704],\n",
              "       [ -8.61619399,   6.84477429],\n",
              "       [ -6.94230629,  -5.92496727],\n",
              "       [  4.75339618,   2.63530036],\n",
              "       [  1.34590793,   5.96239199],\n",
              "       [  2.27168392,   5.73890484],\n",
              "       [ -6.69776094,  -6.63188901],\n",
              "       [ -6.80806095,  -7.35776704],\n",
              "       [ -9.69668554,   8.02383279],\n",
              "       [ -8.18409669,  -6.21043704],\n",
              "       [ -5.95344964,  -4.97069295],\n",
              "       [-10.06045557,   8.03652135],\n",
              "       [  1.97283653,   4.83627105],\n",
              "       [ -6.37871   ,  -7.85766484],\n",
              "       [ -9.9193843 ,   8.37667577],\n",
              "       [  2.2133993 ,   4.2078881 ],\n",
              "       [ -6.27824322,   7.22746302],\n",
              "       [  3.88074617,   2.12356347],\n",
              "       [ -2.41212007,   9.98293112],\n",
              "       [ -1.36637481,   9.76621916],\n",
              "       [ -1.98725606,   9.3112708 ],\n",
              "       [ -6.39257578,   7.4527441 ],\n",
              "       [  1.46710071,   6.04260863],\n",
              "       [  3.00662263,   3.94746271],\n",
              "       [ -6.75933156,  -6.36567076],\n",
              "       [ -3.39305506,   9.16801123],\n",
              "       [  1.45112125,   4.73403434],\n",
              "       [ -2.3360167 ,   9.39960351],\n",
              "       [ -6.60917037,  -6.9303477 ],\n",
              "       [ -9.17411246,   8.99254444],\n",
              "       [ -9.46314633,   7.34961397],\n",
              "       [ -7.74004056,  -7.26466514],\n",
              "       [ -8.27853731,   8.40430364],\n",
              "       [  5.45274096,   2.60279853],\n",
              "       [  3.82165815,   4.06555696],\n",
              "       [-10.67920199,   6.04394595],\n",
              "       [  4.15451529,   2.05504382],\n",
              "       [  4.99689432,   1.28026009],\n",
              "       [ -7.91430074,   7.13862078],\n",
              "       [  2.68084451,   6.17165609],\n",
              "       [ -5.19248556,  -5.99846984],\n",
              "       [  3.2288092 ,   3.34451588],\n",
              "       [ -2.98837186,   8.82862715],\n",
              "       [ -4.42796884,   8.98777225],\n",
              "       [ -6.04929137,  -7.73619342],\n",
              "       [  1.50501178,   5.570799  ],\n",
              "       [ -1.35060204,   8.19360381],\n",
              "       [ -5.12894273,   9.83618863],\n",
              "       [ -7.64288635,  -8.68499169],\n",
              "       [  4.9208707 ,   1.35047016],\n",
              "       [ -8.11665569,   6.19447114],\n",
              "       [ -4.11668086,   9.19891999],\n",
              "       [ -6.23425124,  -5.51147804],\n",
              "       [ -2.25164723,   8.93984021],\n",
              "       [ -2.41743685,   7.02671721],\n",
              "       [  1.94014906,   5.27874739],\n",
              "       [  4.32119836,   3.798613  ],\n",
              "       [  3.12050887,   1.48893561],\n",
              "       [  3.52569854,   5.03881385],\n",
              "       [ -3.92456837,   8.59364081],\n",
              "       [ -8.66746232,   7.13953958],\n",
              "       [ -8.2452265 ,   7.01397648],\n",
              "       [ -7.17285331,   8.33789298],\n",
              "       [  3.27805636,   3.26684425],\n",
              "       [ -8.74220698,   6.86124763],\n",
              "       [  6.76203503,   3.00563494],\n",
              "       [  1.80133606,   4.18833739],\n",
              "       [ -2.50408417,   8.77969899],\n",
              "       [ -3.74614833,   7.69382952],\n",
              "       [ -8.56674892,   6.04677434],\n",
              "       [  2.10458422,   5.22693193],\n",
              "       [ -3.21125072,   8.68662398],\n",
              "       [ -2.30033403,   7.054616  ],\n",
              "       [ -9.36284802,   7.81289748],\n",
              "       [  1.98761535,   4.39566629],\n",
              "       [  1.714522  ,   4.38060188],\n",
              "       [ -7.36723342,  -7.31266778],\n",
              "       [  2.70419172,   6.00815888],\n",
              "       [ -8.21651779,   5.7532982 ],\n",
              "       [  5.46529519,   2.78667932],\n",
              "       [  5.94535764,   1.99417353],\n",
              "       [  0.89957821,   4.5438613 ],\n",
              "       [ -7.90264936,   8.59507801],\n",
              "       [ -6.26496795,   7.38274135],\n",
              "       [ -4.91490206,  -6.84484604],\n",
              "       [ -2.85191214,   8.21200886],\n",
              "       [ -2.25870477,   9.36073434],\n",
              "       [ -6.95630326,   8.66894296],\n",
              "       [ -2.49619573,  10.46782021],\n",
              "       [  0.43839741,   4.92186621],\n",
              "       [ -3.05358035,   9.12520872],\n",
              "       [  4.62086263,   0.97064032],\n",
              "       [  5.81931896,   1.50399403],\n",
              "       [ -2.21612515,   8.29993471],\n",
              "       [ -9.08407082,   7.05079935],\n",
              "       [  4.70415886,   0.89542491],\n",
              "       [  3.57225841,   1.8307902 ],\n",
              "       [ -3.88686699,   8.07646109],\n",
              "       [ -3.10983631,   8.72259238],\n",
              "       [  1.46337839,   4.53866343],\n",
              "       [ -8.50716963,  -6.83202465],\n",
              "       [  4.9507864 ,   3.4485259 ],\n",
              "       [ -8.91276119,   7.94419501],\n",
              "       [ -7.40988481,  -7.67298243],\n",
              "       [ -2.67048333,   9.41833699],\n",
              "       [ -6.50848132,  -7.48409478],\n",
              "       [ -9.82793258,   7.197736  ],\n",
              "       [-10.18651318,   8.06678701],\n",
              "       [ -3.49973395,   8.4479884 ],\n",
              "       [ -8.91775173,  -7.8881959 ],\n",
              "       [  4.61897724,   2.09049707],\n",
              "       [  2.18875244,   4.65390282],\n",
              "       [ -7.11857524,  -7.78767326],\n",
              "       [ -9.55117354,   7.42995314],\n",
              "       [ -3.29245092,   8.69222461],\n",
              "       [  4.05051408,   2.82277178],\n",
              "       [  1.98917326,   5.95600942],\n",
              "       [ -9.35127169,  -7.67700485],\n",
              "       [  4.18981336,   2.59601962],\n",
              "       [ -2.70155859,   9.31583347],\n",
              "       [ -7.45639852,  -6.12471837],\n",
              "       [ -3.58009012,   9.49675854],\n",
              "       [  1.5761168 ,   2.27191082],\n",
              "       [  3.09593198,   3.13493626],\n",
              "       [ -3.98771961,   8.29444192],\n",
              "       [  1.01815947,   3.39365399],\n",
              "       [  6.08115213,   0.53730753],\n",
              "       [  5.21076935,   3.10873532],\n",
              "       [ -1.42614638,  10.06808818],\n",
              "       [  0.64298101,   3.43052152],\n",
              "       [ -3.48387929,   9.80137073],\n",
              "       [ -9.10721645,   6.21699701],\n",
              "       [ -6.7930374 ,  -7.03578683],\n",
              "       [  4.9625974 ,   1.14593874],\n",
              "       [ -2.73266041,   9.72828662],\n",
              "       [  4.16884053,   2.20521962],\n",
              "       [ -9.06926229,   8.01972928],\n",
              "       [ -3.18922234,   9.24653983],\n",
              "       [ -3.57150134,   9.48787856],\n",
              "       [  3.74146416,   2.46508886],\n",
              "       [  3.56980544,   5.95732923],\n",
              "       [ -2.03596   ,   8.94145722],\n",
              "       [ -2.24931483,   9.796109  ],\n",
              "       [ -2.44896741,  11.47752824],\n",
              "       [  4.43175659,   1.48016875],\n",
              "       [  0.49677506,   3.46954349],\n",
              "       [ -9.41198976,   6.77666397],\n",
              "       [ -3.70050112,   9.67083974],\n",
              "       [ -7.15467889,  -9.18203076],\n",
              "       [  4.70968092,   1.58785609],\n",
              "       [ -2.17793419,   9.98983126],\n",
              "       [ -9.78772665,   9.95590498],\n",
              "       [  6.78382293,   2.60708871],\n",
              "       [ -8.94706929,  -6.96922963],\n",
              "       [  2.23068304,   2.11971669],\n",
              "       [  3.31964563,   3.80462845],\n",
              "       [ -7.33898809,  -7.72995396],\n",
              "       [ -9.91939108,   7.93945852],\n",
              "       [ -2.77385446,  11.73445529],\n",
              "       [ -3.52202874,   9.32853346],\n",
              "       [  4.7368748 ,   2.56832671],\n",
              "       [-10.92025716,   9.01997928],\n",
              "       [  4.38731068,   0.7253865 ],\n",
              "       [ -8.81000938,   7.35327905],\n",
              "       [ -5.23465948,  -7.12914563],\n",
              "       [ -8.78260284,   8.41771443],\n",
              "       [  5.18697622,   1.77097703],\n",
              "       [ -5.84208725,  -7.39012599],\n",
              "       [  4.53111869,   2.37488141],\n",
              "       [  6.79306129,   1.20582212],\n",
              "       [ -7.86535324,  -6.37606308],\n",
              "       [ -3.31769123,   8.51252908],\n",
              "       [  5.51219947,   2.15651169],\n",
              "       [ -8.87108103,   6.78009814],\n",
              "       [ -8.35731852,   7.54740694],\n",
              "       [ -6.49556174,  -6.91280434],\n",
              "       [  5.08369826,   2.74780374],\n",
              "       [ -6.46619229,  -5.00331378],\n",
              "       [ -9.18101535,   6.95208205],\n",
              "       [ -8.58300963,  -6.93565729],\n",
              "       [ -6.88759983,  -5.40016545],\n",
              "       [  4.73755493,   1.2001599 ],\n",
              "       [  2.66778442,   6.32470628],\n",
              "       [  2.59206752,   4.60916012],\n",
              "       [ -5.70033001,  -6.81259111],\n",
              "       [  5.33002283,   1.57194921],\n",
              "       [  5.26399865,   2.60151519],\n",
              "       [  2.05104506,   5.43990342],\n",
              "       [ -7.91687335,  -7.07044827],\n",
              "       [  4.64512254,   2.02015028],\n",
              "       [  3.08897492,   5.33074715],\n",
              "       [  0.57428633,   1.9626456 ],\n",
              "       [-10.39495693,   7.92953287],\n",
              "       [ -6.64401263,  -6.1092444 ],\n",
              "       [  2.36502558,   4.61820478],\n",
              "       [  1.18994466,   4.63286711],\n",
              "       [ -8.66062676,   5.98817856],\n",
              "       [ -9.41396558,   7.44553273],\n",
              "       [  2.0819306 ,   3.51451478],\n",
              "       [  5.32613903,   0.36045381],\n",
              "       [  2.60622842,   3.80215947],\n",
              "       [  4.96404519,   1.84302663],\n",
              "       [  0.66244409,   4.90770512],\n",
              "       [ -2.90130578,   7.55077118],\n",
              "       [  4.16493353,   1.31984045],\n",
              "       [  2.00587734,   5.34984483],\n",
              "       [  3.81438164,   1.65178384],\n",
              "       [ -6.54731318,  -7.62859613],\n",
              "       [  4.6213657 ,   1.68451105],\n",
              "       [  6.9545374 ,   0.10590449],\n",
              "       [  6.40533308,   2.37815139],\n",
              "       [ -6.05022161,  -9.0912449 ],\n",
              "       [ -3.42862186,  10.56422053],\n",
              "       [ -8.99633566,   6.89664185],\n",
              "       [ -2.97867201,   9.55684617],\n",
              "       [  3.92143461,   1.75972253],\n",
              "       [ -7.5314633 ,  -6.83271092],\n",
              "       [ -6.48517505,  -7.30109407],\n",
              "       [  5.80304259,   1.98340274],\n",
              "       [ -8.54903247,  -6.3367494 ],\n",
              "       [  1.50468894,   4.38523951],\n",
              "       [  4.54923266,   3.63058278],\n",
              "       [ -5.87333438,  -7.45700146],\n",
              "       [  2.84278242,   4.66872559],\n",
              "       [ -1.68713746,  10.91107911],\n",
              "       [ -6.30255506,  -7.08315498],\n",
              "       [  5.14486612,   2.83892488],\n",
              "       [  2.92674431,   3.32704206],\n",
              "       [ -3.6601912 ,   9.38998415],\n",
              "       [ -6.54113078,  -7.29539751],\n",
              "       [ -8.55835913,   6.19803387],\n",
              "       [  0.77076081,   5.60521616],\n",
              "       [  5.61499857,   1.8261123 ],\n",
              "       [ -6.61990469,  -7.78442622],\n",
              "       [ -6.99195524,  -7.10107919],\n",
              "       [  4.71568339,   1.29600797],\n",
              "       [  3.57280073,   3.16309752],\n",
              "       [ -3.6155326 ,   7.8180795 ],\n",
              "       [ -8.51219473,   6.07240934],\n",
              "       [  5.53947871,   2.2804692 ],\n",
              "       [ -8.640243  ,   7.1791625 ],\n",
              "       [ -7.68905443,   6.62034649],\n",
              "       [  6.27229014,   0.54302831],\n",
              "       [  1.02068022,   3.88035126],\n",
              "       [ -7.41012834,  -7.45592783],\n",
              "       [  2.61295507,   5.27015514],\n",
              "       [  2.72052355,   4.55493694],\n",
              "       [ -9.46529481,   9.13597147],\n",
              "       [-10.12828866,   6.02844414],\n",
              "       [  2.91749345,   4.79662336],\n",
              "       [ -3.03895783,   9.52755356],\n",
              "       [ -8.82439846,   7.29939783],\n",
              "       [  2.30816563,   4.49590835],\n",
              "       [ -8.34500986,   7.50835904],\n",
              "       [ -2.97261532,   8.54855637],\n",
              "       [-10.24583945,   6.54570623],\n",
              "       [  1.98214228,   2.73067645],\n",
              "       [ -6.01002127,  -5.52447173],\n",
              "       [  2.66502299,   5.49060409],\n",
              "       [ -7.52620008,  -7.9616576 ],\n",
              "       [ -1.99416236,   9.52807208],\n",
              "       [ -2.44166942,   7.58953794],\n",
              "       [ -6.86120881,  -5.20367228],\n",
              "       [ -8.72410011,   7.47382468],\n",
              "       [ -6.98665755,  -7.91535192],\n",
              "       [ -9.27282398,   7.01435079],\n",
              "       [ -2.16557933,   7.25124597],\n",
              "       [ -1.59379551,   9.34303724],\n",
              "       [ -2.62484591,   8.71318243],\n",
              "       [ -7.00754478,  -7.83565003],\n",
              "       [  2.39097354,   3.76811274],\n",
              "       [ -6.34982301,  -5.43854097],\n",
              "       [  5.90678999,   1.26550022],\n",
              "       [ -7.75524544,  -8.26290932],\n",
              "       [  6.82968177,   1.1648714 ],\n",
              "       [ -9.44984556,   5.91686182],\n",
              "       [  3.40445923,   4.81016144],\n",
              "       [ -7.14950213,  -7.85887331],\n",
              "       [ -6.24103473,  -8.54162966],\n",
              "       [ -9.9489036 ,   9.07579336],\n",
              "       [ -1.69568041,   7.78342181],\n",
              "       [ -7.5793527 ,  -6.66612968],\n",
              "       [ -8.87596246,   8.4268248 ],\n",
              "       [  3.8473581 ,   1.85843324],\n",
              "       [ -7.47202112,  -7.74410036],\n",
              "       [  3.86705362,   1.73635108],\n",
              "       [ -2.4509889 ,   7.87131583],\n",
              "       [  5.15922535,   3.5059086 ],\n",
              "       [ -0.62301172,   9.18886394],\n",
              "       [  4.42219763,   3.07194654],\n",
              "       [ -2.96983639,  10.07140835],\n",
              "       [ -8.13057582,   6.76105614],\n",
              "       [ -7.80917212,   7.7961204 ],\n",
              "       [ -6.51302895,  -7.81998938],\n",
              "       [ -4.23411546,   8.4519986 ],\n",
              "       [ -6.40064737,  -6.54644749],\n",
              "       [  3.05414477,   2.67589118],\n",
              "       [ -1.4781981 ,   9.94556625],\n",
              "       [  3.63386145,   0.75898107],\n",
              "       [ -7.14903403,  -6.16256734],\n",
              "       [-10.11875711,   9.0783171 ],\n",
              "       [ -8.72893296,   8.04928954],\n",
              "       [ -7.59224256,   5.25013268],\n",
              "       [ -8.90849347,   5.66256198],\n",
              "       [ -9.38324684,   7.72265903],\n",
              "       [ -4.81887927,  -5.12476875],\n",
              "       [  1.53286079,   5.20561243],\n",
              "       [ -2.29510388,   7.76854735],\n",
              "       [ -2.42215055,   8.71527878],\n",
              "       [  1.78106418,   4.51350695],\n",
              "       [ -6.16801231,  -8.00475169],\n",
              "       [  0.67784972,   3.24279961],\n",
              "       [  4.19983435,   2.10391026],\n",
              "       [ -1.92234053,  11.20474175],\n",
              "       [ -9.37808744,   6.54521819],\n",
              "       [-10.53079239,   8.85307323],\n",
              "       [ -8.62731029,   7.2268098 ],\n",
              "       [ -2.72886951,   9.3713987 ],\n",
              "       [  5.91754373,   1.3815983 ],\n",
              "       [ -5.8212027 ,  -8.63884908],\n",
              "       [  1.83542859,   3.7217205 ],\n",
              "       [  1.9270047 ,   4.44047308],\n",
              "       [ -3.39871205,   8.19847584],\n",
              "       [ -7.65341639,  -8.1247643 ],\n",
              "       [ -9.62880221,   7.79499127],\n",
              "       [ -6.24684533,  -4.60941674],\n",
              "       [  6.09102244,   2.93244051],\n",
              "       [ -7.24514113,   6.81230724],\n",
              "       [  3.43958243,   1.63866845],\n",
              "       [ -7.39349411,  -7.93932312],\n",
              "       [ -8.40870954,   7.5312106 ],\n",
              "       [  5.49753846,   1.81323115],\n",
              "       [ -9.20193997,   7.26657729],\n",
              "       [ -8.48607351,  -6.67664596],\n",
              "       [ -2.54390939,   7.84560809],\n",
              "       [  3.81088383,   1.41298864],\n",
              "       [  3.37899488,   2.89103163],\n",
              "       [ -6.80225888,  -7.74139379],\n",
              "       [-10.61704801,   8.81956723],\n",
              "       [ -3.34841515,   8.70507375],\n",
              "       [ -7.90004395,   6.80747819],\n",
              "       [  2.2188214 ,   4.87045531],\n",
              "       [ -1.88353028,   8.15712857],\n",
              "       [ -3.11090424,  10.86656431],\n",
              "       [  2.26610095,   3.59737293],\n",
              "       [  3.81998676,   4.80229442],\n",
              "       [ -1.68665271,   7.79344248],\n",
              "       [ -8.6424825 ,   6.34515014],\n",
              "       [  2.51598311,   1.44741466],\n",
              "       [ -6.12263857,  -7.80227492],\n",
              "       [  3.71294836,   1.91364433],\n",
              "       [ -2.26723535,   7.10100588],\n",
              "       [  3.42165567,   5.08608524],\n",
              "       [  3.60187238,   3.63859153],\n",
              "       [ -2.18511365,   8.62920385],\n",
              "       [ -9.85043213,   5.66866624],\n",
              "       [ -8.0044056 ,   7.78270299],\n",
              "       [ -8.45812991,   7.93410866],\n",
              "       [ -7.12859134,  -5.90853864],\n",
              "       [ -2.23250682,   9.84146938],\n",
              "       [  3.21734686,   2.63826465],\n",
              "       [ -1.04354885,   8.78850983],\n",
              "       [ -8.20592002,   8.29607737],\n",
              "       [ -6.83110556,  -7.71105971],\n",
              "       [  3.92457513,   2.65276743],\n",
              "       [ -9.09791911,   5.82037996]])"
            ]
          },
          "execution_count": 21,
          "metadata": {},
          "output_type": "execute_result"
        }
      ],
      "source": [
        "X_customer"
      ]
    },
    {
      "cell_type": "code",
      "execution_count": 22,
      "metadata": {},
      "outputs": [
        {
          "name": "stderr",
          "output_type": "stream",
          "text": [
            "c:\\Users\\Administrator\\anaconda3\\envs\\learn-env\\lib\\site-packages\\sklearn\\cluster\\_kmeans.py:1416: FutureWarning: The default value of `n_init` will change from 10 to 'auto' in 1.4. Set the value of `n_init` explicitly to suppress the warning\n",
            "  super()._check_params_vs_input(X, default_n_init=10)\n"
          ]
        },
        {
          "ename": "AttributeError",
          "evalue": "'NoneType' object has no attribute 'split'",
          "output_type": "error",
          "traceback": [
            "\u001b[1;31m---------------------------------------------------------------------------\u001b[0m",
            "\u001b[1;31mAttributeError\u001b[0m                            Traceback (most recent call last)",
            "Cell \u001b[1;32mIn[22], line 2\u001b[0m\n\u001b[0;32m      1\u001b[0m kmeans \u001b[38;5;241m=\u001b[39m KMeans(n_clusters\u001b[38;5;241m=\u001b[39m\u001b[38;5;241m2\u001b[39m, random_state\u001b[38;5;241m=\u001b[39m\u001b[38;5;241m42\u001b[39m)\n\u001b[1;32m----> 2\u001b[0m \u001b[43mkmeans\u001b[49m\u001b[38;5;241;43m.\u001b[39;49m\u001b[43mfit\u001b[49m\u001b[43m(\u001b[49m\u001b[43mX_customer\u001b[49m\u001b[43m)\u001b[49m\n",
            "File \u001b[1;32mc:\\Users\\Administrator\\anaconda3\\envs\\learn-env\\lib\\site-packages\\sklearn\\base.py:1152\u001b[0m, in \u001b[0;36m_fit_context.<locals>.decorator.<locals>.wrapper\u001b[1;34m(estimator, *args, **kwargs)\u001b[0m\n\u001b[0;32m   1145\u001b[0m     estimator\u001b[38;5;241m.\u001b[39m_validate_params()\n\u001b[0;32m   1147\u001b[0m \u001b[38;5;28;01mwith\u001b[39;00m config_context(\n\u001b[0;32m   1148\u001b[0m     skip_parameter_validation\u001b[38;5;241m=\u001b[39m(\n\u001b[0;32m   1149\u001b[0m         prefer_skip_nested_validation \u001b[38;5;129;01mor\u001b[39;00m global_skip_validation\n\u001b[0;32m   1150\u001b[0m     )\n\u001b[0;32m   1151\u001b[0m ):\n\u001b[1;32m-> 1152\u001b[0m     \u001b[38;5;28;01mreturn\u001b[39;00m \u001b[43mfit_method\u001b[49m\u001b[43m(\u001b[49m\u001b[43mestimator\u001b[49m\u001b[43m,\u001b[49m\u001b[43m \u001b[49m\u001b[38;5;241;43m*\u001b[39;49m\u001b[43margs\u001b[49m\u001b[43m,\u001b[49m\u001b[43m \u001b[49m\u001b[38;5;241;43m*\u001b[39;49m\u001b[38;5;241;43m*\u001b[39;49m\u001b[43mkwargs\u001b[49m\u001b[43m)\u001b[49m\n",
            "File \u001b[1;32mc:\\Users\\Administrator\\anaconda3\\envs\\learn-env\\lib\\site-packages\\sklearn\\cluster\\_kmeans.py:1513\u001b[0m, in \u001b[0;36mKMeans.fit\u001b[1;34m(self, X, y, sample_weight)\u001b[0m\n\u001b[0;32m   1511\u001b[0m \u001b[38;5;28;01melse\u001b[39;00m:\n\u001b[0;32m   1512\u001b[0m     kmeans_single \u001b[38;5;241m=\u001b[39m _kmeans_single_lloyd\n\u001b[1;32m-> 1513\u001b[0m     \u001b[38;5;28;43mself\u001b[39;49m\u001b[38;5;241;43m.\u001b[39;49m\u001b[43m_check_mkl_vcomp\u001b[49m\u001b[43m(\u001b[49m\u001b[43mX\u001b[49m\u001b[43m,\u001b[49m\u001b[43m \u001b[49m\u001b[43mX\u001b[49m\u001b[38;5;241;43m.\u001b[39;49m\u001b[43mshape\u001b[49m\u001b[43m[\u001b[49m\u001b[38;5;241;43m0\u001b[39;49m\u001b[43m]\u001b[49m\u001b[43m)\u001b[49m\n\u001b[0;32m   1515\u001b[0m best_inertia, best_labels \u001b[38;5;241m=\u001b[39m \u001b[38;5;28;01mNone\u001b[39;00m, \u001b[38;5;28;01mNone\u001b[39;00m\n\u001b[0;32m   1517\u001b[0m \u001b[38;5;28;01mfor\u001b[39;00m i \u001b[38;5;129;01min\u001b[39;00m \u001b[38;5;28mrange\u001b[39m(\u001b[38;5;28mself\u001b[39m\u001b[38;5;241m.\u001b[39m_n_init):\n\u001b[0;32m   1518\u001b[0m     \u001b[38;5;66;03m# Initialize centers\u001b[39;00m\n",
            "File \u001b[1;32mc:\\Users\\Administrator\\anaconda3\\envs\\learn-env\\lib\\site-packages\\sklearn\\cluster\\_kmeans.py:927\u001b[0m, in \u001b[0;36m_BaseKMeans._check_mkl_vcomp\u001b[1;34m(self, X, n_samples)\u001b[0m\n\u001b[0;32m    925\u001b[0m n_active_threads \u001b[38;5;241m=\u001b[39m \u001b[38;5;28mint\u001b[39m(np\u001b[38;5;241m.\u001b[39mceil(n_samples \u001b[38;5;241m/\u001b[39m CHUNK_SIZE))\n\u001b[0;32m    926\u001b[0m \u001b[38;5;28;01mif\u001b[39;00m n_active_threads \u001b[38;5;241m<\u001b[39m \u001b[38;5;28mself\u001b[39m\u001b[38;5;241m.\u001b[39m_n_threads:\n\u001b[1;32m--> 927\u001b[0m     modules \u001b[38;5;241m=\u001b[39m \u001b[43mthreadpool_info\u001b[49m\u001b[43m(\u001b[49m\u001b[43m)\u001b[49m\n\u001b[0;32m    928\u001b[0m     has_vcomp \u001b[38;5;241m=\u001b[39m \u001b[38;5;124m\"\u001b[39m\u001b[38;5;124mvcomp\u001b[39m\u001b[38;5;124m\"\u001b[39m \u001b[38;5;129;01min\u001b[39;00m [module[\u001b[38;5;124m\"\u001b[39m\u001b[38;5;124mprefix\u001b[39m\u001b[38;5;124m\"\u001b[39m] \u001b[38;5;28;01mfor\u001b[39;00m module \u001b[38;5;129;01min\u001b[39;00m modules]\n\u001b[0;32m    929\u001b[0m     has_mkl \u001b[38;5;241m=\u001b[39m (\u001b[38;5;124m\"\u001b[39m\u001b[38;5;124mmkl\u001b[39m\u001b[38;5;124m\"\u001b[39m, \u001b[38;5;124m\"\u001b[39m\u001b[38;5;124mintel\u001b[39m\u001b[38;5;124m\"\u001b[39m) \u001b[38;5;129;01min\u001b[39;00m [\n\u001b[0;32m    930\u001b[0m         (module[\u001b[38;5;124m\"\u001b[39m\u001b[38;5;124minternal_api\u001b[39m\u001b[38;5;124m\"\u001b[39m], module\u001b[38;5;241m.\u001b[39mget(\u001b[38;5;124m\"\u001b[39m\u001b[38;5;124mthreading_layer\u001b[39m\u001b[38;5;124m\"\u001b[39m, \u001b[38;5;28;01mNone\u001b[39;00m))\n\u001b[0;32m    931\u001b[0m         \u001b[38;5;28;01mfor\u001b[39;00m module \u001b[38;5;129;01min\u001b[39;00m modules\n\u001b[0;32m    932\u001b[0m     ]\n",
            "File \u001b[1;32mc:\\Users\\Administrator\\anaconda3\\envs\\learn-env\\lib\\site-packages\\sklearn\\utils\\fixes.py:85\u001b[0m, in \u001b[0;36mthreadpool_info\u001b[1;34m()\u001b[0m\n\u001b[0;32m     83\u001b[0m     \u001b[38;5;28;01mreturn\u001b[39;00m controller\u001b[38;5;241m.\u001b[39minfo()\n\u001b[0;32m     84\u001b[0m \u001b[38;5;28;01melse\u001b[39;00m:\n\u001b[1;32m---> 85\u001b[0m     \u001b[38;5;28;01mreturn\u001b[39;00m \u001b[43mthreadpoolctl\u001b[49m\u001b[38;5;241;43m.\u001b[39;49m\u001b[43mthreadpool_info\u001b[49m\u001b[43m(\u001b[49m\u001b[43m)\u001b[49m\n",
            "File \u001b[1;32mc:\\Users\\Administrator\\anaconda3\\envs\\learn-env\\lib\\site-packages\\threadpoolctl.py:124\u001b[0m, in \u001b[0;36mthreadpool_info\u001b[1;34m()\u001b[0m\n\u001b[0;32m    107\u001b[0m \u001b[38;5;129m@_format_docstring\u001b[39m(USER_APIS\u001b[38;5;241m=\u001b[39m\u001b[38;5;28mlist\u001b[39m(_ALL_USER_APIS),\n\u001b[0;32m    108\u001b[0m                    INTERNAL_APIS\u001b[38;5;241m=\u001b[39m_ALL_INTERNAL_APIS)\n\u001b[0;32m    109\u001b[0m \u001b[38;5;28;01mdef\u001b[39;00m \u001b[38;5;21mthreadpool_info\u001b[39m():\n\u001b[0;32m    110\u001b[0m     \u001b[38;5;124;03m\"\"\"Return the maximal number of threads for each detected library.\u001b[39;00m\n\u001b[0;32m    111\u001b[0m \n\u001b[0;32m    112\u001b[0m \u001b[38;5;124;03m    Return a list with all the supported modules that have been found. Each\u001b[39;00m\n\u001b[1;32m   (...)\u001b[0m\n\u001b[0;32m    122\u001b[0m \u001b[38;5;124;03m    In addition, each module may contain internal_api specific entries.\u001b[39;00m\n\u001b[0;32m    123\u001b[0m \u001b[38;5;124;03m    \"\"\"\u001b[39;00m\n\u001b[1;32m--> 124\u001b[0m     \u001b[38;5;28;01mreturn\u001b[39;00m \u001b[43m_ThreadpoolInfo\u001b[49m\u001b[43m(\u001b[49m\u001b[43muser_api\u001b[49m\u001b[38;5;241;43m=\u001b[39;49m\u001b[43m_ALL_USER_APIS\u001b[49m\u001b[43m)\u001b[49m\u001b[38;5;241m.\u001b[39mtodicts()\n",
            "File \u001b[1;32mc:\\Users\\Administrator\\anaconda3\\envs\\learn-env\\lib\\site-packages\\threadpoolctl.py:340\u001b[0m, in \u001b[0;36m_ThreadpoolInfo.__init__\u001b[1;34m(self, user_api, prefixes, modules)\u001b[0m\n\u001b[0;32m    337\u001b[0m     \u001b[38;5;28mself\u001b[39m\u001b[38;5;241m.\u001b[39muser_api \u001b[38;5;241m=\u001b[39m [] \u001b[38;5;28;01mif\u001b[39;00m user_api \u001b[38;5;129;01mis\u001b[39;00m \u001b[38;5;28;01mNone\u001b[39;00m \u001b[38;5;28;01melse\u001b[39;00m user_api\n\u001b[0;32m    339\u001b[0m     \u001b[38;5;28mself\u001b[39m\u001b[38;5;241m.\u001b[39mmodules \u001b[38;5;241m=\u001b[39m []\n\u001b[1;32m--> 340\u001b[0m     \u001b[38;5;28;43mself\u001b[39;49m\u001b[38;5;241;43m.\u001b[39;49m\u001b[43m_load_modules\u001b[49m\u001b[43m(\u001b[49m\u001b[43m)\u001b[49m\n\u001b[0;32m    341\u001b[0m     \u001b[38;5;28mself\u001b[39m\u001b[38;5;241m.\u001b[39m_warn_if_incompatible_openmp()\n\u001b[0;32m    342\u001b[0m \u001b[38;5;28;01melse\u001b[39;00m:\n",
            "File \u001b[1;32mc:\\Users\\Administrator\\anaconda3\\envs\\learn-env\\lib\\site-packages\\threadpoolctl.py:373\u001b[0m, in \u001b[0;36m_ThreadpoolInfo._load_modules\u001b[1;34m(self)\u001b[0m\n\u001b[0;32m    371\u001b[0m     \u001b[38;5;28mself\u001b[39m\u001b[38;5;241m.\u001b[39m_find_modules_with_dyld()\n\u001b[0;32m    372\u001b[0m \u001b[38;5;28;01melif\u001b[39;00m sys\u001b[38;5;241m.\u001b[39mplatform \u001b[38;5;241m==\u001b[39m \u001b[38;5;124m\"\u001b[39m\u001b[38;5;124mwin32\u001b[39m\u001b[38;5;124m\"\u001b[39m:\n\u001b[1;32m--> 373\u001b[0m     \u001b[38;5;28;43mself\u001b[39;49m\u001b[38;5;241;43m.\u001b[39;49m\u001b[43m_find_modules_with_enum_process_module_ex\u001b[49m\u001b[43m(\u001b[49m\u001b[43m)\u001b[49m\n\u001b[0;32m    374\u001b[0m \u001b[38;5;28;01melse\u001b[39;00m:\n\u001b[0;32m    375\u001b[0m     \u001b[38;5;28mself\u001b[39m\u001b[38;5;241m.\u001b[39m_find_modules_with_dl_iterate_phdr()\n",
            "File \u001b[1;32mc:\\Users\\Administrator\\anaconda3\\envs\\learn-env\\lib\\site-packages\\threadpoolctl.py:485\u001b[0m, in \u001b[0;36m_ThreadpoolInfo._find_modules_with_enum_process_module_ex\u001b[1;34m(self)\u001b[0m\n\u001b[0;32m    482\u001b[0m         filepath \u001b[38;5;241m=\u001b[39m buf\u001b[38;5;241m.\u001b[39mvalue\n\u001b[0;32m    484\u001b[0m         \u001b[38;5;66;03m# Store the module if it is supported and selected\u001b[39;00m\n\u001b[1;32m--> 485\u001b[0m         \u001b[38;5;28;43mself\u001b[39;49m\u001b[38;5;241;43m.\u001b[39;49m\u001b[43m_make_module_from_path\u001b[49m\u001b[43m(\u001b[49m\u001b[43mfilepath\u001b[49m\u001b[43m)\u001b[49m\n\u001b[0;32m    486\u001b[0m \u001b[38;5;28;01mfinally\u001b[39;00m:\n\u001b[0;32m    487\u001b[0m     kernel_32\u001b[38;5;241m.\u001b[39mCloseHandle(h_process)\n",
            "File \u001b[1;32mc:\\Users\\Administrator\\anaconda3\\envs\\learn-env\\lib\\site-packages\\threadpoolctl.py:515\u001b[0m, in \u001b[0;36m_ThreadpoolInfo._make_module_from_path\u001b[1;34m(self, filepath)\u001b[0m\n\u001b[0;32m    513\u001b[0m \u001b[38;5;28;01mif\u001b[39;00m prefix \u001b[38;5;129;01min\u001b[39;00m \u001b[38;5;28mself\u001b[39m\u001b[38;5;241m.\u001b[39mprefixes \u001b[38;5;129;01mor\u001b[39;00m user_api \u001b[38;5;129;01min\u001b[39;00m \u001b[38;5;28mself\u001b[39m\u001b[38;5;241m.\u001b[39muser_api:\n\u001b[0;32m    514\u001b[0m     module_class \u001b[38;5;241m=\u001b[39m \u001b[38;5;28mglobals\u001b[39m()[module_class]\n\u001b[1;32m--> 515\u001b[0m     module \u001b[38;5;241m=\u001b[39m \u001b[43mmodule_class\u001b[49m\u001b[43m(\u001b[49m\u001b[43mfilepath\u001b[49m\u001b[43m,\u001b[49m\u001b[43m \u001b[49m\u001b[43mprefix\u001b[49m\u001b[43m,\u001b[49m\u001b[43m \u001b[49m\u001b[43muser_api\u001b[49m\u001b[43m,\u001b[49m\u001b[43m \u001b[49m\u001b[43minternal_api\u001b[49m\u001b[43m)\u001b[49m\n\u001b[0;32m    516\u001b[0m     \u001b[38;5;28mself\u001b[39m\u001b[38;5;241m.\u001b[39mmodules\u001b[38;5;241m.\u001b[39mappend(module)\n",
            "File \u001b[1;32mc:\\Users\\Administrator\\anaconda3\\envs\\learn-env\\lib\\site-packages\\threadpoolctl.py:606\u001b[0m, in \u001b[0;36m_Module.__init__\u001b[1;34m(self, filepath, prefix, user_api, internal_api)\u001b[0m\n\u001b[0;32m    604\u001b[0m \u001b[38;5;28mself\u001b[39m\u001b[38;5;241m.\u001b[39minternal_api \u001b[38;5;241m=\u001b[39m internal_api\n\u001b[0;32m    605\u001b[0m \u001b[38;5;28mself\u001b[39m\u001b[38;5;241m.\u001b[39m_dynlib \u001b[38;5;241m=\u001b[39m ctypes\u001b[38;5;241m.\u001b[39mCDLL(filepath, mode\u001b[38;5;241m=\u001b[39m_RTLD_NOLOAD)\n\u001b[1;32m--> 606\u001b[0m \u001b[38;5;28mself\u001b[39m\u001b[38;5;241m.\u001b[39mversion \u001b[38;5;241m=\u001b[39m \u001b[38;5;28;43mself\u001b[39;49m\u001b[38;5;241;43m.\u001b[39;49m\u001b[43mget_version\u001b[49m\u001b[43m(\u001b[49m\u001b[43m)\u001b[49m\n\u001b[0;32m    607\u001b[0m \u001b[38;5;28mself\u001b[39m\u001b[38;5;241m.\u001b[39mnum_threads \u001b[38;5;241m=\u001b[39m \u001b[38;5;28mself\u001b[39m\u001b[38;5;241m.\u001b[39mget_num_threads()\n\u001b[0;32m    608\u001b[0m \u001b[38;5;28mself\u001b[39m\u001b[38;5;241m.\u001b[39m_get_extra_info()\n",
            "File \u001b[1;32mc:\\Users\\Administrator\\anaconda3\\envs\\learn-env\\lib\\site-packages\\threadpoolctl.py:646\u001b[0m, in \u001b[0;36m_OpenBLASModule.get_version\u001b[1;34m(self)\u001b[0m\n\u001b[0;32m    643\u001b[0m get_config \u001b[38;5;241m=\u001b[39m \u001b[38;5;28mgetattr\u001b[39m(\u001b[38;5;28mself\u001b[39m\u001b[38;5;241m.\u001b[39m_dynlib, \u001b[38;5;124m\"\u001b[39m\u001b[38;5;124mopenblas_get_config\u001b[39m\u001b[38;5;124m\"\u001b[39m,\n\u001b[0;32m    644\u001b[0m                      \u001b[38;5;28;01mlambda\u001b[39;00m: \u001b[38;5;28;01mNone\u001b[39;00m)\n\u001b[0;32m    645\u001b[0m get_config\u001b[38;5;241m.\u001b[39mrestype \u001b[38;5;241m=\u001b[39m ctypes\u001b[38;5;241m.\u001b[39mc_char_p\n\u001b[1;32m--> 646\u001b[0m config \u001b[38;5;241m=\u001b[39m \u001b[43mget_config\u001b[49m\u001b[43m(\u001b[49m\u001b[43m)\u001b[49m\u001b[38;5;241;43m.\u001b[39;49m\u001b[43msplit\u001b[49m()\n\u001b[0;32m    647\u001b[0m \u001b[38;5;28;01mif\u001b[39;00m config[\u001b[38;5;241m0\u001b[39m] \u001b[38;5;241m==\u001b[39m \u001b[38;5;124mb\u001b[39m\u001b[38;5;124m\"\u001b[39m\u001b[38;5;124mOpenBLAS\u001b[39m\u001b[38;5;124m\"\u001b[39m:\n\u001b[0;32m    648\u001b[0m     \u001b[38;5;28;01mreturn\u001b[39;00m config[\u001b[38;5;241m1\u001b[39m]\u001b[38;5;241m.\u001b[39mdecode(\u001b[38;5;124m\"\u001b[39m\u001b[38;5;124mutf-8\u001b[39m\u001b[38;5;124m\"\u001b[39m)\n",
            "\u001b[1;31mAttributeError\u001b[0m: 'NoneType' object has no attribute 'split'"
          ]
        }
      ],
      "source": [
        "kmeans = KMeans(n_clusters=2, random_state=42)\n",
        "kmeans.fit(X_customer)"
      ]
    },
    {
      "cell_type": "code",
      "execution_count": 23,
      "metadata": {
        "colab": {
          "base_uri": "https://localhost:8080/",
          "height": 80
        },
        "id": "qHDdIFaoYGMM",
        "outputId": "33127cc5-04cf-4665-bcd9-7d66b5500e71"
      },
      "outputs": [
        {
          "name": "stderr",
          "output_type": "stream",
          "text": [
            "c:\\Users\\Administrator\\anaconda3\\envs\\learn-env\\lib\\site-packages\\sklearn\\cluster\\_kmeans.py:1416: FutureWarning: The default value of `n_init` will change from 10 to 'auto' in 1.4. Set the value of `n_init` explicitly to suppress the warning\n",
            "  super()._check_params_vs_input(X, default_n_init=10)\n"
          ]
        },
        {
          "ename": "AttributeError",
          "evalue": "'NoneType' object has no attribute 'split'",
          "output_type": "error",
          "traceback": [
            "\u001b[1;31m---------------------------------------------------------------------------\u001b[0m",
            "\u001b[1;31mAttributeError\u001b[0m                            Traceback (most recent call last)",
            "Cell \u001b[1;32mIn[23], line 4\u001b[0m\n\u001b[0;32m      1\u001b[0m \u001b[38;5;66;03m# Apply K-Means for market segmentation\u001b[39;00m\n\u001b[0;32m      2\u001b[0m \u001b[38;5;66;03m# set into 5 cluster\u001b[39;00m\n\u001b[0;32m      3\u001b[0m kmeans \u001b[38;5;241m=\u001b[39m KMeans(n_clusters\u001b[38;5;241m=\u001b[39m\u001b[38;5;241m5\u001b[39m, random_state\u001b[38;5;241m=\u001b[39m\u001b[38;5;241m42\u001b[39m)\n\u001b[1;32m----> 4\u001b[0m \u001b[43mkmeans\u001b[49m\u001b[38;5;241;43m.\u001b[39;49m\u001b[43mfit\u001b[49m\u001b[43m(\u001b[49m\u001b[43mX_customer\u001b[49m\u001b[43m)\u001b[49m\n",
            "File \u001b[1;32mc:\\Users\\Administrator\\anaconda3\\envs\\learn-env\\lib\\site-packages\\sklearn\\base.py:1152\u001b[0m, in \u001b[0;36m_fit_context.<locals>.decorator.<locals>.wrapper\u001b[1;34m(estimator, *args, **kwargs)\u001b[0m\n\u001b[0;32m   1145\u001b[0m     estimator\u001b[38;5;241m.\u001b[39m_validate_params()\n\u001b[0;32m   1147\u001b[0m \u001b[38;5;28;01mwith\u001b[39;00m config_context(\n\u001b[0;32m   1148\u001b[0m     skip_parameter_validation\u001b[38;5;241m=\u001b[39m(\n\u001b[0;32m   1149\u001b[0m         prefer_skip_nested_validation \u001b[38;5;129;01mor\u001b[39;00m global_skip_validation\n\u001b[0;32m   1150\u001b[0m     )\n\u001b[0;32m   1151\u001b[0m ):\n\u001b[1;32m-> 1152\u001b[0m     \u001b[38;5;28;01mreturn\u001b[39;00m \u001b[43mfit_method\u001b[49m\u001b[43m(\u001b[49m\u001b[43mestimator\u001b[49m\u001b[43m,\u001b[49m\u001b[43m \u001b[49m\u001b[38;5;241;43m*\u001b[39;49m\u001b[43margs\u001b[49m\u001b[43m,\u001b[49m\u001b[43m \u001b[49m\u001b[38;5;241;43m*\u001b[39;49m\u001b[38;5;241;43m*\u001b[39;49m\u001b[43mkwargs\u001b[49m\u001b[43m)\u001b[49m\n",
            "File \u001b[1;32mc:\\Users\\Administrator\\anaconda3\\envs\\learn-env\\lib\\site-packages\\sklearn\\cluster\\_kmeans.py:1513\u001b[0m, in \u001b[0;36mKMeans.fit\u001b[1;34m(self, X, y, sample_weight)\u001b[0m\n\u001b[0;32m   1511\u001b[0m \u001b[38;5;28;01melse\u001b[39;00m:\n\u001b[0;32m   1512\u001b[0m     kmeans_single \u001b[38;5;241m=\u001b[39m _kmeans_single_lloyd\n\u001b[1;32m-> 1513\u001b[0m     \u001b[38;5;28;43mself\u001b[39;49m\u001b[38;5;241;43m.\u001b[39;49m\u001b[43m_check_mkl_vcomp\u001b[49m\u001b[43m(\u001b[49m\u001b[43mX\u001b[49m\u001b[43m,\u001b[49m\u001b[43m \u001b[49m\u001b[43mX\u001b[49m\u001b[38;5;241;43m.\u001b[39;49m\u001b[43mshape\u001b[49m\u001b[43m[\u001b[49m\u001b[38;5;241;43m0\u001b[39;49m\u001b[43m]\u001b[49m\u001b[43m)\u001b[49m\n\u001b[0;32m   1515\u001b[0m best_inertia, best_labels \u001b[38;5;241m=\u001b[39m \u001b[38;5;28;01mNone\u001b[39;00m, \u001b[38;5;28;01mNone\u001b[39;00m\n\u001b[0;32m   1517\u001b[0m \u001b[38;5;28;01mfor\u001b[39;00m i \u001b[38;5;129;01min\u001b[39;00m \u001b[38;5;28mrange\u001b[39m(\u001b[38;5;28mself\u001b[39m\u001b[38;5;241m.\u001b[39m_n_init):\n\u001b[0;32m   1518\u001b[0m     \u001b[38;5;66;03m# Initialize centers\u001b[39;00m\n",
            "File \u001b[1;32mc:\\Users\\Administrator\\anaconda3\\envs\\learn-env\\lib\\site-packages\\sklearn\\cluster\\_kmeans.py:927\u001b[0m, in \u001b[0;36m_BaseKMeans._check_mkl_vcomp\u001b[1;34m(self, X, n_samples)\u001b[0m\n\u001b[0;32m    925\u001b[0m n_active_threads \u001b[38;5;241m=\u001b[39m \u001b[38;5;28mint\u001b[39m(np\u001b[38;5;241m.\u001b[39mceil(n_samples \u001b[38;5;241m/\u001b[39m CHUNK_SIZE))\n\u001b[0;32m    926\u001b[0m \u001b[38;5;28;01mif\u001b[39;00m n_active_threads \u001b[38;5;241m<\u001b[39m \u001b[38;5;28mself\u001b[39m\u001b[38;5;241m.\u001b[39m_n_threads:\n\u001b[1;32m--> 927\u001b[0m     modules \u001b[38;5;241m=\u001b[39m \u001b[43mthreadpool_info\u001b[49m\u001b[43m(\u001b[49m\u001b[43m)\u001b[49m\n\u001b[0;32m    928\u001b[0m     has_vcomp \u001b[38;5;241m=\u001b[39m \u001b[38;5;124m\"\u001b[39m\u001b[38;5;124mvcomp\u001b[39m\u001b[38;5;124m\"\u001b[39m \u001b[38;5;129;01min\u001b[39;00m [module[\u001b[38;5;124m\"\u001b[39m\u001b[38;5;124mprefix\u001b[39m\u001b[38;5;124m\"\u001b[39m] \u001b[38;5;28;01mfor\u001b[39;00m module \u001b[38;5;129;01min\u001b[39;00m modules]\n\u001b[0;32m    929\u001b[0m     has_mkl \u001b[38;5;241m=\u001b[39m (\u001b[38;5;124m\"\u001b[39m\u001b[38;5;124mmkl\u001b[39m\u001b[38;5;124m\"\u001b[39m, \u001b[38;5;124m\"\u001b[39m\u001b[38;5;124mintel\u001b[39m\u001b[38;5;124m\"\u001b[39m) \u001b[38;5;129;01min\u001b[39;00m [\n\u001b[0;32m    930\u001b[0m         (module[\u001b[38;5;124m\"\u001b[39m\u001b[38;5;124minternal_api\u001b[39m\u001b[38;5;124m\"\u001b[39m], module\u001b[38;5;241m.\u001b[39mget(\u001b[38;5;124m\"\u001b[39m\u001b[38;5;124mthreading_layer\u001b[39m\u001b[38;5;124m\"\u001b[39m, \u001b[38;5;28;01mNone\u001b[39;00m))\n\u001b[0;32m    931\u001b[0m         \u001b[38;5;28;01mfor\u001b[39;00m module \u001b[38;5;129;01min\u001b[39;00m modules\n\u001b[0;32m    932\u001b[0m     ]\n",
            "File \u001b[1;32mc:\\Users\\Administrator\\anaconda3\\envs\\learn-env\\lib\\site-packages\\sklearn\\utils\\fixes.py:85\u001b[0m, in \u001b[0;36mthreadpool_info\u001b[1;34m()\u001b[0m\n\u001b[0;32m     83\u001b[0m     \u001b[38;5;28;01mreturn\u001b[39;00m controller\u001b[38;5;241m.\u001b[39minfo()\n\u001b[0;32m     84\u001b[0m \u001b[38;5;28;01melse\u001b[39;00m:\n\u001b[1;32m---> 85\u001b[0m     \u001b[38;5;28;01mreturn\u001b[39;00m \u001b[43mthreadpoolctl\u001b[49m\u001b[38;5;241;43m.\u001b[39;49m\u001b[43mthreadpool_info\u001b[49m\u001b[43m(\u001b[49m\u001b[43m)\u001b[49m\n",
            "File \u001b[1;32mc:\\Users\\Administrator\\anaconda3\\envs\\learn-env\\lib\\site-packages\\threadpoolctl.py:124\u001b[0m, in \u001b[0;36mthreadpool_info\u001b[1;34m()\u001b[0m\n\u001b[0;32m    107\u001b[0m \u001b[38;5;129m@_format_docstring\u001b[39m(USER_APIS\u001b[38;5;241m=\u001b[39m\u001b[38;5;28mlist\u001b[39m(_ALL_USER_APIS),\n\u001b[0;32m    108\u001b[0m                    INTERNAL_APIS\u001b[38;5;241m=\u001b[39m_ALL_INTERNAL_APIS)\n\u001b[0;32m    109\u001b[0m \u001b[38;5;28;01mdef\u001b[39;00m \u001b[38;5;21mthreadpool_info\u001b[39m():\n\u001b[0;32m    110\u001b[0m     \u001b[38;5;124;03m\"\"\"Return the maximal number of threads for each detected library.\u001b[39;00m\n\u001b[0;32m    111\u001b[0m \n\u001b[0;32m    112\u001b[0m \u001b[38;5;124;03m    Return a list with all the supported modules that have been found. Each\u001b[39;00m\n\u001b[1;32m   (...)\u001b[0m\n\u001b[0;32m    122\u001b[0m \u001b[38;5;124;03m    In addition, each module may contain internal_api specific entries.\u001b[39;00m\n\u001b[0;32m    123\u001b[0m \u001b[38;5;124;03m    \"\"\"\u001b[39;00m\n\u001b[1;32m--> 124\u001b[0m     \u001b[38;5;28;01mreturn\u001b[39;00m \u001b[43m_ThreadpoolInfo\u001b[49m\u001b[43m(\u001b[49m\u001b[43muser_api\u001b[49m\u001b[38;5;241;43m=\u001b[39;49m\u001b[43m_ALL_USER_APIS\u001b[49m\u001b[43m)\u001b[49m\u001b[38;5;241m.\u001b[39mtodicts()\n",
            "File \u001b[1;32mc:\\Users\\Administrator\\anaconda3\\envs\\learn-env\\lib\\site-packages\\threadpoolctl.py:340\u001b[0m, in \u001b[0;36m_ThreadpoolInfo.__init__\u001b[1;34m(self, user_api, prefixes, modules)\u001b[0m\n\u001b[0;32m    337\u001b[0m     \u001b[38;5;28mself\u001b[39m\u001b[38;5;241m.\u001b[39muser_api \u001b[38;5;241m=\u001b[39m [] \u001b[38;5;28;01mif\u001b[39;00m user_api \u001b[38;5;129;01mis\u001b[39;00m \u001b[38;5;28;01mNone\u001b[39;00m \u001b[38;5;28;01melse\u001b[39;00m user_api\n\u001b[0;32m    339\u001b[0m     \u001b[38;5;28mself\u001b[39m\u001b[38;5;241m.\u001b[39mmodules \u001b[38;5;241m=\u001b[39m []\n\u001b[1;32m--> 340\u001b[0m     \u001b[38;5;28;43mself\u001b[39;49m\u001b[38;5;241;43m.\u001b[39;49m\u001b[43m_load_modules\u001b[49m\u001b[43m(\u001b[49m\u001b[43m)\u001b[49m\n\u001b[0;32m    341\u001b[0m     \u001b[38;5;28mself\u001b[39m\u001b[38;5;241m.\u001b[39m_warn_if_incompatible_openmp()\n\u001b[0;32m    342\u001b[0m \u001b[38;5;28;01melse\u001b[39;00m:\n",
            "File \u001b[1;32mc:\\Users\\Administrator\\anaconda3\\envs\\learn-env\\lib\\site-packages\\threadpoolctl.py:373\u001b[0m, in \u001b[0;36m_ThreadpoolInfo._load_modules\u001b[1;34m(self)\u001b[0m\n\u001b[0;32m    371\u001b[0m     \u001b[38;5;28mself\u001b[39m\u001b[38;5;241m.\u001b[39m_find_modules_with_dyld()\n\u001b[0;32m    372\u001b[0m \u001b[38;5;28;01melif\u001b[39;00m sys\u001b[38;5;241m.\u001b[39mplatform \u001b[38;5;241m==\u001b[39m \u001b[38;5;124m\"\u001b[39m\u001b[38;5;124mwin32\u001b[39m\u001b[38;5;124m\"\u001b[39m:\n\u001b[1;32m--> 373\u001b[0m     \u001b[38;5;28;43mself\u001b[39;49m\u001b[38;5;241;43m.\u001b[39;49m\u001b[43m_find_modules_with_enum_process_module_ex\u001b[49m\u001b[43m(\u001b[49m\u001b[43m)\u001b[49m\n\u001b[0;32m    374\u001b[0m \u001b[38;5;28;01melse\u001b[39;00m:\n\u001b[0;32m    375\u001b[0m     \u001b[38;5;28mself\u001b[39m\u001b[38;5;241m.\u001b[39m_find_modules_with_dl_iterate_phdr()\n",
            "File \u001b[1;32mc:\\Users\\Administrator\\anaconda3\\envs\\learn-env\\lib\\site-packages\\threadpoolctl.py:485\u001b[0m, in \u001b[0;36m_ThreadpoolInfo._find_modules_with_enum_process_module_ex\u001b[1;34m(self)\u001b[0m\n\u001b[0;32m    482\u001b[0m         filepath \u001b[38;5;241m=\u001b[39m buf\u001b[38;5;241m.\u001b[39mvalue\n\u001b[0;32m    484\u001b[0m         \u001b[38;5;66;03m# Store the module if it is supported and selected\u001b[39;00m\n\u001b[1;32m--> 485\u001b[0m         \u001b[38;5;28;43mself\u001b[39;49m\u001b[38;5;241;43m.\u001b[39;49m\u001b[43m_make_module_from_path\u001b[49m\u001b[43m(\u001b[49m\u001b[43mfilepath\u001b[49m\u001b[43m)\u001b[49m\n\u001b[0;32m    486\u001b[0m \u001b[38;5;28;01mfinally\u001b[39;00m:\n\u001b[0;32m    487\u001b[0m     kernel_32\u001b[38;5;241m.\u001b[39mCloseHandle(h_process)\n",
            "File \u001b[1;32mc:\\Users\\Administrator\\anaconda3\\envs\\learn-env\\lib\\site-packages\\threadpoolctl.py:515\u001b[0m, in \u001b[0;36m_ThreadpoolInfo._make_module_from_path\u001b[1;34m(self, filepath)\u001b[0m\n\u001b[0;32m    513\u001b[0m \u001b[38;5;28;01mif\u001b[39;00m prefix \u001b[38;5;129;01min\u001b[39;00m \u001b[38;5;28mself\u001b[39m\u001b[38;5;241m.\u001b[39mprefixes \u001b[38;5;129;01mor\u001b[39;00m user_api \u001b[38;5;129;01min\u001b[39;00m \u001b[38;5;28mself\u001b[39m\u001b[38;5;241m.\u001b[39muser_api:\n\u001b[0;32m    514\u001b[0m     module_class \u001b[38;5;241m=\u001b[39m \u001b[38;5;28mglobals\u001b[39m()[module_class]\n\u001b[1;32m--> 515\u001b[0m     module \u001b[38;5;241m=\u001b[39m \u001b[43mmodule_class\u001b[49m\u001b[43m(\u001b[49m\u001b[43mfilepath\u001b[49m\u001b[43m,\u001b[49m\u001b[43m \u001b[49m\u001b[43mprefix\u001b[49m\u001b[43m,\u001b[49m\u001b[43m \u001b[49m\u001b[43muser_api\u001b[49m\u001b[43m,\u001b[49m\u001b[43m \u001b[49m\u001b[43minternal_api\u001b[49m\u001b[43m)\u001b[49m\n\u001b[0;32m    516\u001b[0m     \u001b[38;5;28mself\u001b[39m\u001b[38;5;241m.\u001b[39mmodules\u001b[38;5;241m.\u001b[39mappend(module)\n",
            "File \u001b[1;32mc:\\Users\\Administrator\\anaconda3\\envs\\learn-env\\lib\\site-packages\\threadpoolctl.py:606\u001b[0m, in \u001b[0;36m_Module.__init__\u001b[1;34m(self, filepath, prefix, user_api, internal_api)\u001b[0m\n\u001b[0;32m    604\u001b[0m \u001b[38;5;28mself\u001b[39m\u001b[38;5;241m.\u001b[39minternal_api \u001b[38;5;241m=\u001b[39m internal_api\n\u001b[0;32m    605\u001b[0m \u001b[38;5;28mself\u001b[39m\u001b[38;5;241m.\u001b[39m_dynlib \u001b[38;5;241m=\u001b[39m ctypes\u001b[38;5;241m.\u001b[39mCDLL(filepath, mode\u001b[38;5;241m=\u001b[39m_RTLD_NOLOAD)\n\u001b[1;32m--> 606\u001b[0m \u001b[38;5;28mself\u001b[39m\u001b[38;5;241m.\u001b[39mversion \u001b[38;5;241m=\u001b[39m \u001b[38;5;28;43mself\u001b[39;49m\u001b[38;5;241;43m.\u001b[39;49m\u001b[43mget_version\u001b[49m\u001b[43m(\u001b[49m\u001b[43m)\u001b[49m\n\u001b[0;32m    607\u001b[0m \u001b[38;5;28mself\u001b[39m\u001b[38;5;241m.\u001b[39mnum_threads \u001b[38;5;241m=\u001b[39m \u001b[38;5;28mself\u001b[39m\u001b[38;5;241m.\u001b[39mget_num_threads()\n\u001b[0;32m    608\u001b[0m \u001b[38;5;28mself\u001b[39m\u001b[38;5;241m.\u001b[39m_get_extra_info()\n",
            "File \u001b[1;32mc:\\Users\\Administrator\\anaconda3\\envs\\learn-env\\lib\\site-packages\\threadpoolctl.py:646\u001b[0m, in \u001b[0;36m_OpenBLASModule.get_version\u001b[1;34m(self)\u001b[0m\n\u001b[0;32m    643\u001b[0m get_config \u001b[38;5;241m=\u001b[39m \u001b[38;5;28mgetattr\u001b[39m(\u001b[38;5;28mself\u001b[39m\u001b[38;5;241m.\u001b[39m_dynlib, \u001b[38;5;124m\"\u001b[39m\u001b[38;5;124mopenblas_get_config\u001b[39m\u001b[38;5;124m\"\u001b[39m,\n\u001b[0;32m    644\u001b[0m                      \u001b[38;5;28;01mlambda\u001b[39;00m: \u001b[38;5;28;01mNone\u001b[39;00m)\n\u001b[0;32m    645\u001b[0m get_config\u001b[38;5;241m.\u001b[39mrestype \u001b[38;5;241m=\u001b[39m ctypes\u001b[38;5;241m.\u001b[39mc_char_p\n\u001b[1;32m--> 646\u001b[0m config \u001b[38;5;241m=\u001b[39m \u001b[43mget_config\u001b[49m\u001b[43m(\u001b[49m\u001b[43m)\u001b[49m\u001b[38;5;241;43m.\u001b[39;49m\u001b[43msplit\u001b[49m()\n\u001b[0;32m    647\u001b[0m \u001b[38;5;28;01mif\u001b[39;00m config[\u001b[38;5;241m0\u001b[39m] \u001b[38;5;241m==\u001b[39m \u001b[38;5;124mb\u001b[39m\u001b[38;5;124m\"\u001b[39m\u001b[38;5;124mOpenBLAS\u001b[39m\u001b[38;5;124m\"\u001b[39m:\n\u001b[0;32m    648\u001b[0m     \u001b[38;5;28;01mreturn\u001b[39;00m config[\u001b[38;5;241m1\u001b[39m]\u001b[38;5;241m.\u001b[39mdecode(\u001b[38;5;124m\"\u001b[39m\u001b[38;5;124mutf-8\u001b[39m\u001b[38;5;124m\"\u001b[39m)\n",
            "\u001b[1;31mAttributeError\u001b[0m: 'NoneType' object has no attribute 'split'"
          ]
        }
      ],
      "source": [
        "# Apply K-Means for market segmentation\n",
        "# set into 5 cluster\n",
        "kmeans = KMeans(n_clusters=5, random_state=42)\n",
        "kmeans.fit(X_customer)\n"
      ]
    },
    {
      "cell_type": "code",
      "execution_count": 24,
      "metadata": {
        "colab": {
          "base_uri": "https://localhost:8080/",
          "height": 564
        },
        "id": "3gOMKfsDYGMN",
        "outputId": "c4215bfe-f73e-4114-e4f2-249ae45afa32"
      },
      "outputs": [
        {
          "ename": "AttributeError",
          "evalue": "'KMeans' object has no attribute 'labels_'",
          "output_type": "error",
          "traceback": [
            "\u001b[1;31m---------------------------------------------------------------------------\u001b[0m",
            "\u001b[1;31mAttributeError\u001b[0m                            Traceback (most recent call last)",
            "Cell \u001b[1;32mIn[24], line 3\u001b[0m\n\u001b[0;32m      1\u001b[0m \u001b[38;5;66;03m# Visualize the market segmentation\u001b[39;00m\n\u001b[0;32m      2\u001b[0m plt\u001b[38;5;241m.\u001b[39mfigure(figsize\u001b[38;5;241m=\u001b[39m(\u001b[38;5;241m8\u001b[39m, \u001b[38;5;241m6\u001b[39m))\n\u001b[1;32m----> 3\u001b[0m plt\u001b[38;5;241m.\u001b[39mscatter(X_customer[:, \u001b[38;5;241m0\u001b[39m], X_customer[:, \u001b[38;5;241m1\u001b[39m], c\u001b[38;5;241m=\u001b[39m\u001b[43mkmeans\u001b[49m\u001b[38;5;241;43m.\u001b[39;49m\u001b[43mlabels_\u001b[49m, cmap\u001b[38;5;241m=\u001b[39m\u001b[38;5;124m'\u001b[39m\u001b[38;5;124mviridis\u001b[39m\u001b[38;5;124m'\u001b[39m, s\u001b[38;5;241m=\u001b[39m\u001b[38;5;241m50\u001b[39m, alpha\u001b[38;5;241m=\u001b[39m\u001b[38;5;241m0.7\u001b[39m)\n\u001b[0;32m      4\u001b[0m plt\u001b[38;5;241m.\u001b[39mtitle(\u001b[38;5;124m'\u001b[39m\u001b[38;5;124mMarket Segmentation with K-Means\u001b[39m\u001b[38;5;124m'\u001b[39m)\n\u001b[0;32m      5\u001b[0m plt\u001b[38;5;241m.\u001b[39mxlabel(\u001b[38;5;124m'\u001b[39m\u001b[38;5;124mFeature 1 (Income)\u001b[39m\u001b[38;5;124m'\u001b[39m)\n",
            "\u001b[1;31mAttributeError\u001b[0m: 'KMeans' object has no attribute 'labels_'"
          ]
        },
        {
          "data": {
            "text/plain": [
              "<Figure size 800x600 with 0 Axes>"
            ]
          },
          "metadata": {},
          "output_type": "display_data"
        }
      ],
      "source": [
        "# Visualize the market segmentation\n",
        "plt.figure(figsize=(8, 6))\n",
        "plt.scatter(X_customer[:, 0], X_customer[:, 1], c=kmeans.labels_, cmap='viridis', s=50, alpha=0.7)\n",
        "plt.title('Market Segmentation with K-Means')\n",
        "plt.xlabel('Feature 1 (Income)')\n",
        "plt.ylabel('Feature 2 (Spending Score)')\n",
        "plt.show()"
      ]
    },
    {
      "cell_type": "markdown",
      "metadata": {
        "id": "UHBGK-j7YGMN"
      },
      "source": [
        "**Analysis**\n",
        "\n",
        "The scatter plot shows how customers are grouped based on their income and spending scores. The clusters indicate different customer segments that can be targeted with personalized marketing strategies"
      ]
    },
    {
      "cell_type": "markdown",
      "metadata": {
        "id": "rsRo5qXgYGMN"
      },
      "source": [
        "## d. Semi-Supervised Learning and Look-Alike Models\n",
        "\n",
        "### Combining Supervised and Unsupervised Learning\n",
        "\n",
        "In real-world applications, it's often advantageous to combine supervised and unsupervised learning techniques. By doing so, we can enhance the performance of our models and work more effectively with both labeled and unlabeled data.\n",
        "\n",
        "#### Use Case 1: Look-Alike Models\n",
        "\n",
        "A **look-alike model** is a powerful tool used to find new, potential customers or market segments that resemble the most valuable ones. Here's how it works:\n",
        "\n",
        "- First, **clustering** techniques like K-Means or Hierarchical Agglomerative Clustering are used to segment customers into distinct groups based on their similarities.\n",
        "- Then, a **look-alike model** identifies customers who resemble your most valuable ones. The idea is that if a new customer shares many characteristics with existing valuable customers, they are likely to also be valuable.\n",
        "\n",
        "In practice, look-alike models are often used in **prospecting**, where businesses identify new customers or markets with high potential by analyzing the similarity to those already known to be valuable.\n",
        "\n",
        "#### Use Case 2: Semi-Supervised Learning\n",
        "\n",
        "**Semi-supervised learning** is a technique where we combine small amounts of labeled data with large amounts of unlabeled data to improve model training. It is especially useful when labeling data is expensive or time-consuming. The basic steps include:\n",
        "\n",
        "1. **Training the model** on a small set of labeled data.\n",
        "2. **Generating pseudo-labels** for the unlabeled data by using the trained model.\n",
        "3. **Combining labeled and pseudo-labeled data** to form a larger dataset.\n",
        "4. **Retraining the model** on the combined dataset to improve its performance.\n",
        "\n",
        "This approach is particularly useful when we have a large dataset but only a small portion of it is labeled. By using **pseudo-labels** (predictions made by the model), we can leverage unlabeled data to improve the overall performance of the model.\n",
        "\n",
        "### Benefits and Challenges of Semi-Supervised Learning\n",
        "\n",
        "#### Benefits:\n",
        "- **Increased Data Access**: By using pseudo-labels, we can effectively use large amounts of unlabeled data, which is often more accessible than labeled data.\n",
        "- **Cost-Efficiency**: Labeling data can be expensive, so generating pseudo-labels allows us to bypass some of these costs.\n",
        "\n",
        "#### Challenges:\n",
        "- **Noise in Pseudo-Labels**: If the model is not accurate enough, pseudo-labels might introduce noise, potentially making the model worse.\n",
        "- **Feedback Loops**: Incorrect pseudo-labels can reinforce mistakes, leading to a feedback loop of errors. To mitigate this, it's crucial to use a **holdout set** (a test set of ground-truth labeled data) to evaluate the model's performance and ensure the pseudo-labels are improving the model.\n",
        "\n"
      ]
    },
    {
      "cell_type": "markdown",
      "metadata": {
        "id": "wwT6TQnxYGMO"
      },
      "source": [
        "# Part 2: PCA (Principal Component Analysis)\n",
        "\n",
        "## 1. What is PCA?\n",
        "\n",
        "PCA is a technique used to **reduce the dimensionality of data** while preserving as much of its **variability** as possible. The primary goal of PCA is to reduce the number of features in your dataset (dimensionality), while maintaining the essential patterns in the data. This is useful when you have many features, and it becomes computationally expensive or inefficient to process the data with all of them.\n",
        "\n",
        "## 2. Why Use PCA?\n",
        "\n",
        "Imagine you have a dataset with many features (e.g., hundreds of columns). Some of these features might be related to each other (i.e., correlated), so PCA can help by **combining** these features into fewer, **uncorrelated components**. By using fewer components, you simplify the data without losing much information, which can help improve model performance.\n",
        "\n",
        "## 3. Key Concepts in PCA\n",
        "\n",
        "### Covariance\n",
        "\n",
        "The **covariance matrix** is a key concept in PCA. Covariance measures how two features (variables) vary together. If two variables have high covariance, it means that when one variable increases, the other one tends to increase as well.\n",
        "\n",
        "- **Positive covariance**: As one variable increases, the other increases.\n",
        "- **Negative covariance**: As one variable increases, the other decreases.\n",
        "- **Zero covariance**: The variables are independent (no relationship).\n",
        "\n",
        "The covariance matrix captures the relationships between all pairs of features in your dataset. PCA works by identifying directions (or combinations of features) where the data varies the most.\n",
        "\n",
        "### Eigenvalues and Eigenvectors\n",
        "\n",
        "In PCA, we use **eigenvalues** and **eigenvectors** to understand how the data is spread across different directions.\n",
        "\n",
        "- **Eigenvectors**: These represent the directions in which the data varies the most. In other words, eigenvectors are the \"axes\" along which the data points are spread.\n",
        "- **Eigenvalues**: These indicate the magnitude or strength of variance along each eigenvector. A higher eigenvalue means more variance is captured along that eigenvector, meaning the component is more important.\n",
        "\n",
        "#### How Eigenvalues and Eigenvectors are Used in PCA:\n",
        "\n",
        "- **Step 1: Covariance Matrix**: First, calculate the covariance matrix to understand how the features in the dataset are related.\n",
        "- **Step 2: Eigenvalues and Eigenvectors**: The covariance matrix is then used to calculate the eigenvalues and eigenvectors.\n",
        "- **Step 3: Sorting**: Sort the eigenvalues in decreasing order and select the top eigenvectors corresponding to the largest eigenvalues. These eigenvectors form the new \"principal components\" of the data.\n",
        "- **Step 4: Project Data**: Project the original data onto the new space formed by the selected eigenvectors.\n",
        "\n",
        "## 4. Why Does PCA Work?\n",
        "\n",
        "By projecting the data along the directions with the highest variance (the eigenvectors), PCA captures the most important patterns in the data while reducing dimensionality. By keeping only the principal components with the highest eigenvalues, we retain the most significant information.\n"
      ]
    },
    {
      "cell_type": "markdown",
      "metadata": {
        "id": "VHhd0ngMYGMP"
      },
      "source": [
        "Part 2: Step-by-Step Implementation of PCA\n",
        "\n",
        "\n",
        "\n",
        "\n",
        "\n",
        "\n",
        "\n",
        "\n",
        "\n",
        "\n"
      ]
    },
    {
      "cell_type": "markdown",
      "metadata": {
        "id": "VcTb2XcoYGMP"
      },
      "source": [
        "### Implementing PCA"
      ]
    },
    {
      "cell_type": "markdown",
      "metadata": {
        "id": "3GrZ0iXpYGMP"
      },
      "source": [
        "Let's now walk through how PCA works, step-by-step, using Python. We'll start by working with the Iris dataset for simplicity."
      ]
    },
    {
      "cell_type": "code",
      "execution_count": null,
      "metadata": {
        "id": "kXemYfV8YGMQ"
      },
      "outputs": [],
      "source": [
        "import numpy as np\n",
        "import matplotlib.pyplot as plt\n",
        "from sklearn.preprocessing import StandardScaler\n",
        "from sklearn.datasets import load_iris\n",
        "import pandas as pd\n",
        "\n",
        "# Load the Iris dataset\n",
        "iris = load_iris()\n",
        "X = iris.data\n",
        "y = iris.target\n",
        "df = pd.DataFrame(X, columns=iris.feature_names)\n"
      ]
    },
    {
      "cell_type": "markdown",
      "metadata": {
        "id": "UPHOjJR3YGMR"
      },
      "source": [
        "**Step 1: Standardizing the Data**\n",
        "\n",
        "Since PCA is affected by the scale of the data, we first need to standardize it. Standardization transforms the data so that each feature has a mean of 0 and a standard deviation of 1."
      ]
    },
    {
      "cell_type": "code",
      "execution_count": null,
      "metadata": {
        "id": "bY5CkGv5YGMR"
      },
      "outputs": [],
      "source": [
        "\n",
        "# Step 1: Standardize the data\n",
        "scaler = StandardScaler()\n",
        "X_scaled = scaler.fit_transform(X)\n"
      ]
    },
    {
      "cell_type": "markdown",
      "metadata": {
        "id": "-DTdwQtgYGMS"
      },
      "source": [
        "**Step 2: Computing the Covariance Matrix**\n",
        "\n",
        "Once the data is standardized, we compute the covariance matrix, which tells us how the features are related to one another."
      ]
    },
    {
      "cell_type": "code",
      "execution_count": null,
      "metadata": {
        "id": "Q00UWGhuYGMS"
      },
      "outputs": [],
      "source": [
        "\n",
        "# Step 2: Compute the covariance matrix\n",
        "cov_matrix = np.cov(X_scaled.T)\n"
      ]
    },
    {
      "cell_type": "markdown",
      "metadata": {
        "id": "07cMKhDqYGMT"
      },
      "source": [
        "**Step 3: Eigenvalues and Eigenvectors**\n",
        "\n",
        "Next, we calculate the eigenvalues and eigenvectors of the covariance matrix. These will help us understand which directions in the data capture the most variance."
      ]
    },
    {
      "cell_type": "code",
      "execution_count": null,
      "metadata": {
        "id": "AYr3TKdEYGMT"
      },
      "outputs": [],
      "source": [
        "\n",
        "# Step 3: Compute the eigenvalues and eigenvectors\n",
        "eigenvalues, eigenvectors = np.linalg.eig(cov_matrix)\n"
      ]
    },
    {
      "cell_type": "markdown",
      "metadata": {
        "id": "XYud87hvYGMU"
      },
      "source": [
        "**Step 4: Sorting and Selecting Principal Components**\n",
        "\n",
        "We sort the eigenvectors by the eigenvalues and choose the top components (those with the highest eigenvalues) to represent the data."
      ]
    },
    {
      "cell_type": "code",
      "execution_count": null,
      "metadata": {
        "id": "VASAg-lrYGMV"
      },
      "outputs": [],
      "source": [
        "\n",
        "# Step 4: Sort eigenvectors by eigenvalues (largest to smallest)\n",
        "sorted_indices = np.argsort(eigenvalues)[::-1]\n",
        "eigenvalues_sorted = eigenvalues[sorted_indices]\n",
        "eigenvectors_sorted = eigenvectors[:, sorted_indices]\n"
      ]
    },
    {
      "cell_type": "markdown",
      "metadata": {
        "id": "3SVdT1hFYGMW"
      },
      "source": [
        "**Step 5: Projecting the Data onto New Axes**\n",
        "Finally, we transform (or project) the original data onto the new axes (principal components), reducing the number of features in the process."
      ]
    },
    {
      "cell_type": "code",
      "execution_count": null,
      "metadata": {
        "id": "p_W7zE9TYGMW"
      },
      "outputs": [],
      "source": [
        "\n",
        "# Step 5: Choose the top 2 eigenvectors (for 2D visualization)\n",
        "top_eigenvectors = eigenvectors_sorted[:, :2]\n",
        "\n",
        "# Step 6: Project the data onto the new 2D space\n",
        "X_pca = X_scaled.dot(top_eigenvectors)\n"
      ]
    },
    {
      "cell_type": "code",
      "execution_count": null,
      "metadata": {
        "id": "DCL_NUwGYGMf"
      },
      "outputs": [],
      "source": [
        "\n",
        "# Visualize the data before and after PCA\n",
        "plt.figure(figsize=(12, 6))\n",
        "\n",
        "# Original data (before PCA)\n",
        "plt.subplot(1, 2, 1)\n",
        "plt.scatter(X_scaled[:, 0], X_scaled[:, 1], c=y, cmap='viridis', alpha=0.7)\n",
        "plt.title('Original Data')\n",
        "plt.xlabel('Feature 1')\n",
        "plt.ylabel('Feature 2')\n",
        "\n",
        "# Transformed data (after PCA)\n",
        "plt.subplot(1, 2, 2)\n",
        "plt.scatter(X_pca[:, 0], X_pca[:, 1], c=y, cmap='viridis', alpha=0.7)\n",
        "plt.title('Data After PCA')\n",
        "plt.xlabel('Principal Component 1')\n",
        "plt.ylabel('Principal Component 2')\n",
        "\n",
        "plt.tight_layout()\n",
        "plt.show()\n",
        "\n",
        "# Output the explained variance\n",
        "print(\"Eigenvalues (explained variance):\", eigenvalues_sorted[:2])\n",
        "print(\"Total variance explained by the top 2 components:\", np.sum(eigenvalues_sorted[:2]) / np.sum(eigenvalues_sorted))\n"
      ]
    },
    {
      "cell_type": "markdown",
      "metadata": {
        "id": "9VN47_YNYGMf"
      },
      "source": [
        "### K-Means Clustering with PCA\n",
        "\n",
        "Now that we have a good understanding of how PCA works and how to reduce dimensionality, we can move on to K-Means Clustering. As a refresher, PCA will help us visualize and work with lower-dimensional representations of the data, which is especially useful when we have many features."
      ]
    },
    {
      "cell_type": "code",
      "execution_count": null,
      "metadata": {
        "id": "ZKaIhjNMYGMp"
      },
      "outputs": [],
      "source": [
        "# Apply PCA to reduce the data to 2 components for visualization\n",
        "pca = PCA(n_components=2)\n",
        "X_pca = pca.fit_transform(X_scaled)\n",
        "\n",
        "# Apply KMeans clustering on the PCA-transformed data\n",
        "kmeans = KMeans(n_clusters=3, random_state=42)\n",
        "kmeans.fit(X_pca)\n",
        "\n",
        "# Get cluster labels and centroids\n",
        "labels = kmeans.labels_\n",
        "centroids = kmeans.cluster_centers_\n",
        "\n",
        "# Visualize the K-Means clustering result\n",
        "plt.figure(figsize=(8, 6))\n",
        "plt.scatter(X_pca[:, 0], X_pca[:, 1], c=labels, cmap='viridis', s=50, alpha=0.7)\n",
        "plt.scatter(centroids[:, 0], centroids[:, 1], s=300, c='red', marker='X', label='Centroids')\n",
        "plt.title('K-Means Clustering on PCA-Reduced Data')\n",
        "plt.xlabel('Principal Component 1')\n",
        "plt.ylabel('Principal Component 2')\n",
        "plt.legend()\n",
        "plt.show()\n"
      ]
    },
    {
      "cell_type": "markdown",
      "metadata": {
        "id": "mNgj1YeSYGMp"
      },
      "source": [
        "**Clusters:** The scatter plot shows how the data is grouped into clusters after applying K-Means on the PCA-reduced data. The clusters are clearly visible, and the red 'X' markers represent the centroids of each cluster.\n",
        "\n",
        "**Dimensionality Reduction:** PCA has reduced the data to just 2 dimensions, making it easier to visualize and interpret the clustering result.\n"
      ]
    },
    {
      "cell_type": "markdown",
      "metadata": {
        "id": "zRYZylWrYGMq"
      },
      "source": [
        "### Conclusion\n",
        "PCA is a powerful tool for dimensionality reduction, helping us to extract the most important features in a dataset and make complex clustering tasks more manageable. By reducing dimensions, we can improve the performance of clustering algorithms like K-Means, and gain better insights into the structure of the data."
      ]
    }
  ],
  "metadata": {
    "colab": {
      "provenance": []
    },
    "kernelspec": {
      "display_name": "learn-env",
      "language": "python",
      "name": "python3"
    },
    "language_info": {
      "codemirror_mode": {
        "name": "ipython",
        "version": 3
      },
      "file_extension": ".py",
      "mimetype": "text/x-python",
      "name": "python",
      "nbconvert_exporter": "python",
      "pygments_lexer": "ipython3",
      "version": "3.8.5"
    }
  },
  "nbformat": 4,
  "nbformat_minor": 0
}
