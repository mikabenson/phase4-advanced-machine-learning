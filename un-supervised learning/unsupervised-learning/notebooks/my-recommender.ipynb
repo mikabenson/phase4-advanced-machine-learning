{
 "cells": [
  {
   "cell_type": "code",
   "execution_count": null,
   "metadata": {
    "vscode": {
     "languageId": "plaintext"
    }
   },
   "outputs": [],
   "source": [
    "import pandas as pd\n",
    "\n",
    "# Load the dataset\n",
    "movies = pd.read_csv(\"https://files.grouplens.org/datasets/movielens/ml-100k/u.item\", sep=\"|\", encoding=\"latin-1\", header=None)\n",
    "\n",
    "# Display first 5 rows\n",
    "movies.head()"
   ]
  }
 ],
 "metadata": {
  "language_info": {
   "name": "python"
  }
 },
 "nbformat": 4,
 "nbformat_minor": 2
}
