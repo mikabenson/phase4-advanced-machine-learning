{
 "cells": [
  {
   "cell_type": "markdown",
   "metadata": {},
   "source": [
    "# Word Vectorization - Lab\n",
    "\n",
    "## Introduction\n",
    "\n",
    "In this lab, you'll tokenize and vectorize text documents, create and use a bag of words, and identify words unique to individual documents using TF-IDF vectorization. \n",
    "\n",
    "\n",
    "## Objectives\n",
    "\n",
    "In this lab you will:  \n",
    "\n",
    "- Implement tokenization and count vectorization from scratch \n",
    "- Implement TF-IDF from scratch \n",
    "- Use dimensionality reduction on vectorized text data to create and interpret visualizations \n",
    "\n",
    "## Let's get started!\n",
    "\n",
    "Run the cell below to import everything necessary for this lab.  "
   ]
  },
  {
   "cell_type": "code",
   "execution_count": 32,
   "metadata": {},
   "outputs": [],
   "source": [
    "import pandas as pd\n",
    "import numpy as np\n",
    "from mpl_toolkits.mplot3d import Axes3D\n",
    "import matplotlib.pyplot as plt\n",
    "%matplotlib inline\n",
    "from sklearn.manifold import TSNE\n",
    "from nltk.tokenize import word_tokenize\n",
    "import nltk\n",
    "nltk.download('punkt', quiet=True)\n",
    "np.random.seed(0)"
   ]
  },
  {
   "cell_type": "markdown",
   "metadata": {},
   "source": [
    "### Our Corpus\n",
    "\n",
    "In this lab, we'll be working with 20 different documents, each containing song lyrics from either Garth Brooks or Kendrick Lamar albums.  \n",
    "\n",
    "The songs are contained within the `data` subdirectory, contained within the same folder as this lab.  Each song is stored in a single file, with files ranging from `song1.txt` to `song20.txt`.  \n",
    "\n",
    "To make it easy to read in all of the documents, use a list comprehension to create a list containing the name of every single song file in the cell below. "
   ]
  },
  {
   "cell_type": "code",
   "execution_count": 33,
   "metadata": {},
   "outputs": [
    {
     "data": {
      "text/plain": [
       "['song1.txt',\n",
       " 'song2.txt',\n",
       " 'song3.txt',\n",
       " 'song4.txt',\n",
       " 'song5.txt',\n",
       " 'song6.txt',\n",
       " 'song7.txt',\n",
       " 'song8.txt',\n",
       " 'song9.txt',\n",
       " 'song10.txt',\n",
       " 'song11.txt',\n",
       " 'song12.txt',\n",
       " 'song13.txt',\n",
       " 'song14.txt',\n",
       " 'song15.txt',\n",
       " 'song16.txt',\n",
       " 'song17.txt',\n",
       " 'song18.txt',\n",
       " 'song19.txt',\n",
       " 'song20.txt']"
      ]
     },
     "execution_count": 33,
     "metadata": {},
     "output_type": "execute_result"
    }
   ],
   "source": [
    "filenames = [f'song{str(i)}.txt' for i in range(1,21)]\n",
    "filenames"
   ]
  },
  {
   "cell_type": "markdown",
   "metadata": {},
   "source": [
    "Next, let's import a single song to see what our text looks like so that we can make sure we clean and tokenize it correctly. \n",
    "\n",
    "Use the code in the cell below to read in the lyrics from `song18.txt` as a list of lines, just using vanilla Python:"
   ]
  },
  {
   "cell_type": "code",
   "execution_count": 34,
   "metadata": {},
   "outputs": [
    {
     "data": {
      "text/plain": [
       "['[Kendrick Lamar:]\\n',\n",
       " \"Two wrongs don't make us right away\\n\",\n",
       " \"Tell me something's wrong\\n\",\n",
       " 'Party all of our lives away\\n',\n",
       " 'To take you on\\n',\n",
       " '[Zacari:]\\n',\n",
       " 'Oh, baby I want you\\n',\n",
       " 'Baby I need you\\n',\n",
       " 'I wanna see you\\n',\n",
       " 'Baby I wanna go out yeah\\n',\n",
       " 'Baby I wanna go out yeah\\n',\n",
       " 'Baby I want you\\n',\n",
       " 'Baby I need you\\n',\n",
       " 'I wanna see you\\n',\n",
       " 'Baby I wanna go out yeah\\n',\n",
       " 'Baby I wanna go out yeah\\n',\n",
       " 'All night (all night, all night)\\n',\n",
       " 'All night\\n',\n",
       " \"Your body's on fire\\n\",\n",
       " 'And your drinks on ice\\n',\n",
       " 'All night (all night, all night)\\n',\n",
       " 'All night\\n',\n",
       " \"Your body's on fire\\n\",\n",
       " 'And your drinks on ice\\n',\n",
       " '[Babes Wodumo:]\\n',\n",
       " 'Oh my word oh my gosh oh my word (Oh my gosh)\\n',\n",
       " 'Oh my word oh my gosh oh my word (Oh my gosh)\\n',\n",
       " 'Oh my word oh my gosh oh my word (Oh my gosh)\\n',\n",
       " 'Oh my word oh my gosh oh my word (Oh my gosh)\\n',\n",
       " 'Everybody say kikiritikiki (kikiritikiki)\\n',\n",
       " 'Everybody say kikiritikiki (kikiritikiki)\\n',\n",
       " 'Everybody say kikiritikiki (kikiritikiki)\\n',\n",
       " 'Everybody say kikiritikiki (kikiritikiki)\\n',\n",
       " \"Ung'bambe, ung'dedele. Ung'bhasobhe, ung'gudluke\\n\",\n",
       " \"Ung'bambe, ung'dedele. Ung'bhasobhe, ung'gudluke\\n\",\n",
       " \"Ung'bambe, ung'dedele. Ung'bhasobhe, ung'gudluke\\n\",\n",
       " \"Ung'bambe, ung'dedele. Ung'bhasobhe, ung'gudluke\\n\",\n",
       " '[Zacari:]\\n',\n",
       " 'Baby I want you\\n',\n",
       " 'Baby I need you\\n',\n",
       " 'I wanna see you\\n',\n",
       " 'Baby I wanna go out yeah\\n',\n",
       " 'Baby I wanna go out yeah\\n',\n",
       " 'Baby I want you\\n',\n",
       " 'Baby I need you\\n',\n",
       " 'I wanna see you\\n',\n",
       " 'Baby I wanna go out yeah\\n',\n",
       " 'Baby I wanna go out yeah\\n',\n",
       " 'All night (all night all night)\\n',\n",
       " 'All night\\n',\n",
       " \"Your body's on fire\\n\",\n",
       " 'And your drinks on ice\\n',\n",
       " 'All night (all night all night)\\n',\n",
       " 'All night\\n',\n",
       " \"Your body's on fire\\n\",\n",
       " 'And your drinks on ice\\n',\n",
       " '[Kendrick Lamar:]\\n',\n",
       " '(We go)\\n',\n",
       " 'High up (High up)\\n',\n",
       " 'High up (High up)\\n',\n",
       " 'High up (High up)\\n',\n",
       " 'High up (High up)\\n',\n",
       " 'High up (High up)\\n',\n",
       " 'High up (High up)\\n',\n",
       " 'High up (High up)\\n',\n",
       " 'High up (High up)\\n',\n",
       " '[?]\\n',\n",
       " '[Zacari:]\\n',\n",
       " 'Baby I want you\\n',\n",
       " 'Baby I need you\\n',\n",
       " 'I wanna see you\\n',\n",
       " 'Baby I wanna go out yeah\\n',\n",
       " 'Baby I wanna go out yeah\\n',\n",
       " 'Baby I want you\\n',\n",
       " 'Baby I need you\\n',\n",
       " 'I wanna see you\\n',\n",
       " 'Baby I wanna go out yeah\\n',\n",
       " 'Baby I wanna go out yeah\\n',\n",
       " 'All night (all night all night)\\n',\n",
       " 'All night\\n',\n",
       " \"Your body's on fire\\n\",\n",
       " 'And your drinks on ice\\n',\n",
       " 'All night (all night all night)\\n',\n",
       " 'All night\\n',\n",
       " \"Your body's on fire\\n\",\n",
       " 'And your drinks on ice\\n']"
      ]
     },
     "execution_count": 34,
     "metadata": {},
     "output_type": "execute_result"
    }
   ],
   "source": [
    "# Import and print song18.txt\n",
    "with open('data/song18.txt') as f:\n",
    "    test_song = f.readlines()\n",
    "    \n",
    "test_song"
   ]
  },
  {
   "cell_type": "markdown",
   "metadata": {},
   "source": [
    "### Tokenizing our Data\n",
    "\n",
    "Before we can create a bag of words or vectorize each document, we need to clean it up and split each song into an array of individual words.\n",
    "\n",
    "Consider the following sentences from the example above:\n",
    "\n",
    "`\"Two wrongs don't make us right away\\n\", \"Tell me something's wrong\\n\"`\n",
    "\n",
    "After tokenization, this should look like:\n",
    "\n",
    "`['two', 'wrongs', 'dont', 'make', 'us', 'right', 'away', 'tell', 'me', 'somethings', 'wrong']`\n",
    "\n",
    "Tokenization is pretty tedious if we handle it manually, and would probably make use of regular expressions, which is outside the scope of this lab. In order to keep this lab moving, we'll use a library function to clean and tokenize our data so that we can move onto vectorization.  \n",
    "\n",
    "Tokenization is a required task for just about any Natural Language Processing (NLP) task, so great industry-standard tools exist to tokenize things for us, so that we can spend our time on more important tasks without getting bogged down hunting every special symbol or punctuation in a massive dataset. For this lab, we'll make use of the tokenizer in the amazing `nltk` library, which is short for _Natural Language Tool Kit_.\n",
    "\n",
    "**_NOTE:_** NLTK requires extra installation methods to be run the first time certain methods are used.  If `nltk` throws you an error about needing to install additional packages, follow the instructions in the error message to install the dependencies, and then rerun the cell.  "
   ]
  },
  {
   "cell_type": "markdown",
   "metadata": {},
   "source": [
    "Before we tokenize, however, we need to do one more step! Computers are very particular about strings. If we tokenized our data in its current state, we would run into the following problems:\n",
    "\n",
    "- Counting things that aren't actually words.  In the example above, `\"[Kendrick Lamar:]\"` is a note specifying who is speaking, not a lyric contained in the actual song, so it should be removed. \n",
    "- Punctuation and capitalization would mess up our word counts. To the Python interpreter, `all`, `All`, and `(all` are unique words, and would all be counted separately.  We need to remove punctuation and capitalization, so that all words will be counted correctly. \n",
    "\n",
    "Before we tokenize our songs, we'll do only a small manual bit of cleaning. \n",
    "\n",
    "In the cell below, write a function to:\n",
    "- remove lines that just contain `['artist names']`\n",
    "- join the list of strings into one big string for the entire song\n",
    "- remove newline characters `\\n`\n",
    "- remove the following punctuation marks: `\",.'?!()\"`\n",
    "- make every word lowercase\n",
    "\n",
    "Test the function on `test_song` to show that it has successfully removed `'[Kendrick Lamar:]'` and other instances of artist names from the song, and is returning the song as one string (NOT a list of strings) with newlines (`\\n`) and punctuation removed and every word in lowercase."
   ]
  },
  {
   "cell_type": "code",
   "execution_count": 35,
   "metadata": {},
   "outputs": [
    {
     "name": "stdout",
     "output_type": "stream",
     "text": [
      "two wrongs dont make us right away  tell me somethings wrong  party all of our lives away  to take you on  oh baby i want you  baby i need you  i wanna see you  baby i wanna go out yeah  baby i wanna go out yeah  baby i want you  baby i need you  i wanna see you  baby i wanna go out yeah  baby i wanna go out yeah  all night all night all night  all night  your bodys on fire  and your drinks on ice  all night all night all night  all night  your bodys on fire  and your drinks on ice  oh my word oh my gosh oh my word oh my gosh  oh my word oh my gosh oh my word oh my gosh  oh my word oh my gosh oh my word oh my gosh  oh my word oh my gosh oh my word oh my gosh  everybody say kikiritikiki kikiritikiki  everybody say kikiritikiki kikiritikiki  everybody say kikiritikiki kikiritikiki  everybody say kikiritikiki kikiritikiki  ungbambe ungdedele ungbhasobhe unggudluke  ungbambe ungdedele ungbhasobhe unggudluke  ungbambe ungdedele ungbhasobhe unggudluke  ungbambe ungdedele ungbhasobhe unggudluke  baby i want you  baby i need you  i wanna see you  baby i wanna go out yeah  baby i wanna go out yeah  baby i want you  baby i need you  i wanna see you  baby i wanna go out yeah  baby i wanna go out yeah  all night all night all night  all night  your bodys on fire  and your drinks on ice  all night all night all night  all night  your bodys on fire  and your drinks on ice  we go  high up high up  high up high up  high up high up  high up high up  high up high up  high up high up  high up high up  high up high up  baby i want you  baby i need you  i wanna see you  baby i wanna go out yeah  baby i wanna go out yeah  baby i want you  baby i need you  i wanna see you  baby i wanna go out yeah  baby i wanna go out yeah  all night all night all night  all night  your bodys on fire  and your drinks on ice  all night all night all night  all night  your bodys on fire  and your drinks on ice \n"
     ]
    }
   ],
   "source": [
    "def clean_song(song):\n",
    "    clean_lines = [line for line in song if \"[\" not in line and \"]\" not in line]\n",
    "    clean_song = \" \".join(clean_lines)\n",
    "    \n",
    "    for symbol in \",.'?!()\":\n",
    "        clean_song = clean_song.replace(symbol, \"\")\n",
    "    clean_song = clean_song.replace(\"\\n\", \" \")\n",
    "    \n",
    "    return clean_song.lower()\n",
    "\n",
    "clean_test_song = clean_song(test_song)\n",
    "print(clean_test_song)"
   ]
  },
  {
   "cell_type": "markdown",
   "metadata": {},
   "source": [
    "Great! Now, we can use `nltk`'s `word_tokenize()` function on the song string to get a fully tokenized version of the song. Test this function on `clean_test_song` to ensure that the function works. "
   ]
  },
  {
   "cell_type": "code",
   "execution_count": 36,
   "metadata": {},
   "outputs": [
    {
     "data": {
      "text/plain": [
       "['two', 'wrongs', 'dont', 'make', 'us', 'right', 'away']"
      ]
     },
     "execution_count": 36,
     "metadata": {},
     "output_type": "execute_result"
    }
   ],
   "source": [
    "tokenized_test_song = word_tokenize(clean_test_song)\n",
    "tokenized_test_song[:7]"
   ]
  },
  {
   "cell_type": "markdown",
   "metadata": {},
   "source": [
    "Great! Now that we can tokenize our songs, we can move onto vectorization. \n",
    "\n",
    "\n",
    "### Count Vectorization\n",
    "\n",
    "Machine Learning algorithms don't understand strings. However, they do understand math, which means they understand vectors and matrices.  By **_Vectorizing_** the text, we just convert the entire text into a vector, where each element in the vector represents a different word. The vector is the length of the entire vocabulary -- usually, every word that occurs in the English language, or at least every word that appears in our corpus.  Any given sentence can then be represented as a vector where all the vector is 1 (or some other value) for each time that word appears in the sentence. \n",
    "\n",
    "Consider the following example: \n",
    "\n",
    "<center>\"I scream, you scream, we all scream for ice cream.\"</center>\n",
    "\n",
    "| 'aardvark' | 'apple' | [...] | 'I' | 'you' | 'scream' | 'we' | 'all' | 'for' | 'ice' | 'cream' | [...] | 'xylophone' | 'zebra' |\n",
    "|:----------:|:-------:|:-----:|:---:|:-----:|:--------:|:----:|:-----:|:-----:|:-----:|:-------:|:-----:|:-----------:|:-------:|\n",
    "|      0     |    0    |   0   |  1  |   1   |     3    |   1  |   1   |   1   |   1   |    1    |   0   |      0      |    0    |\n",
    "\n",
    "This is called a **_Sparse Representation_**, since the strong majority of the columns will have a value of 0.  Note that elements corresponding to words that do not occur in the sentence have a value of 0, while words that do appear in the sentence have a value of 1 (or 1 for each time it appears in the sentence).\n",
    "\n",
    "Alternatively, we can represent this sentence as a plain old Python dictionary of word frequency counts:\n",
    "\n",
    "```python\n",
    "BoW = {\n",
    "    'I':1,\n",
    "    'you':1,\n",
    "    'scream':3,\n",
    "    'we':1,\n",
    "    'all':1,\n",
    "    'for':1,\n",
    "    'ice':1,\n",
    "    'cream':1\n",
    "}\n",
    "```\n",
    "\n",
    "Both of these are examples of **_Count Vectorization_**. They allow us to represent a sentence as a vector, with each element in the vector corresponding to how many times that word is used.\n",
    "\n",
    "#### Positional Information and Bag of Words\n",
    "\n",
    "Notice that when we vectorize a sentence this way, we lose the order that the words were in.  This is the **_Bag of Words_** approach mentioned earlier.  Note that sentences that contain the same words will create the same vectors, even if they mean different things -- e.g. `'cats are scared of dogs'` and `'dogs are scared of cats'` would both produce the exact same vector, since they contain the same words.  "
   ]
  },
  {
   "cell_type": "markdown",
   "metadata": {},
   "source": [
    "In the cell below, create a function that takes in a tokenized, cleaned song and returns a count vectorized representation of it as a Python dictionary.\n",
    "\n",
    "**_Hint:_**  Consider using a `set()` since you'll need each unique word in the tokenized song! "
   ]
  },
  {
   "cell_type": "code",
   "execution_count": 37,
   "metadata": {},
   "outputs": [
    {
     "name": "stdout",
     "output_type": "stream",
     "text": [
      "{'we': 1, 'na': 18, 'your': 12, 'i': 30, 'take': 1, 'tell': 1, 'to': 1, 'word': 8, 'up': 16, 'out': 12, 'our': 1, 'us': 1, 'all': 25, 'gosh': 8, 'go': 13, 'my': 16, 'of': 1, 'baby': 24, 'ungbhasobhe': 4, 'wan': 18, 'party': 1, 'make': 1, 'away': 2, 'everybody': 4, 'kikiritikiki': 8, 'ungdedele': 4, 'need': 6, 'high': 16, 'on': 13, 'yeah': 12, 'unggudluke': 4, 'and': 6, 'me': 1, 'wrong': 1, 'want': 6, 'fire': 6, 'bodys': 6, 'ungbambe': 4, 'wrongs': 1, 'ice': 6, 'drinks': 6, 'somethings': 1, 'right': 1, 'you': 19, 'night': 24, 'two': 1, 'dont': 1, 'lives': 1, 'oh': 17, 'say': 4, 'see': 6}\n"
     ]
    }
   ],
   "source": [
    "def count_vectorize(tokenized_song):\n",
    "    unique_words = set(tokenized_song)\n",
    "    \n",
    "    song_dict = {word: 0 for word in unique_words}\n",
    "    for word in tokenized_song:\n",
    "        song_dict[word] += 1\n",
    "        \n",
    "    return song_dict\n",
    "\n",
    "test_vectorized = count_vectorize(tokenized_test_song)\n",
    "print(test_vectorized)"
   ]
  },
  {
   "cell_type": "markdown",
   "metadata": {},
   "source": [
    "Great! You've just successfully vectorized your first text document! Now, let's look at a more advanced type of vectorization, TF-IDF!\n",
    "\n",
    "### TF-IDF Vectorization\n",
    "\n",
    "TF-IDF stands for **_Term Frequency, Inverse Document Frequency_**.  This is a more advanced form of vectorization that weighs each term in a document by how unique it is to the given document it is contained in, which allows us to summarize the contents of a document using a few key words.  If the word is used often in many other documents, it is not unique, and therefore probably not too useful if we wanted to figure out how this document is unique in relation to other documents. Conversely, if a word is used many times in a document, but rarely in all the other documents we are considering, then it is likely a good indicator for telling us that this word is important to the document in question.  \n",
    "\n",
    "The formula TF-IDF uses to determine the weights of each term in a document is **_Term Frequency_** multiplied by **_Inverse Document Frequency_**. We just calculated our Term Frequency above with Count Vectorization!"
   ]
  },
  {
   "cell_type": "markdown",
   "metadata": {},
   "source": [
    "Now that we have this, we can easily calculate _Inverse Document Frequency_. Note that this will need ALL of our documents (aka our songs), not just an individual document - so we'll put off testing this function for now.\n",
    "\n",
    "In the cell below, complete a function that takes in a list of tokenized songs, with each item in the list being a clean, tokenized version of the song. The function should return a dictionary containing the inverse document frequency values for each word.  \n",
    "\n",
    "The formula for Inverse Document Frequency is:  \n",
    "<br>  \n",
    "<br>\n",
    "$$\\large \\text{IDF}(t) =  log_e(\\frac{\\text{Total Number of Documents}}{\\text{Number of Documents with } t \\text{ in it}})$$"
   ]
  },
  {
   "cell_type": "code",
   "execution_count": 38,
   "metadata": {},
   "outputs": [
    {
     "data": {
      "text/plain": [
       "<function __main__.inverse_document_frequency(list_of_token_songs)>"
      ]
     },
     "execution_count": 38,
     "metadata": {},
     "output_type": "execute_result"
    }
   ],
   "source": [
    "def inverse_document_frequency(list_of_token_songs):\n",
    "    num_docs = len(list_of_token_songs)\n",
    "    \n",
    "    unique_words = set([item for sublist in list_of_token_songs for item in sublist])\n",
    "    inv_doc_frequency = {word: 0 for word in unique_words}\n",
    "    \n",
    "    for word in unique_words:\n",
    "        num_docs_with_word = 0\n",
    "        for song_tokens in list_of_token_songs:\n",
    "            if word in song_tokens:\n",
    "                num_docs_with_word += 1\n",
    "        \n",
    "        inv_doc_frequency[word] = np.log(num_docs / num_docs_with_word)\n",
    "        \n",
    "    return inv_doc_frequency\n",
    "\n",
    "inverse_document_frequency"
   ]
  },
  {
   "cell_type": "markdown",
   "metadata": {},
   "source": [
    "### Computing TF-IDF\n",
    "\n",
    "Now that we can compute both Term Frequency and Inverse Document Frequency, computing an overall TF-IDF value is simple! All we need to do is multiply the two values.  \n",
    "\n",
    "In the cell below, complete the `tf_idf()` function.  This function should take in a list of tokenized songs, just as the `inverse_document_frequency()` function did.  This function returns a new list of dictionaries, with each dictionary containing the tf-idf vectorized representation of a corresponding song document. You'll need to calculate the term frequency for each song using the `count_vectorize()` function we defined above.\n",
    "\n",
    "**_NOTE:_** Each document should contain the full vocabulary of the entire combined corpus! So, even if a song doesn't have the word \"kikiritikiki\" (a vocalization in our test song), it should have a dictionary entry with that word as the key and `0` as the value."
   ]
  },
  {
   "cell_type": "code",
   "execution_count": 39,
   "metadata": {},
   "outputs": [],
   "source": [
    "def tf_idf(list_of_token_songs):\n",
    "    unique_words = set([item for sublist in list_of_token_songs for item in sublist])\n",
    "    inverse_df = inverse_document_frequency(list_of_token_songs)\n",
    "    \n",
    "    tf_idf_list_of_dicts = []\n",
    "    for song_tokens in list_of_token_songs:\n",
    "        song_tf = count_vectorize(song_tokens)\n",
    "        doc_tf_idf = {word: 0 for word in unique_words}\n",
    "        \n",
    "        for word in unique_words:\n",
    "            if word in song_tokens:\n",
    "                doc_tf_idf[word] = song_tf[word] * inverse_df[word]\n",
    "                \n",
    "            else:\n",
    "                doc_tf_idf[word] = 0\n",
    "                \n",
    "            tf_idf_list_of_dicts.append(doc_tf_idf)\n",
    "            \n",
    "    return tf_idf_list_of_dicts"
   ]
  },
  {
   "cell_type": "markdown",
   "metadata": {},
   "source": [
    "### Vectorizing All Documents\n",
    "\n",
    "Now that we've created all the necessary helper functions, we can load in all of our documents and run each through the vectorization pipeline we've just created.\n",
    "\n",
    "In the cell below, complete the `main()` function.  This function should take in a list of file names (provided for you in the `filenames` list we created at the start), and then:\n",
    "\n",
    "- Read in each document into a list of raw songs (where each song is a list of strings)\n",
    "- Tokenize each document into a list of cleaned and tokenized songs\n",
    "- Return a list of dictionaries vectorized using `tf-idf`, where each dictionary is a vectorized representation of each song "
   ]
  },
  {
   "cell_type": "code",
   "execution_count": 40,
   "metadata": {},
   "outputs": [
    {
     "data": {
      "text/plain": [
       "['[Kendrick Lamar:]\\n',\n",
       " \"Two wrongs don't make us right away\\n\",\n",
       " \"Tell me something's wrong\\n\",\n",
       " 'Party all of our lives away\\n',\n",
       " 'To take you on\\n',\n",
       " '[Zacari:]\\n',\n",
       " 'Oh, baby I want you\\n',\n",
       " 'Baby I need you\\n',\n",
       " 'I wanna see you\\n',\n",
       " 'Baby I wanna go out yeah\\n',\n",
       " 'Baby I wanna go out yeah\\n',\n",
       " 'Baby I want you\\n',\n",
       " 'Baby I need you\\n',\n",
       " 'I wanna see you\\n',\n",
       " 'Baby I wanna go out yeah\\n',\n",
       " 'Baby I wanna go out yeah\\n',\n",
       " 'All night (all night, all night)\\n',\n",
       " 'All night\\n',\n",
       " \"Your body's on fire\\n\",\n",
       " 'And your drinks on ice\\n',\n",
       " 'All night (all night, all night)\\n',\n",
       " 'All night\\n',\n",
       " \"Your body's on fire\\n\",\n",
       " 'And your drinks on ice\\n',\n",
       " '[Babes Wodumo:]\\n',\n",
       " 'Oh my word oh my gosh oh my word (Oh my gosh)\\n',\n",
       " 'Oh my word oh my gosh oh my word (Oh my gosh)\\n',\n",
       " 'Oh my word oh my gosh oh my word (Oh my gosh)\\n',\n",
       " 'Oh my word oh my gosh oh my word (Oh my gosh)\\n',\n",
       " 'Everybody say kikiritikiki (kikiritikiki)\\n',\n",
       " 'Everybody say kikiritikiki (kikiritikiki)\\n',\n",
       " 'Everybody say kikiritikiki (kikiritikiki)\\n',\n",
       " 'Everybody say kikiritikiki (kikiritikiki)\\n',\n",
       " \"Ung'bambe, ung'dedele. Ung'bhasobhe, ung'gudluke\\n\",\n",
       " \"Ung'bambe, ung'dedele. Ung'bhasobhe, ung'gudluke\\n\",\n",
       " \"Ung'bambe, ung'dedele. Ung'bhasobhe, ung'gudluke\\n\",\n",
       " \"Ung'bambe, ung'dedele. Ung'bhasobhe, ung'gudluke\\n\",\n",
       " '[Zacari:]\\n',\n",
       " 'Baby I want you\\n',\n",
       " 'Baby I need you\\n',\n",
       " 'I wanna see you\\n',\n",
       " 'Baby I wanna go out yeah\\n',\n",
       " 'Baby I wanna go out yeah\\n',\n",
       " 'Baby I want you\\n',\n",
       " 'Baby I need you\\n',\n",
       " 'I wanna see you\\n',\n",
       " 'Baby I wanna go out yeah\\n',\n",
       " 'Baby I wanna go out yeah\\n',\n",
       " 'All night (all night all night)\\n',\n",
       " 'All night\\n',\n",
       " \"Your body's on fire\\n\",\n",
       " 'And your drinks on ice\\n',\n",
       " 'All night (all night all night)\\n',\n",
       " 'All night\\n',\n",
       " \"Your body's on fire\\n\",\n",
       " 'And your drinks on ice\\n',\n",
       " '[Kendrick Lamar:]\\n',\n",
       " '(We go)\\n',\n",
       " 'High up (High up)\\n',\n",
       " 'High up (High up)\\n',\n",
       " 'High up (High up)\\n',\n",
       " 'High up (High up)\\n',\n",
       " 'High up (High up)\\n',\n",
       " 'High up (High up)\\n',\n",
       " 'High up (High up)\\n',\n",
       " 'High up (High up)\\n',\n",
       " '[?]\\n',\n",
       " '[Zacari:]\\n',\n",
       " 'Baby I want you\\n',\n",
       " 'Baby I need you\\n',\n",
       " 'I wanna see you\\n',\n",
       " 'Baby I wanna go out yeah\\n',\n",
       " 'Baby I wanna go out yeah\\n',\n",
       " 'Baby I want you\\n',\n",
       " 'Baby I need you\\n',\n",
       " 'I wanna see you\\n',\n",
       " 'Baby I wanna go out yeah\\n',\n",
       " 'Baby I wanna go out yeah\\n',\n",
       " 'All night (all night all night)\\n',\n",
       " 'All night\\n',\n",
       " \"Your body's on fire\\n\",\n",
       " 'And your drinks on ice\\n',\n",
       " 'All night (all night all night)\\n',\n",
       " 'All night\\n',\n",
       " \"Your body's on fire\\n\",\n",
       " 'And your drinks on ice\\n']"
      ]
     },
     "execution_count": 40,
     "metadata": {},
     "output_type": "execute_result"
    }
   ],
   "source": [
    "# Import and print song18.txt\n",
    "with open('data/song18.txt') as f:\n",
    "    test_song = f.readlines()\n",
    "    \n",
    "test_song"
   ]
  },
  {
   "cell_type": "code",
   "execution_count": 41,
   "metadata": {},
   "outputs": [],
   "source": [
    "# def main(filenames):\n",
    "\n",
    "#     all_songs = []\n",
    "#     for song in filenames:\n",
    "#         with open(f'data/{song}') as f:\n",
    "#             song_lyrics = f.readlines()\n",
    "#             all_songs.append(song_lyrics)\n",
    "    \n",
    "#     all_song_tokens = []\n",
    "\n",
    "#     for song in all_songs:\n",
    "#         song_tokens = word_tokenize(clean_song(song))\n",
    "#         all_song_tokens.append(song_tokens)\n",
    "\n",
    "#     tf_idf_all_docs = tf_idf(all_song_tokens)\n",
    "#     return tf_idf_all_docs\n",
    "\n",
    "# tf_idf_all_docs = main(filenames)"
   ]
  },
  {
   "cell_type": "code",
   "execution_count": 42,
   "metadata": {},
   "outputs": [],
   "source": [
    "def main(filenames):\n",
    "    song_collection = []\n",
    "    for song in filenames:\n",
    "        with open(f'data/{song}') as f:\n",
    "            song_lyrics = f.readlines()\n",
    "            song_collection.append(song_lyrics)\n",
    "            \n",
    "    song_token_collection = []\n",
    "    for song in song_collection:\n",
    "        song_tokens = word_tokenize(clean_song(song))\n",
    "        song_token_collection.append(song_tokens)\n",
    "        \n",
    "    tf_idf_all_docs = tf_idf(song_token_collection)\n",
    "    return tf_idf_all_docs\n",
    "\n",
    "tf_idf_all_docs = main(filenames)"
   ]
  },
  {
   "cell_type": "markdown",
   "metadata": {},
   "source": [
    "### Level Up: Visualizing our Vectorizations (Optional)\n",
    "\n",
    "Now that we have a tf-idf representation of each document, we can move on to the fun part -- visualizing everything!\n",
    "\n",
    "In the cell below, examine our dictionaries to figure out how many dimensions our dataset has. \n",
    "\n",
    "**_HINT_**: Remember that every word is its own dimension!"
   ]
  },
  {
   "cell_type": "code",
   "execution_count": 43,
   "metadata": {},
   "outputs": [
    {
     "name": "stdout",
     "output_type": "stream",
     "text": [
      "Number of Dimensions: ['show', 'admission', 'has', 'enshrined', 'boss', 'diddy', 'status', 'her', 'kikiritikiki', 'said', 'poison', 'wanting', 'cleaning', 'haunt', 'blindfolded', 'die', 'heading', 'savannah', 'nerve', 'standing', 'sailing', 'air', 'always', 'ye', 'too', 'working', 'getting', 'beach', 'end', 'fo', 'girls', 'thirty', 'felt', 'hopin', 'might', 'bout', 'motherfucker', 'tapped', 'song', 'bust', 'slob', 'hurricanes', 'del', 'act', 'closer', 'stay', 'chords', 'lift', 'prowl', 'house', 'wakanda', 'earthquake', 'seen', 'falls', 'will', 'lean', 'ill', 'kind', 'moves', 'were', 'sign', 'more', 'sin', 'mando', 'murder', 'signed', 'onto', 'rhyme', 'say', 'many', 'anymore', 'save', 'asks', 'ive', 'dog', 'he', 'armored', 'light', 'ones', 'guys', 'somebody', 'places', 'common', 'pretty', 'cryin', 'depending', 'seems', 'percentage', 'found', 'happened', 'hours', 'sure', 'through', 'louisiana', 'maxed', 'i', 'punch', 'hop', 'background', 'ship', 'petty', 'nothings', 'team', 'part', 'mind', 'anywhere', 'last', 'course', 'against', 'cars', 'secret', 'crossin', 'world', 'rubber', 'rest', 'hed', 'posters', 'flex', 'simply', 'gone', 'walking', 'losin', 'woah', 'wake', 'government', 'havana', 'or', 'best', 'nightstand', 'niggas', 'should', 'magnum', 'loud', 'there', 'chess', 'case', 'confetti', 'thirstin', 'two-thirds', 'nowhere', 'freaked', 'never', 'judge', 'agua', 'without', 'with', 'matches', 'behind', 'work', 'edge', 'peanut', 'hers', 'green', 'thought', 'close', 'à', 'those', 'politics', 'na', 'litty', 'bullshit', 'morning', 'own', 'carryin', 'mines', 'hazy', 'dealin', 'money', 'blonde', 'ohh', 'start', 'pass', 'shits', 'expectations', 'taxi', 'lay', 'mouth', 'afternoon', 'rain', 'prophecy', 'get', 'knows', 'put', 'worse', 'skin', 'nursin', 'bleeding', 'crawl', 'hide', 'glory', 'emotional', 'miracle', 'dawg', 'brother', 'stick', 'lox', 'what', 'theyre', 'adrenaline', 'jumpin', 'us', 'flowers', 'beam', 'benz', 'cabanas', 'foggy', 'breakfast', 'than', 'afraid', 'standin', 'egotistic', 'but', 'remedy', 'things', 'can', 'rode', 'sitting', 'queen', 'beside', 'bang', 'crime', 'isnt', 'as', 'operator', 'ta', 'fire', 'strings', 'before', 'jackets', 'knockoff', 'rightful', 'why', 'destruction', 'fuck', 'role', 'kings', 'talkin', 'everlasting', 'lawless', 'mac', 'warrior', 'brunette', 'ungdedele', 'asked', 'russians', 'stand', 'figures', 'sacrificed', 'give', 'wide', 'runneth', 'hot', 'yes', 'dirt', 'city', 'men', 'wearing', 'mercy', 'a', 'riding', 'ways', 'rocks', 'away', 'sun', 'left', 'footprints', 'comfort', 'beg', 'would', 'shame', 'vibrant', 'again', 'queens', 'romance', 'fingerprints', 'guards', 'time', 'hero', 'changed', 'perimeter', 'mass', 'real', 'change', '100', 'figurines', 'coupe', 'gets', 'knees', 'nope', 'hold', 'bring', 'plan', 'and', 'underlined', '8teen', 'engine', 'trinity', 'oh', '83', 'took', 'cocaine', 'sand', 'sees', 'king', 'trapped', 'power', 'zoom', 'move', 'lick', 'freedom', 'contribution', 'times', 'its', 'raised', 'jury', 'highway', 'charter', 'mom', 'champaign-urbana', 'spitting', 'promises', 'is', 'blind', 'throne', 'fee', 'reverence', 'sundown', 'whippin', 'butterflies', 'ground', 'turn', 'pow', 'knocks', 'play', 'tips', 'emergency', 'walked', 'devoted', 'heaven', 'style', 'closed', 'ward', 'moat', 'they', 'whiskey', 'thinkin', 'dessert', 'who', 'bouta', 'committing', 'dying', 'gifted', 'damn', 'hate', 'og', 'pissed', 'told', 'yall', 'else', 'eyy', 'knob', 'snakin', 'iggy', 'gift', 'doin', 'bag', 'acquitted', 'aint', 'relief', 'words', 'that', 'armory', 'burdens', 'unleash', 'evening', 'broads', 'your', 'together', 'every', 'needs', 'scope', 'find', 'mmm', 'beams', 'games', 'gosh', 'these', 'over', 'full', 'neighbor', 'rockin', 'face', 'eat', 'livin', 'red-head', \"''\", 'prayin', 'lioness', 'for', 'wins', 'ralphs', 'rims', 'recognize', 'n', 'wheres', 'call', 'friends', 'run', 'to—', 'playing', 'hit', 'depart', 'myself', 'kitchen', 'story', 'side', 'ice', 'waited', 'six', 'multitudes', 'friend', 'homecoming', 'thank', '``', 'word', 'mama', 'his-', 'floor', 'tryna', 'kickin', 'balance', 'pure', 'colours', 'guyana', 'shake', 'mopped', 'night', 'two', 'calculated', 'no', 'fast', 'corruption', 'bet', 'where', 'lows', 'drown', 'care', 'wild', 'raw', 'travel', 'theres', 'uh', 'alright', 'enough', 'compound', 'safe', 'motion', 'pearly', 'fiddy', 'night-call', 'little', 'under', '911', 'lemons', 'freeze', 'tried', 'desert', 'war', 'stutter', 'jukejoint', 'live', 'shell', 'indifferent', 'know-ow-ow', 'thatll', 'walk', 'buddies', 'millie', 'most', 'want', 'fucked', 'somethings', 'ever', 'blue', 'water', 'yah', 'juggin', 'lady', 'romantic', 'life', 'psych', 'desire', 'starts', 'beast', 'man', 'one', 'entitled', 'when', 'sufferin', 'everybody', 'knowing', 'late', 'flood', 'love', 'da', 'herb', 'block', 'thou', 'trick', 'figure', 'racks', 'important', 'had', 'checks', 'patient', 'kathleen', 'do', 'rolled', 'cup', 'chance', 'bed', 'adds', 'this', 'hiding', 'know-ow', 'ends', 'must', 'blood', 'vincent', 'false', 'of', 'forget', 'wan', 'momma', 'forgot', 'moral', 'piece', 'ore', 'mapped', 'comes', 'knew', 'dirty', 'blackin', 'small', 'turned', 'white', 'listens', 'children', 'ear', 'caution', 'unwind', 'saint', 'set', 'dough', 'cross', 'warfare', 'purped', 'marys', 'magnums', 'submarine', 'standby', 'rhymes', 'kept', 'planes', 'lord', 'taping', 'nice', 'country', 'weaver', 'chantin', 'insides', 'mask', 'millipede', 'chase', 'dropped', 'stop', 'pulled', 'once', 'soul', 'endorsin', 'walls', 'ima', 'gods', 'well', 'then', 'cash', 'approach', 'silver', 'blessing', 'subject', 'only', 'pity', 'message', 'views', 'head', 'serve', 'like', 'trees', 'way', 'girl', 'church', 'shit', 'havent', 'member', 'gates', 'thumpin', 'open', 'pick-up', 'bumps', 'bypass', 'pop', 'each', 'ceiling', 'gave', 'some', 'keep', 'space', 'problem', 'driving', 'up', 'stealing', 'neon', 'cab', 'bite', 'breathin', 'happy', 'try', 'made', 'dinner', 'south', 'jackson', 'wouldnt', 'whos', 'sword', 'blah', 'jump', 'purist', 'vienna', 'body', 'big', 'radion', 'buildin', 'whoever', 'low', 'was', 'streets', 'high', 'means', 'sea', 'zero', 'perfect', 'pray', 'honky-tonk', 'letter', 'sweet', 'stack', 'angel', 'top', 'brand', 'from', 'eyes', 'realest', 'aid', 'such', 'she', 'wrist', 'push', 'the', 'thinking', 'karaoke', 'cowboys', 'western', 'hes', 'gon', 'drive', 'band', 'right', 'hi-rez', 'atlanta', 'boo', 'offends', 'section', 'chitty', 'rodeo', 'leave', 'road', 'jo-ann', 'until', 'wait', 'father', 'jc', 'yeah', 'in', 'deaf', 'seasoned', 'bodys', 'probably', 'drinks', 'standout', 'plus', 'game', 'integrity', 'looks', 'hands', 'thunder', 'truth', 'zone', 'occurred', 'whoa', 'after', 'swimming', 'blues', 'hoped', 'syrupd', 'tee', 'other', 'college', 'spilled', 'pajamas', 'voicing', 'em', 'stars', 'extensions', 'off', 'moving', 'weekend', 'week', 'soon', 'an', 'how', 'sleep', 'haters', 'swaps', 'falling', 'slow', 'di', 'position', 'home', 'so', 'fourteen', 'hope', 'control', 'steppin', 'luck', 'ah', 'organized', 'killers', 'leaf', 'born', 'kalashnikov', 'turns', 'la', 'not', 'liney', 'beer', 'strike', 'kung-fu', 'around', 'clydes', 'storm', 'look', 'coming', 'brothers', 'channel', 'master', 'whip', 'clutchin', 'rapture', 'traffic', 'hear', 'fall', 'ooh', 'heart', '9', 'state', 'welcome', 'brown', 'margin', 'busting', 'shoot', 'thats', 'yourself', 'ungbambe', 'miss', 'dial', 'worked', '20', 'chill', 'fool', 'good', 'do-do-do-do', 'crazy', 'id', 'movin', 'press', 'hall', 'gettin', 'bangs', 'fair', 'hittas', 'verbal', 'needle', 'pimp', 'ropes', 'am', 'sorry', 'ungbhasobhe', 'kenny', 'touch', 'now', 'ocean', 'burning', 'somewhere', 'sweating', 'changes', 'hurts', 'clean', 'fears', 'criminal', 'sinister', 'huh', 'law', 'second', 'shows', 'out', 'known', 'clyde', 'aching', 'squad', 'butter', 'meant', 'party', 'workin', 'bullet', 'breaks', 'bodies', 'montana', 'hurtin', 'rules', 'mothafuck', 'shooters', 'loves', 'coons', 'sands', 'penthouse', 'another', 'swear', 'lets', 'lane', 'crushing', 'scenes', 'jesus', 'satisfied', 'our', 'defeat', 'been', 'reside', 'need', 'whats', 'intensive', 'me', 'ménage', 'free', 'clique', 'tendons', 'worth', '10s', 'alabama', 'drumming', 'thanks', 'equal', 'c4', 'threatening', 'him', 'byway', 'sunshine', 'color', 'talk', 'sing', 'raging', 'skrrt', 'souls', 'days', 'spent', 'still', 'at', 'cleaver', 'jack', 'desperate', 'polite', 'throw', 'doorsteps', 'opps', 'ask', 'did', 'dominguez', 'confrontation', 'sacrifice', 'could', 'pristine', 'dust', 'goes', 'hand', 'wreck', 'whole', 'castin', 'alive', 'ate', 'runnin', 'ego', 'genitals', 'wives', 'ad-lib', 'swingin', 'soulo', 'hoping', 'fought', 'hell', 'broken', 'ride', 'debt', 'radar', '500', 'bitch', 'his', 'drawn', 'involved', 'ventura', 'sho', 'phillipe', 'any', 'guess', 'hard', 'ballistic', 'flash', 'back', 'tend', 'fight', 'circumstance', 'doors', 'wrong', 'righteous', 'morgue', 'surface', 'black', 'wherever', 'tourist', 'forever', 'juice', 'casualty', 'says', 'lose', 'scarface', 'slide', 'cover', 'forgotten', 'plate', 'monday', 'both', 'curtains', 'js', 'outside', 'kinda', 'covered', 'dancing', 'blades', 'somethin', 'doubt', 'fates', 'smoke', 'weight', 'rover', 'breathe', 'new', 'rollin', 'thieving', 'roll', 'cause', 'japan', 'check', 'sittin', 'rejoin', 'makin', 'comin', 'victim', 'it', 'building', 'lent', 'dark', 'wept', 'hollow', 'window', 'spit', 'grabs', 'bags', 'about', 'maple', 'hang', 'surprised', 'red', 'switch', 'easy', 'sleight', 'spinning', 'lockjaw', '87', 'make', 'passed', 'metaphor', 'siena', 'everything', 'chosen', 'meet', 'brain', 'fun', 'lookin', 'grindin', 'running', 'youre', 'truly', 'tryin', 'moses', 'mirror', 'later', 'hol', 'missing', 'lit', 'pedigree', 'though', 'someday', 'fly', 'topped-off', 'wont', 'tonight', 'plenty', 'friday', 'may', 'hundred', 'benji', 'reason', 'rolls', 'loving', 'nothing', 'answer', 'opinion', 'my', 'beneath', 'loved', 'signatures', 'herby', 'unggudluke', 'lungs', 'youll', 'pull', 'front', 'valentines', 'antidote', 'ayy', 'prince-turned-pope', 'machinery', 'future', 'tell', 'talking', 'bars', 'boat', 'center-attention', 'youd', 'let', 'tears', 'sad', 'pain', 'nobody', 'are', 'ball', 'scenery', 'tank', 'fiery', 'armageddon', 'administer', 'settle', 'help', 'done', 'machine', 'wave', 'diss', 'refined', 'just', 'explain', 'shotgun', 'showing', 'bend', 'mvp', 'finesse', '4', 'have', 'youve', 'mayhem', 'yous', 'take', 'please', 'suit', 'dock', 'wine', 'five', 'by', 'aura', 'credit', 'stretch', 'even', 'guard', 'watch', 'hey', 'wrongs', 'survive', 'bought', 'disagreement', 'thing', 'ears', 'got', 'ya', 'peace', 'remote', 'pack', 'long', 'shes', 'track', 'baby', 'family', 'pictures', 'lasers', 'young', 'draw', 'skip', 'today', 'know', 'realize', 'everyone', 'gentiles', 'bad', 'unleaded', 'something', 'lives', 'shirt', 'everywhere', 'better', 'attack', 'see', 'we', 'feels', 'singing', 'beat', 'amen', 'general', 'lime', 'oclock', 'cant', 'street', 'gang', 'going', 'crash', 'claimed', 'understand', 'dead', 'door', 'stopping', 'phone', 'woo', 'cyborg', 'finally', 'true', 'congratulations', 'trippin', 'amo', 'pumps', 'land', 'confidence', 'laughing', 'model', 'lil', 'counting', 'anything', 'uncle', 'feelings', 'quite', 'strength', 'half', 'nimbus', 'killmonger', 'complete', 'feeling', 'rocking', 'target', 'buried', 'hail', 'screaming', 'much', 'four', 'straight', 'sneak', 'emotion', 'first', 'yaow', 'aimin', 'fame', 'tangle', 'spending', 'royce', 'shoulder', 'sky', 'maybe', 'all', 'doesnt', 'west', 'buggin', 'electorial', 'glowin', 'nigga', 'bossed', 'flight', 'cutlass', 'knock', 'title', 'making', 'lackin', 'fishing', 'alone', 'foreman', 'shots', 'conniving', 'promised', 'hoe', 'swore', 'muncie', 'jamaica', 'system', 'absent', 'pick', 'syrup', 'god', 'on', 'mans', 'be', 'goin', 'euphoria', 'crimes', 'dreams', 'loss', 'triggering', 'glock', 'feel', 'panther', 'lines', 'drummer', 'dealer', 'break', 'im', 'stubborn', 'prove', 'come', 'patois', 'obscene', 'down', 'thousand', 'sound', 'ready', 'their', 'conversation', 'stays', 'culture', 'dance', 'dont', 'scared', 'score', 'poor', 'passengers', 'keys', 'hustle', 'greater', 'write', 'go', 'hummed', 'people', 'kill', 'partner', 'begins', 'size', 'paraplegic', 'shot', 'gas', 'operater', 'handsome', 'borderline', 'slick', 'holding', 'prayer', 'repeat', 'smile', 'invite', 'inside', 'corrupt', 'teach', 'belittles', 'frozen', 'them', 'name', 'c', 'spirit', 'faith', 'subliminal', 'rebound', 'indiana', 'lights', 'aftermath', 'passage', 'siri', 'speed', 'here', 'double', 'steve', 'really', 'trance', 'sometimes', 'day', 'swing', 'to', 'trois', 'puddles', 'car', 'trying', 'letters', 'roar', 'heard', 'coast', 'pride', 'genocide', 'winnin', 'you', 'if', 'nothin', 'different', 'lanes', 'same']\n"
     ]
    }
   ],
   "source": [
    "num_dims = list(tf_idf_all_docs[0].keys())\n",
    "print(f\"Number of Dimensions: {num_dims}\")"
   ]
  },
  {
   "cell_type": "code",
   "execution_count": 44,
   "metadata": {},
   "outputs": [],
   "source": [
    "# vocab = list(tf_idf_all_docs[0].keys())\n",
    "# num_dims = len(vocab)\n",
    "# # Same as:\n",
    "# # num_dims = len(tf_idf_all_docs[0])\n",
    "# print(f\"Number of Dimensions: {num_dims}\")"
   ]
  },
  {
   "cell_type": "code",
   "execution_count": 45,
   "metadata": {},
   "outputs": [
    {
     "name": "stdout",
     "output_type": "stream",
     "text": [
      "1342\n",
      "Number of Dimensions: ['show', 'admission', 'has', 'enshrined', 'boss', 'diddy', 'status', 'her', 'kikiritikiki', 'said', 'poison', 'wanting', 'cleaning', 'haunt', 'blindfolded', 'die', 'heading', 'savannah', 'nerve', 'standing', 'sailing', 'air', 'always', 'ye', 'too', 'working', 'getting', 'beach', 'end', 'fo', 'girls', 'thirty', 'felt', 'hopin', 'might', 'bout', 'motherfucker', 'tapped', 'song', 'bust', 'slob', 'hurricanes', 'del', 'act', 'closer', 'stay', 'chords', 'lift', 'prowl', 'house', 'wakanda', 'earthquake', 'seen', 'falls', 'will', 'lean', 'ill', 'kind', 'moves', 'were', 'sign', 'more', 'sin', 'mando', 'murder', 'signed', 'onto', 'rhyme', 'say', 'many', 'anymore', 'save', 'asks', 'ive', 'dog', 'he', 'armored', 'light', 'ones', 'guys', 'somebody', 'places', 'common', 'pretty', 'cryin', 'depending', 'seems', 'percentage', 'found', 'happened', 'hours', 'sure', 'through', 'louisiana', 'maxed', 'i', 'punch', 'hop', 'background', 'ship', 'petty', 'nothings', 'team', 'part', 'mind', 'anywhere', 'last', 'course', 'against', 'cars', 'secret', 'crossin', 'world', 'rubber', 'rest', 'hed', 'posters', 'flex', 'simply', 'gone', 'walking', 'losin', 'woah', 'wake', 'government', 'havana', 'or', 'best', 'nightstand', 'niggas', 'should', 'magnum', 'loud', 'there', 'chess', 'case', 'confetti', 'thirstin', 'two-thirds', 'nowhere', 'freaked', 'never', 'judge', 'agua', 'without', 'with', 'matches', 'behind', 'work', 'edge', 'peanut', 'hers', 'green', 'thought', 'close', 'à', 'those', 'politics', 'na', 'litty', 'bullshit', 'morning', 'own', 'carryin', 'mines', 'hazy', 'dealin', 'money', 'blonde', 'ohh', 'start', 'pass', 'shits', 'expectations', 'taxi', 'lay', 'mouth', 'afternoon', 'rain', 'prophecy', 'get', 'knows', 'put', 'worse', 'skin', 'nursin', 'bleeding', 'crawl', 'hide', 'glory', 'emotional', 'miracle', 'dawg', 'brother', 'stick', 'lox', 'what', 'theyre', 'adrenaline', 'jumpin', 'us', 'flowers', 'beam', 'benz', 'cabanas', 'foggy', 'breakfast', 'than', 'afraid', 'standin', 'egotistic', 'but', 'remedy', 'things', 'can', 'rode', 'sitting', 'queen', 'beside', 'bang', 'crime', 'isnt', 'as', 'operator', 'ta', 'fire', 'strings', 'before', 'jackets', 'knockoff', 'rightful', 'why', 'destruction', 'fuck', 'role', 'kings', 'talkin', 'everlasting', 'lawless', 'mac', 'warrior', 'brunette', 'ungdedele', 'asked', 'russians', 'stand', 'figures', 'sacrificed', 'give', 'wide', 'runneth', 'hot', 'yes', 'dirt', 'city', 'men', 'wearing', 'mercy', 'a', 'riding', 'ways', 'rocks', 'away', 'sun', 'left', 'footprints', 'comfort', 'beg', 'would', 'shame', 'vibrant', 'again', 'queens', 'romance', 'fingerprints', 'guards', 'time', 'hero', 'changed', 'perimeter', 'mass', 'real', 'change', '100', 'figurines', 'coupe', 'gets', 'knees', 'nope', 'hold', 'bring', 'plan', 'and', 'underlined', '8teen', 'engine', 'trinity', 'oh', '83', 'took', 'cocaine', 'sand', 'sees', 'king', 'trapped', 'power', 'zoom', 'move', 'lick', 'freedom', 'contribution', 'times', 'its', 'raised', 'jury', 'highway', 'charter', 'mom', 'champaign-urbana', 'spitting', 'promises', 'is', 'blind', 'throne', 'fee', 'reverence', 'sundown', 'whippin', 'butterflies', 'ground', 'turn', 'pow', 'knocks', 'play', 'tips', 'emergency', 'walked', 'devoted', 'heaven', 'style', 'closed', 'ward', 'moat', 'they', 'whiskey', 'thinkin', 'dessert', 'who', 'bouta', 'committing', 'dying', 'gifted', 'damn', 'hate', 'og', 'pissed', 'told', 'yall', 'else', 'eyy', 'knob', 'snakin', 'iggy', 'gift', 'doin', 'bag', 'acquitted', 'aint', 'relief', 'words', 'that', 'armory', 'burdens', 'unleash', 'evening', 'broads', 'your', 'together', 'every', 'needs', 'scope', 'find', 'mmm', 'beams', 'games', 'gosh', 'these', 'over', 'full', 'neighbor', 'rockin', 'face', 'eat', 'livin', 'red-head', \"''\", 'prayin', 'lioness', 'for', 'wins', 'ralphs', 'rims', 'recognize', 'n', 'wheres', 'call', 'friends', 'run', 'to—', 'playing', 'hit', 'depart', 'myself', 'kitchen', 'story', 'side', 'ice', 'waited', 'six', 'multitudes', 'friend', 'homecoming', 'thank', '``', 'word', 'mama', 'his-', 'floor', 'tryna', 'kickin', 'balance', 'pure', 'colours', 'guyana', 'shake', 'mopped', 'night', 'two', 'calculated', 'no', 'fast', 'corruption', 'bet', 'where', 'lows', 'drown', 'care', 'wild', 'raw', 'travel', 'theres', 'uh', 'alright', 'enough', 'compound', 'safe', 'motion', 'pearly', 'fiddy', 'night-call', 'little', 'under', '911', 'lemons', 'freeze', 'tried', 'desert', 'war', 'stutter', 'jukejoint', 'live', 'shell', 'indifferent', 'know-ow-ow', 'thatll', 'walk', 'buddies', 'millie', 'most', 'want', 'fucked', 'somethings', 'ever', 'blue', 'water', 'yah', 'juggin', 'lady', 'romantic', 'life', 'psych', 'desire', 'starts', 'beast', 'man', 'one', 'entitled', 'when', 'sufferin', 'everybody', 'knowing', 'late', 'flood', 'love', 'da', 'herb', 'block', 'thou', 'trick', 'figure', 'racks', 'important', 'had', 'checks', 'patient', 'kathleen', 'do', 'rolled', 'cup', 'chance', 'bed', 'adds', 'this', 'hiding', 'know-ow', 'ends', 'must', 'blood', 'vincent', 'false', 'of', 'forget', 'wan', 'momma', 'forgot', 'moral', 'piece', 'ore', 'mapped', 'comes', 'knew', 'dirty', 'blackin', 'small', 'turned', 'white', 'listens', 'children', 'ear', 'caution', 'unwind', 'saint', 'set', 'dough', 'cross', 'warfare', 'purped', 'marys', 'magnums', 'submarine', 'standby', 'rhymes', 'kept', 'planes', 'lord', 'taping', 'nice', 'country', 'weaver', 'chantin', 'insides', 'mask', 'millipede', 'chase', 'dropped', 'stop', 'pulled', 'once', 'soul', 'endorsin', 'walls', 'ima', 'gods', 'well', 'then', 'cash', 'approach', 'silver', 'blessing', 'subject', 'only', 'pity', 'message', 'views', 'head', 'serve', 'like', 'trees', 'way', 'girl', 'church', 'shit', 'havent', 'member', 'gates', 'thumpin', 'open', 'pick-up', 'bumps', 'bypass', 'pop', 'each', 'ceiling', 'gave', 'some', 'keep', 'space', 'problem', 'driving', 'up', 'stealing', 'neon', 'cab', 'bite', 'breathin', 'happy', 'try', 'made', 'dinner', 'south', 'jackson', 'wouldnt', 'whos', 'sword', 'blah', 'jump', 'purist', 'vienna', 'body', 'big', 'radion', 'buildin', 'whoever', 'low', 'was', 'streets', 'high', 'means', 'sea', 'zero', 'perfect', 'pray', 'honky-tonk', 'letter', 'sweet', 'stack', 'angel', 'top', 'brand', 'from', 'eyes', 'realest', 'aid', 'such', 'she', 'wrist', 'push', 'the', 'thinking', 'karaoke', 'cowboys', 'western', 'hes', 'gon', 'drive', 'band', 'right', 'hi-rez', 'atlanta', 'boo', 'offends', 'section', 'chitty', 'rodeo', 'leave', 'road', 'jo-ann', 'until', 'wait', 'father', 'jc', 'yeah', 'in', 'deaf', 'seasoned', 'bodys', 'probably', 'drinks', 'standout', 'plus', 'game', 'integrity', 'looks', 'hands', 'thunder', 'truth', 'zone', 'occurred', 'whoa', 'after', 'swimming', 'blues', 'hoped', 'syrupd', 'tee', 'other', 'college', 'spilled', 'pajamas', 'voicing', 'em', 'stars', 'extensions', 'off', 'moving', 'weekend', 'week', 'soon', 'an', 'how', 'sleep', 'haters', 'swaps', 'falling', 'slow', 'di', 'position', 'home', 'so', 'fourteen', 'hope', 'control', 'steppin', 'luck', 'ah', 'organized', 'killers', 'leaf', 'born', 'kalashnikov', 'turns', 'la', 'not', 'liney', 'beer', 'strike', 'kung-fu', 'around', 'clydes', 'storm', 'look', 'coming', 'brothers', 'channel', 'master', 'whip', 'clutchin', 'rapture', 'traffic', 'hear', 'fall', 'ooh', 'heart', '9', 'state', 'welcome', 'brown', 'margin', 'busting', 'shoot', 'thats', 'yourself', 'ungbambe', 'miss', 'dial', 'worked', '20', 'chill', 'fool', 'good', 'do-do-do-do', 'crazy', 'id', 'movin', 'press', 'hall', 'gettin', 'bangs', 'fair', 'hittas', 'verbal', 'needle', 'pimp', 'ropes', 'am', 'sorry', 'ungbhasobhe', 'kenny', 'touch', 'now', 'ocean', 'burning', 'somewhere', 'sweating', 'changes', 'hurts', 'clean', 'fears', 'criminal', 'sinister', 'huh', 'law', 'second', 'shows', 'out', 'known', 'clyde', 'aching', 'squad', 'butter', 'meant', 'party', 'workin', 'bullet', 'breaks', 'bodies', 'montana', 'hurtin', 'rules', 'mothafuck', 'shooters', 'loves', 'coons', 'sands', 'penthouse', 'another', 'swear', 'lets', 'lane', 'crushing', 'scenes', 'jesus', 'satisfied', 'our', 'defeat', 'been', 'reside', 'need', 'whats', 'intensive', 'me', 'ménage', 'free', 'clique', 'tendons', 'worth', '10s', 'alabama', 'drumming', 'thanks', 'equal', 'c4', 'threatening', 'him', 'byway', 'sunshine', 'color', 'talk', 'sing', 'raging', 'skrrt', 'souls', 'days', 'spent', 'still', 'at', 'cleaver', 'jack', 'desperate', 'polite', 'throw', 'doorsteps', 'opps', 'ask', 'did', 'dominguez', 'confrontation', 'sacrifice', 'could', 'pristine', 'dust', 'goes', 'hand', 'wreck', 'whole', 'castin', 'alive', 'ate', 'runnin', 'ego', 'genitals', 'wives', 'ad-lib', 'swingin', 'soulo', 'hoping', 'fought', 'hell', 'broken', 'ride', 'debt', 'radar', '500', 'bitch', 'his', 'drawn', 'involved', 'ventura', 'sho', 'phillipe', 'any', 'guess', 'hard', 'ballistic', 'flash', 'back', 'tend', 'fight', 'circumstance', 'doors', 'wrong', 'righteous', 'morgue', 'surface', 'black', 'wherever', 'tourist', 'forever', 'juice', 'casualty', 'says', 'lose', 'scarface', 'slide', 'cover', 'forgotten', 'plate', 'monday', 'both', 'curtains', 'js', 'outside', 'kinda', 'covered', 'dancing', 'blades', 'somethin', 'doubt', 'fates', 'smoke', 'weight', 'rover', 'breathe', 'new', 'rollin', 'thieving', 'roll', 'cause', 'japan', 'check', 'sittin', 'rejoin', 'makin', 'comin', 'victim', 'it', 'building', 'lent', 'dark', 'wept', 'hollow', 'window', 'spit', 'grabs', 'bags', 'about', 'maple', 'hang', 'surprised', 'red', 'switch', 'easy', 'sleight', 'spinning', 'lockjaw', '87', 'make', 'passed', 'metaphor', 'siena', 'everything', 'chosen', 'meet', 'brain', 'fun', 'lookin', 'grindin', 'running', 'youre', 'truly', 'tryin', 'moses', 'mirror', 'later', 'hol', 'missing', 'lit', 'pedigree', 'though', 'someday', 'fly', 'topped-off', 'wont', 'tonight', 'plenty', 'friday', 'may', 'hundred', 'benji', 'reason', 'rolls', 'loving', 'nothing', 'answer', 'opinion', 'my', 'beneath', 'loved', 'signatures', 'herby', 'unggudluke', 'lungs', 'youll', 'pull', 'front', 'valentines', 'antidote', 'ayy', 'prince-turned-pope', 'machinery', 'future', 'tell', 'talking', 'bars', 'boat', 'center-attention', 'youd', 'let', 'tears', 'sad', 'pain', 'nobody', 'are', 'ball', 'scenery', 'tank', 'fiery', 'armageddon', 'administer', 'settle', 'help', 'done', 'machine', 'wave', 'diss', 'refined', 'just', 'explain', 'shotgun', 'showing', 'bend', 'mvp', 'finesse', '4', 'have', 'youve', 'mayhem', 'yous', 'take', 'please', 'suit', 'dock', 'wine', 'five', 'by', 'aura', 'credit', 'stretch', 'even', 'guard', 'watch', 'hey', 'wrongs', 'survive', 'bought', 'disagreement', 'thing', 'ears', 'got', 'ya', 'peace', 'remote', 'pack', 'long', 'shes', 'track', 'baby', 'family', 'pictures', 'lasers', 'young', 'draw', 'skip', 'today', 'know', 'realize', 'everyone', 'gentiles', 'bad', 'unleaded', 'something', 'lives', 'shirt', 'everywhere', 'better', 'attack', 'see', 'we', 'feels', 'singing', 'beat', 'amen', 'general', 'lime', 'oclock', 'cant', 'street', 'gang', 'going', 'crash', 'claimed', 'understand', 'dead', 'door', 'stopping', 'phone', 'woo', 'cyborg', 'finally', 'true', 'congratulations', 'trippin', 'amo', 'pumps', 'land', 'confidence', 'laughing', 'model', 'lil', 'counting', 'anything', 'uncle', 'feelings', 'quite', 'strength', 'half', 'nimbus', 'killmonger', 'complete', 'feeling', 'rocking', 'target', 'buried', 'hail', 'screaming', 'much', 'four', 'straight', 'sneak', 'emotion', 'first', 'yaow', 'aimin', 'fame', 'tangle', 'spending', 'royce', 'shoulder', 'sky', 'maybe', 'all', 'doesnt', 'west', 'buggin', 'electorial', 'glowin', 'nigga', 'bossed', 'flight', 'cutlass', 'knock', 'title', 'making', 'lackin', 'fishing', 'alone', 'foreman', 'shots', 'conniving', 'promised', 'hoe', 'swore', 'muncie', 'jamaica', 'system', 'absent', 'pick', 'syrup', 'god', 'on', 'mans', 'be', 'goin', 'euphoria', 'crimes', 'dreams', 'loss', 'triggering', 'glock', 'feel', 'panther', 'lines', 'drummer', 'dealer', 'break', 'im', 'stubborn', 'prove', 'come', 'patois', 'obscene', 'down', 'thousand', 'sound', 'ready', 'their', 'conversation', 'stays', 'culture', 'dance', 'dont', 'scared', 'score', 'poor', 'passengers', 'keys', 'hustle', 'greater', 'write', 'go', 'hummed', 'people', 'kill', 'partner', 'begins', 'size', 'paraplegic', 'shot', 'gas', 'operater', 'handsome', 'borderline', 'slick', 'holding', 'prayer', 'repeat', 'smile', 'invite', 'inside', 'corrupt', 'teach', 'belittles', 'frozen', 'them', 'name', 'c', 'spirit', 'faith', 'subliminal', 'rebound', 'indiana', 'lights', 'aftermath', 'passage', 'siri', 'speed', 'here', 'double', 'steve', 'really', 'trance', 'sometimes', 'day', 'swing', 'to', 'trois', 'puddles', 'car', 'trying', 'letters', 'roar', 'heard', 'coast', 'pride', 'genocide', 'winnin', 'you', 'if', 'nothin', 'different', 'lanes', 'same']\n"
     ]
    }
   ],
   "source": [
    "vocab = list(tf_idf_all_docs[0].keys())\n",
    "num_dimensions = len(vocab)\n",
    "\n",
    "print(num_dimensions)\n",
    "print(f\"Number of Dimensions: {num_dims}\")\n"
   ]
  },
  {
   "cell_type": "markdown",
   "metadata": {},
   "source": [
    "There are too many dimensions for us to visualize! In order to make it understandable to human eyes, we'll need to reduce it to 2 or 3 dimensions.  \n",
    "\n",
    "To do this, we'll use a technique called **_t-SNE_** (short for _t-Stochastic Neighbors Embedding_).  This is too complex for us to code ourselves, so we'll make use of scikit-learn's implementation of it.  \n",
    "\n",
    "First, we need to pull the words out of the dictionaries stored in `tf_idf_all_docs` so that only the values remain, and store them in lists instead of dictionaries.  This is because the t-SNE only works with array-like objects, not dictionaries.  \n",
    "\n",
    "In the cell below, create a list of lists that contains a list representation of the values of each of the dictionaries stored in `tf_idf_all_docs`.  The same structure should remain -- e.g. the first list should contain only the values that were in the first dictionary in `tf_idf_all_docs`, and so on. "
   ]
  },
  {
   "cell_type": "code",
   "execution_count": 46,
   "metadata": {},
   "outputs": [
    {
     "data": {
      "text/plain": [
       "[0, 0, 0, 2.995732273553991, 0, 0, 0, 1.2039728043259361, 0, 2.302585092994046]"
      ]
     },
     "execution_count": 46,
     "metadata": {},
     "output_type": "execute_result"
    }
   ],
   "source": [
    "tf_idf_vals_list = []\n",
    "\n",
    "for i in tf_idf_all_docs:\n",
    "    tf_idf_vals_list.append(list(i.values()))\n",
    "\n",
    "tf_idf_vals_list[0][:10]"
   ]
  },
  {
   "cell_type": "markdown",
   "metadata": {},
   "source": [
    "Now that we have only the values, we can use the `TSNE()` class from `sklearn` to transform our data appropriately. In the cell below, instantiate `TSNE()` with the following arguments:\n",
    "- `n_components=3` (so we can compare 2 vs 3 components when graphing)\n",
    "- `perplexity=19` (the highest number of neighbors explored given the size of our dataset)\n",
    "- `learning_rate=200` (a higher learning rate than using 'auto', to avoid getting stuck in a local minimum)\n",
    "- `init='random'` (so SKLearn will randomize the initialization)\n",
    "- `random_state=13` (so that random initialization won't be TOO random)\n",
    "\n",
    "Then, use the created object's `.fit_transform()` method to transform the data stored in `tf_idf_vals_list` into 3-dimensional data.  Then, inspect the newly transformed data to confirm that it has the correct dimensionality. "
   ]
  },
  {
   "cell_type": "code",
   "execution_count": 47,
   "metadata": {},
   "outputs": [
    {
     "data": {
      "text/plain": [
       "array([[  6.4643335,  -4.335447 , -15.716937 ],\n",
       "       [  6.464324 ,  -4.335396 , -15.716919 ],\n",
       "       [  6.464354 ,  -4.335437 , -15.716957 ],\n",
       "       ...,\n",
       "       [ -2.9932046, -17.204021 ,  -6.6628985],\n",
       "       [ -2.4680028, -16.653492 ,  -9.393085 ],\n",
       "       [ -2.9932046, -17.204021 ,  -6.6628985]], dtype=float32)"
      ]
     },
     "execution_count": 47,
     "metadata": {},
     "output_type": "execute_result"
    }
   ],
   "source": [
    "t_sne_object_3d = TSNE(n_components = 3,\n",
    "                       perplexity = 19,\n",
    "                       learning_rate = 200,\n",
    "                       init = 'random',\n",
    "                       random_state = 13\n",
    "                       )\n",
    "\n",
    "transformed_data_3d = t_sne_object_3d.fit_transform(np.array(tf_idf_vals_list))\n",
    "transformed_data_3d"
   ]
  },
  {
   "cell_type": "markdown",
   "metadata": {},
   "source": [
    "We'll also want to check out how the visualization looks in 2d.  Repeat the process above, but this time, instantiate `TSNE()` with 2 components instead of 3.  Again, use `.fit_transform()` to transform the data and store it in the variable below, and then inspect it to confirm the transformed data has only 2 dimensions. "
   ]
  },
  {
   "cell_type": "code",
   "execution_count": null,
   "metadata": {},
   "outputs": [],
   "source": [
    "t_sne_object_2d = TSNE(n_components = 2,\n",
    "                       perplexity = 19,\n",
    "                       learning_rate = 200,\n",
    "                       init = 'random',\n",
    "                       random_state = 13\n",
    "                       )\n",
    "\n",
    "transformed_data_2d = t_sne_object_2d.fit_transform(np.array(tf_idf_vals_list))\n",
    "transformed_data_2d"
   ]
  },
  {
   "cell_type": "markdown",
   "metadata": {},
   "source": [
    "Now, let's visualize everything!  Run the cell below to view both 3D and 2D visualizations of the songs."
   ]
  },
  {
   "cell_type": "code",
   "execution_count": null,
   "metadata": {},
   "outputs": [
    {
     "data": {
      "image/png": "[encoded data removed]",
      "text/plain": [
       "<Figure size 1000x500 with 1 Axes>"
      ]
     },
     "metadata": {},
     "output_type": "display_data"
    },
    {
     "data": {
      "image/png": "[encoded data removed]",
      "text/plain": [
       "<Figure size 2000x1000 with 1 Axes>"
      ]
     },
     "metadata": {},
     "output_type": "display_data"
    }
   ],
   "source": [
    "kendrick_3d = transformed_data_3d[:10]\n",
    "k3_x = [i[0] for i in kendrick_3d]\n",
    "k3_y = [i[1] for i in kendrick_3d]\n",
    "k3_z = [i[2] for i in kendrick_3d]\n",
    "\n",
    "garth_3d = transformed_data_3d[10:]\n",
    "g3_x = [i[0] for i in garth_3d]\n",
    "g3_y = [i[1] for i in garth_3d]\n",
    "g3_z = [i[2] for i in garth_3d]\n",
    "\n",
    "fig = plt.figure(figsize=(10,5))\n",
    "ax = fig.add_subplot(111, projection='3d')\n",
    "ax.scatter(k3_x, k3_y, k3_z, c='b', s=60, label='Kendrick')\n",
    "ax.scatter(g3_x, g3_y, g3_z, c='red', s=60, label='Garth')\n",
    "ax.view_init(40,10)\n",
    "ax.legend()\n",
    "plt.show()\n",
    "\n",
    "kendrick_2d = transformed_data_2d[:10]\n",
    "k2_x = [i[0] for i in kendrick_2d]\n",
    "k2_y = [i[1] for i in kendrick_2d]\n",
    "\n",
    "garth_2d = transformed_data_2d[10:]\n",
    "g2_x = [i[0] for i in garth_2d]\n",
    "g2_y = [i[1] for i in garth_2d]\n",
    "\n",
    "fig = plt.figure(figsize=(20,10))\n",
    "ax = fig.add_subplot(222)\n",
    "ax.scatter(k2_x, k2_y, c='b', label='Kendrick')\n",
    "ax.scatter(g2_x, g2_y, c='red', label='Garth')\n",
    "ax.legend()\n",
    "plt.show()"
   ]
  },
  {
   "cell_type": "markdown",
   "metadata": {},
   "source": [
    "Interesting! Take a crack at interpreting these graphs by answering the following questions below:\n",
    "\n",
    "What does each graph mean? Do you find one graph more informative than the other? Do you think that this method shows us discernable differences between Kendrick Lamar songs and Garth Brooks songs?  Use the graphs and your understanding of TF-IDF to support your answer.  "
   ]
  },
  {
   "cell_type": "code",
   "execution_count": null,
   "metadata": {},
   "outputs": [],
   "source": [
    "'''\n",
    "WRITE YOUR ANSWER HERE\n",
    "'''"
   ]
  },
  {
   "cell_type": "markdown",
   "metadata": {},
   "source": [
    "## Summary\n",
    "\n",
    "In this lab, you learned how to: \n",
    "* Tokenize a corpus of words and identify the different choices to be made while parsing them \n",
    "* Use a count vectorization strategy to create a bag of words\n",
    "* Use TF-IDF vectorization with multiple documents to identify words that are important/unique to certain documents\n",
    "* Visualize and compare vectorized text documents"
   ]
  }
 ],
 "metadata": {
  "kernelspec": {
   "display_name": "learn-env",
   "language": "python",
   "name": "python3"
  },
  "language_info": {
   "codemirror_mode": {
    "name": "ipython",
    "version": 3
   },
   "file_extension": ".py",
   "mimetype": "text/x-python",
   "name": "python",
   "nbconvert_exporter": "python",
   "pygments_lexer": "ipython3",
   "version": "3.8.5"
  }
 },
 "nbformat": 4,
 "nbformat_minor": 2
}
