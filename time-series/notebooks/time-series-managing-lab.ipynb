{
 "cells": [
  {
   "cell_type": "markdown",
   "metadata": {},
   "source": [
    "# Managing Time Series Data - Lab\n",
    "\n",
    "## Introduction\n",
    "\n",
    "In the previous lesson, you learned that time series data are everywhere and working with time series data is an important skill for data scientists!\n",
    "\n",
    "In this lab, you'll practice your previously learned techniques to import, clean, and manipulate time series data.\n",
    "\n",
    "The lab will cover how to perform time series analysis while working with large datasets. The dataset can be memory intensive so your computer will need at least 2GB of memory to perform some of the calculations.\n",
    "\n",
    "\n",
    "## Objectives\n",
    "\n",
    "You will be able to:\n",
    "\n",
    "- Load time series data using pandas and perform time series indexing \n",
    "- Perform data cleaning operation on time series data \n",
    "- Change the granularity of a time series \n",
    "\n",
    "\n",
    "## Let's get started!\n",
    "\n",
    "Import the following libraries: \n",
    "\n",
    "* `pandas`, using the alias `pd` \n",
    "* `pandas.tseries` \n",
    "* `matplotlib.pyplot`, using the alias `plt` \n",
    "* `statsmodels.api`, using the alias `sm`"
   ]
  },
  {
   "cell_type": "code",
   "execution_count": 1,
   "metadata": {},
   "outputs": [],
   "source": [
    "# Load required libraries\n",
    "import pandas as pd\n",
    "import pandas.tseries\n",
    "import statsmodels.api as sm\n",
    "import matplotlib.pyplot as plt\n"
   ]
  },
  {
   "cell_type": "markdown",
   "metadata": {},
   "source": [
    "## Loading time series data\n",
    "The `statsmodels` library comes bundled with built-in datasets for experimentation and practice. A detailed description of these datasets can be found [here](http://www.statsmodels.org/dev/datasets/index.html). Using `statsmodels`, the time series datasets can be loaded straight into memory. \n",
    "\n",
    "In this lab, we'll use the **Atmospheric CO2 from Continuous Air Samples at Mauna Loa Observatory, Hawaii, U.S.A.**, containing CO2 samples from March 1958 to December 2001. Further details on this dataset are available [here](http://www.statsmodels.org/dev/datasets/generated/co2.html).\n",
    "\n",
    "In the following cell we: \n",
    "\n",
    "- Load the `co2` dataset using the `.load()` method \n",
    "- Converted this into a pandas DataFrame "
   ]
  },
  {
   "cell_type": "code",
   "execution_count": 2,
   "metadata": {},
   "outputs": [],
   "source": [
    "# Run this cell without changes\n",
    "\n",
    "# Load the 'co2' dataset from sm.datasets\n",
    "data_set = sm.datasets.co2.load()\n",
    "\n",
    "# load in the data_set into pandas dataframe\n",
    "CO2 = pd.DataFrame(data=data_set['data'])"
   ]
  },
  {
   "cell_type": "code",
   "execution_count": 3,
   "metadata": {},
   "outputs": [
    {
     "data": {
      "text/html": [
       "<div>\n",
       "<style scoped>\n",
       "    .dataframe tbody tr th:only-of-type {\n",
       "        vertical-align: middle;\n",
       "    }\n",
       "\n",
       "    .dataframe tbody tr th {\n",
       "        vertical-align: top;\n",
       "    }\n",
       "\n",
       "    .dataframe thead th {\n",
       "        text-align: right;\n",
       "    }\n",
       "</style>\n",
       "<table border=\"1\" class=\"dataframe\">\n",
       "  <thead>\n",
       "    <tr style=\"text-align: right;\">\n",
       "      <th></th>\n",
       "      <th>co2</th>\n",
       "    </tr>\n",
       "  </thead>\n",
       "  <tbody>\n",
       "    <tr>\n",
       "      <th>1958-03-29</th>\n",
       "      <td>316.1</td>\n",
       "    </tr>\n",
       "    <tr>\n",
       "      <th>1958-04-05</th>\n",
       "      <td>317.3</td>\n",
       "    </tr>\n",
       "    <tr>\n",
       "      <th>1958-04-12</th>\n",
       "      <td>317.6</td>\n",
       "    </tr>\n",
       "    <tr>\n",
       "      <th>1958-04-19</th>\n",
       "      <td>317.5</td>\n",
       "    </tr>\n",
       "    <tr>\n",
       "      <th>1958-04-26</th>\n",
       "      <td>316.4</td>\n",
       "    </tr>\n",
       "  </tbody>\n",
       "</table>\n",
       "</div>"
      ],
      "text/plain": [
       "              co2\n",
       "1958-03-29  316.1\n",
       "1958-04-05  317.3\n",
       "1958-04-12  317.6\n",
       "1958-04-19  317.5\n",
       "1958-04-26  316.4"
      ]
     },
     "execution_count": 3,
     "metadata": {},
     "output_type": "execute_result"
    }
   ],
   "source": [
    "CO2.head()"
   ]
  },
  {
   "cell_type": "code",
   "execution_count": 4,
   "metadata": {},
   "outputs": [
    {
     "data": {
      "text/plain": [
       "(2284, 1)"
      ]
     },
     "execution_count": 4,
     "metadata": {},
     "output_type": "execute_result"
    }
   ],
   "source": [
    "CO2.shape"
   ]
  },
  {
   "cell_type": "markdown",
   "metadata": {},
   "source": [
    "With all the required packages imported and the `CO2` dataset as a dataframe ready to go, we can move on to indexing our data.\n",
    "\n",
    "## Date Indexing\n",
    "\n",
    "While working with time series data in Python, having dates (or datetimes) in the index can be very helpful, especially if they are of `DatetimeIndex` type. Further details can be found [here](http://pandas.pydata.org/pandas-docs/stable/generated/pandas.Timestamp.html).\n",
    "\n",
    "The exact structure of the data from `sm.datasets` has changed over time depending on the version of StatsModels. So below we check whether the index is already a `DatetimeIndex`, and if it isn't, we set it to be one. Either way we'll also set the name of the index to be `date`."
   ]
  },
  {
   "cell_type": "code",
   "execution_count": 7,
   "metadata": {},
   "outputs": [
    {
     "name": "stdout",
     "output_type": "stream",
     "text": [
      "<class 'pandas.core.frame.DataFrame'>\n",
      "DatetimeIndex: 2284 entries, 1958-03-29 to 2001-12-29\n",
      "Freq: W-SAT\n",
      "Data columns (total 1 columns):\n",
      " #   Column  Non-Null Count  Dtype  \n",
      "---  ------  --------------  -----  \n",
      " 0   co2     2225 non-null   float64\n",
      "dtypes: float64(1)\n",
      "memory usage: 35.7 KB\n"
     ]
    }
   ],
   "source": [
    "CO2.info()"
   ]
  },
  {
   "cell_type": "code",
   "execution_count": 5,
   "metadata": {},
   "outputs": [
    {
     "data": {
      "text/html": [
       "<div>\n",
       "<style scoped>\n",
       "    .dataframe tbody tr th:only-of-type {\n",
       "        vertical-align: middle;\n",
       "    }\n",
       "\n",
       "    .dataframe tbody tr th {\n",
       "        vertical-align: top;\n",
       "    }\n",
       "\n",
       "    .dataframe thead th {\n",
       "        text-align: right;\n",
       "    }\n",
       "</style>\n",
       "<table border=\"1\" class=\"dataframe\">\n",
       "  <thead>\n",
       "    <tr style=\"text-align: right;\">\n",
       "      <th></th>\n",
       "      <th>co2</th>\n",
       "    </tr>\n",
       "    <tr>\n",
       "      <th>date</th>\n",
       "      <th></th>\n",
       "    </tr>\n",
       "  </thead>\n",
       "  <tbody>\n",
       "    <tr>\n",
       "      <th>1958-03-29</th>\n",
       "      <td>316.1</td>\n",
       "    </tr>\n",
       "    <tr>\n",
       "      <th>1958-04-05</th>\n",
       "      <td>317.3</td>\n",
       "    </tr>\n",
       "    <tr>\n",
       "      <th>1958-04-12</th>\n",
       "      <td>317.6</td>\n",
       "    </tr>\n",
       "    <tr>\n",
       "      <th>1958-04-19</th>\n",
       "      <td>317.5</td>\n",
       "    </tr>\n",
       "    <tr>\n",
       "      <th>1958-04-26</th>\n",
       "      <td>316.4</td>\n",
       "    </tr>\n",
       "  </tbody>\n",
       "</table>\n",
       "</div>"
      ],
      "text/plain": [
       "              co2\n",
       "date             \n",
       "1958-03-29  316.1\n",
       "1958-04-05  317.3\n",
       "1958-04-12  317.6\n",
       "1958-04-19  317.5\n",
       "1958-04-26  316.4"
      ]
     },
     "execution_count": 5,
     "metadata": {},
     "output_type": "execute_result"
    }
   ],
   "source": [
    "# Run this cell without changes\n",
    "\n",
    "# Confirm that date values are used for indexing purpose in the CO2 dataset \n",
    "if isinstance(CO2.index, pd.DatetimeIndex):\n",
    "    CO2.index.name = 'date'\n",
    "else:\n",
    "    CO2.rename(columns={'index':'date'}, inplace=True)\n",
    "    CO2.set_index('date', inplace=True)\n",
    "    \n",
    "CO2.head()"
   ]
  },
  {
   "cell_type": "markdown",
   "metadata": {},
   "source": [
    "We can also inspect the index itself:"
   ]
  },
  {
   "cell_type": "code",
   "execution_count": null,
   "metadata": {},
   "outputs": [
    {
     "data": {
      "text/plain": [
       "DatetimeIndex(['1958-03-29', '1958-04-05', '1958-04-12', '1958-04-19',\n",
       "               '1958-04-26', '1958-05-03', '1958-05-10', '1958-05-17',\n",
       "               '1958-05-24', '1958-05-31',\n",
       "               ...\n",
       "               '2001-10-27', '2001-11-03', '2001-11-10', '2001-11-17',\n",
       "               '2001-11-24', '2001-12-01', '2001-12-08', '2001-12-15',\n",
       "               '2001-12-22', '2001-12-29'],\n",
       "              dtype='datetime64[ns]', name='date', length=2284, freq='W-SAT')"
      ]
     },
     "execution_count": 6,
     "metadata": {},
     "output_type": "execute_result"
    }
   ],
   "source": [
    "# Run this cell without changes\n",
    "CO2.index\n",
    "# the above code clears indicates that the index is made of timestamp objects"
   ]
  },
  {
   "cell_type": "markdown",
   "metadata": {},
   "source": [
    "The output above shows that our dataset clearly fulfills the indexing requirements. Look at the last line:\n",
    "\n",
    "\n",
    "> **dtype='datetime64[ns]',... length=2284,...'**\n",
    "\n",
    "\n",
    "* `dtype=datetime[ns]` field confirms that the index is made of timestamp objects.\n",
    "* `length=2284` shows the total number of entries in our time series data. \n",
    "\n",
    "## Resampling\n",
    "\n",
    "Remember that depending on the nature of analytical question, the resolution of timestamps can also be changed to other frequencies. For this dataset we can resample to monthly CO2 consumption values. This can be done by using the `.resample()` method as seen in the earlier lesson. \n",
    "\n",
    "* Group the data into buckets representing 1 month using `.resample()` method \n",
    "* Call the `.mean()` method on each group (i.e. get monthly average) \n",
    "* Combine the result as one row per monthly group "
   ]
  },
  {
   "cell_type": "code",
   "execution_count": null,
   "metadata": {},
   "outputs": [],
   "source": [
    "# # Group the time series into monthly buckets\n",
    "# CO2_monthly = CO2['co2'].resample('MS')\n",
    "\n",
    "# # Take the mean of each group \n",
    "# CO2_monthly_mean = CO2_monthly.mean()\n",
    "\n",
    "# # Display the first 10 elements of resulting time series\n",
    "# CO2_monthly_mean.head(10)"
   ]
  },
  {
   "cell_type": "code",
   "execution_count": null,
   "metadata": {},
   "outputs": [
    {
     "name": "stdout",
     "output_type": "stream",
     "text": [
      "date\n",
      "1958-03-01    316.100000\n",
      "1958-04-01    317.200000\n",
      "1958-05-01    317.433333\n",
      "1958-06-01           NaN\n",
      "1958-07-01    315.625000\n",
      "1958-08-01    314.950000\n",
      "1958-09-01    313.500000\n",
      "1958-10-01           NaN\n",
      "1958-11-01    313.425000\n",
      "1958-12-01    314.700000\n",
      "Freq: MS, Name: co2, dtype: float64\n"
     ]
    }
   ],
   "source": [
    "# resampling.. the resolution of the timestamps can be changed to other frequencies.\n",
    "# Here lets resample the dataset to monthly CO2 consumptions values.\n",
    "\n",
    "CO2_monthly = CO2['co2'].resample('MS') # grouping the time series into monthly buckets\n",
    "\n",
    "CO2_monthly_mean = CO2_monthly.mean() # get the mean for each group\n",
    "\n",
    "print(CO2_monthly_mean.head(10))"
   ]
  },
  {
   "cell_type": "markdown",
   "metadata": {},
   "source": [
    "Looking at the index values, we can see that our time series now carries aggregated data on monthly terms, shown as `Freq: MS`. \n",
    "\n",
    "### Time-series Index Slicing for Data Selection\n",
    "\n",
    "Slice our dataset to only retrieve data points that come after the year 1990."
   ]
  },
  {
   "cell_type": "code",
   "execution_count": 12,
   "metadata": {},
   "outputs": [
    {
     "data": {
      "text/plain": [
       "date\n",
       "1990-01-01    353.650\n",
       "1990-02-01    354.650\n",
       "1990-03-01    355.480\n",
       "1990-04-01    356.175\n",
       "1990-05-01    357.075\n",
       "               ...   \n",
       "2001-08-01    369.425\n",
       "2001-09-01    367.880\n",
       "2001-10-01    368.050\n",
       "2001-11-01    369.375\n",
       "2001-12-01    371.020\n",
       "Freq: MS, Name: co2, Length: 144, dtype: float64"
      ]
     },
     "execution_count": 12,
     "metadata": {},
     "output_type": "execute_result"
    }
   ],
   "source": [
    "# Slice the timeseries to contain data after year 1990 \n",
    "CO2_monthly_mean['1990':]"
   ]
  },
  {
   "cell_type": "markdown",
   "metadata": {},
   "source": [
    "Retrieve data starting from Jan 1990 to Jan 1991: "
   ]
  },
  {
   "cell_type": "code",
   "execution_count": 14,
   "metadata": {},
   "outputs": [
    {
     "data": {
      "text/plain": [
       "date\n",
       "1990-01-01    353.650\n",
       "1990-02-01    354.650\n",
       "1990-03-01    355.480\n",
       "1990-04-01    356.175\n",
       "1990-05-01    357.075\n",
       "1990-06-01    356.080\n",
       "1990-07-01    354.675\n",
       "1990-08-01    352.900\n",
       "1990-09-01    350.940\n",
       "1990-10-01    351.225\n",
       "1990-11-01    352.700\n",
       "1990-12-01    354.140\n",
       "1991-01-01    354.675\n",
       "Freq: MS, Name: co2, dtype: float64"
      ]
     },
     "execution_count": 14,
     "metadata": {},
     "output_type": "execute_result"
    }
   ],
   "source": [
    "# Retrieve the data between 1st Jan 1990 to 1st Jan 1991\n",
    "CO2_monthly_mean['1990-01-01':'1991-01-01']"
   ]
  },
  {
   "cell_type": "markdown",
   "metadata": {},
   "source": [
    "## Missing Values\n",
    "\n",
    "Find the total number of missing values in the dataset."
   ]
  },
  {
   "cell_type": "code",
   "execution_count": 15,
   "metadata": {},
   "outputs": [
    {
     "data": {
      "text/plain": [
       "5"
      ]
     },
     "execution_count": 15,
     "metadata": {},
     "output_type": "execute_result"
    }
   ],
   "source": [
    "# Find the total number of missing values in the time series\n",
    "CO2_monthly_mean.isna().sum()"
   ]
  },
  {
   "cell_type": "markdown",
   "metadata": {},
   "source": [
    "Remember that missing values can be filled in a multitude of ways. \n",
    "\n",
    "- Replace the missing values in `CO2_monthly_mean` with a previous valid value \n",
    "- Next, check if your attempt was successful by checking for number of missing values again "
   ]
  },
  {
   "cell_type": "code",
   "execution_count": 16,
   "metadata": {},
   "outputs": [
    {
     "data": {
      "text/plain": [
       "0"
      ]
     },
     "execution_count": 16,
     "metadata": {},
     "output_type": "execute_result"
    }
   ],
   "source": [
    "# Perform backward filling of missing values\n",
    "CO2_final = CO2_monthly_mean.bfill()\n",
    "\n",
    "# Find the total number of missing values in the time series\n",
    "CO2_final.isna().sum()"
   ]
  },
  {
   "cell_type": "markdown",
   "metadata": {},
   "source": [
    "Great! Now your time series data are ready for visualization and further analysis.\n",
    "\n",
    "## Summary\n",
    "\n",
    "In this introductory lab, you learned how to load and manipulate time series data in Python using pandas. You confirmed that the index was set appropriately, performed queries to subset the data, and practiced identifying and addressing missing values."
   ]
  }
 ],
 "metadata": {
  "kernelspec": {
   "display_name": "learn-env",
   "language": "python",
   "name": "python3"
  },
  "language_info": {
   "codemirror_mode": {
    "name": "ipython",
    "version": 3
   },
   "file_extension": ".py",
   "mimetype": "text/x-python",
   "name": "python",
   "nbconvert_exporter": "python",
   "pygments_lexer": "ipython3",
   "version": "3.8.5"
  }
 },
 "nbformat": 4,
 "nbformat_minor": 2
}
