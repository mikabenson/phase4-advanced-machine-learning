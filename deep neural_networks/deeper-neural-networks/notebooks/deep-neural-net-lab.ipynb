{
 "cells": [
  {
   "attachments": {},
   "cell_type": "markdown",
   "metadata": {},
   "source": [
    "# Deeper Neural Networks - Lab\n",
    "\n",
    "## Introduction\n",
    "\n",
    "In this lesson, we'll dig deeper into the work horse of deep learning, **_Multi-Layer Perceptrons_**! We'll build and train a couple of different MLPs with Keras and explore the tradeoffs that come with adding extra hidden layers. We'll also try switching between some of the activation functions we learned about in the previous lesson to see how they affect training and performance. \n",
    "\n",
    "\n",
    "## Objectives\n",
    "\n",
    "- Build a deep neural network using Keras \n",
    "\n",
    "\n",
    "## Getting Started\n",
    "\n",
    "Run the cell below to import everything we'll need for this lab. "
   ]
  },
  {
   "cell_type": "code",
   "execution_count": 1,
   "metadata": {},
   "outputs": [],
   "source": [
    "import pandas as pd\n",
    "import numpy as np\n",
    "import matplotlib.pyplot as plt\n",
    "%matplotlib inline\n",
    "import keras\n",
    "from keras.models import Sequential\n",
    "from keras.layers import Dense\n",
    "from sklearn.datasets import load_breast_cancer\n",
    "from sklearn.preprocessing import StandardScaler, LabelBinarizer"
   ]
  },
  {
   "attachments": {},
   "cell_type": "markdown",
   "metadata": {},
   "source": [
    "For this lab, we'll be working with the [Boston Breast Cancer Dataset](https://www.kaggle.com/uciml/breast-cancer-wisconsin-data). Although we're importing this dataset directly from scikit-learn, the Kaggle link above contains a detailed explanation of the dataset, in case you're interested. We recommend you take a minute to familiarize yourself with the dataset before digging in. \n",
    "\n",
    "In the cell below:\n",
    "\n",
    "* Call `load_breast_cancer()` to store the dataset  \n",
    "* Access the `.data`, `.target`, and `.feature_names` attributes and store them in the appropriate variables below "
   ]
  },
  {
   "cell_type": "code",
   "execution_count": 2,
   "metadata": {},
   "outputs": [],
   "source": [
    "bc_dataset = load_breast_cancer()\n",
    "data = bc_dataset.data\n",
    "target = bc_dataset.target\n",
    "col_names = bc_dataset.feature_names"
   ]
  },
  {
   "attachments": {},
   "cell_type": "markdown",
   "metadata": {},
   "source": [
    "Now, let's create a DataFrame so that we can see the data and explore it a bit more easily with the column names attached. \n",
    "\n",
    "- In the cell below, create a pandas DataFrame from `data` (use `col_names` for column names)  \n",
    "- Print the `.head()` of the DataFrame "
   ]
  },
  {
   "cell_type": "code",
   "execution_count": 3,
   "metadata": {},
   "outputs": [
    {
     "data": {
      "text/html": [
       "<div>\n",
       "<style scoped>\n",
       "    .dataframe tbody tr th:only-of-type {\n",
       "        vertical-align: middle;\n",
       "    }\n",
       "\n",
       "    .dataframe tbody tr th {\n",
       "        vertical-align: top;\n",
       "    }\n",
       "\n",
       "    .dataframe thead th {\n",
       "        text-align: right;\n",
       "    }\n",
       "</style>\n",
       "<table border=\"1\" class=\"dataframe\">\n",
       "  <thead>\n",
       "    <tr style=\"text-align: right;\">\n",
       "      <th></th>\n",
       "      <th>mean radius</th>\n",
       "      <th>mean texture</th>\n",
       "      <th>mean perimeter</th>\n",
       "      <th>mean area</th>\n",
       "      <th>mean smoothness</th>\n",
       "      <th>mean compactness</th>\n",
       "      <th>mean concavity</th>\n",
       "      <th>mean concave points</th>\n",
       "      <th>mean symmetry</th>\n",
       "      <th>mean fractal dimension</th>\n",
       "      <th>...</th>\n",
       "      <th>worst radius</th>\n",
       "      <th>worst texture</th>\n",
       "      <th>worst perimeter</th>\n",
       "      <th>worst area</th>\n",
       "      <th>worst smoothness</th>\n",
       "      <th>worst compactness</th>\n",
       "      <th>worst concavity</th>\n",
       "      <th>worst concave points</th>\n",
       "      <th>worst symmetry</th>\n",
       "      <th>worst fractal dimension</th>\n",
       "    </tr>\n",
       "  </thead>\n",
       "  <tbody>\n",
       "    <tr>\n",
       "      <th>0</th>\n",
       "      <td>17.99</td>\n",
       "      <td>10.38</td>\n",
       "      <td>122.80</td>\n",
       "      <td>1001.0</td>\n",
       "      <td>0.11840</td>\n",
       "      <td>0.27760</td>\n",
       "      <td>0.3001</td>\n",
       "      <td>0.14710</td>\n",
       "      <td>0.2419</td>\n",
       "      <td>0.07871</td>\n",
       "      <td>...</td>\n",
       "      <td>25.38</td>\n",
       "      <td>17.33</td>\n",
       "      <td>184.60</td>\n",
       "      <td>2019.0</td>\n",
       "      <td>0.1622</td>\n",
       "      <td>0.6656</td>\n",
       "      <td>0.7119</td>\n",
       "      <td>0.2654</td>\n",
       "      <td>0.4601</td>\n",
       "      <td>0.11890</td>\n",
       "    </tr>\n",
       "    <tr>\n",
       "      <th>1</th>\n",
       "      <td>20.57</td>\n",
       "      <td>17.77</td>\n",
       "      <td>132.90</td>\n",
       "      <td>1326.0</td>\n",
       "      <td>0.08474</td>\n",
       "      <td>0.07864</td>\n",
       "      <td>0.0869</td>\n",
       "      <td>0.07017</td>\n",
       "      <td>0.1812</td>\n",
       "      <td>0.05667</td>\n",
       "      <td>...</td>\n",
       "      <td>24.99</td>\n",
       "      <td>23.41</td>\n",
       "      <td>158.80</td>\n",
       "      <td>1956.0</td>\n",
       "      <td>0.1238</td>\n",
       "      <td>0.1866</td>\n",
       "      <td>0.2416</td>\n",
       "      <td>0.1860</td>\n",
       "      <td>0.2750</td>\n",
       "      <td>0.08902</td>\n",
       "    </tr>\n",
       "    <tr>\n",
       "      <th>2</th>\n",
       "      <td>19.69</td>\n",
       "      <td>21.25</td>\n",
       "      <td>130.00</td>\n",
       "      <td>1203.0</td>\n",
       "      <td>0.10960</td>\n",
       "      <td>0.15990</td>\n",
       "      <td>0.1974</td>\n",
       "      <td>0.12790</td>\n",
       "      <td>0.2069</td>\n",
       "      <td>0.05999</td>\n",
       "      <td>...</td>\n",
       "      <td>23.57</td>\n",
       "      <td>25.53</td>\n",
       "      <td>152.50</td>\n",
       "      <td>1709.0</td>\n",
       "      <td>0.1444</td>\n",
       "      <td>0.4245</td>\n",
       "      <td>0.4504</td>\n",
       "      <td>0.2430</td>\n",
       "      <td>0.3613</td>\n",
       "      <td>0.08758</td>\n",
       "    </tr>\n",
       "    <tr>\n",
       "      <th>3</th>\n",
       "      <td>11.42</td>\n",
       "      <td>20.38</td>\n",
       "      <td>77.58</td>\n",
       "      <td>386.1</td>\n",
       "      <td>0.14250</td>\n",
       "      <td>0.28390</td>\n",
       "      <td>0.2414</td>\n",
       "      <td>0.10520</td>\n",
       "      <td>0.2597</td>\n",
       "      <td>0.09744</td>\n",
       "      <td>...</td>\n",
       "      <td>14.91</td>\n",
       "      <td>26.50</td>\n",
       "      <td>98.87</td>\n",
       "      <td>567.7</td>\n",
       "      <td>0.2098</td>\n",
       "      <td>0.8663</td>\n",
       "      <td>0.6869</td>\n",
       "      <td>0.2575</td>\n",
       "      <td>0.6638</td>\n",
       "      <td>0.17300</td>\n",
       "    </tr>\n",
       "    <tr>\n",
       "      <th>4</th>\n",
       "      <td>20.29</td>\n",
       "      <td>14.34</td>\n",
       "      <td>135.10</td>\n",
       "      <td>1297.0</td>\n",
       "      <td>0.10030</td>\n",
       "      <td>0.13280</td>\n",
       "      <td>0.1980</td>\n",
       "      <td>0.10430</td>\n",
       "      <td>0.1809</td>\n",
       "      <td>0.05883</td>\n",
       "      <td>...</td>\n",
       "      <td>22.54</td>\n",
       "      <td>16.67</td>\n",
       "      <td>152.20</td>\n",
       "      <td>1575.0</td>\n",
       "      <td>0.1374</td>\n",
       "      <td>0.2050</td>\n",
       "      <td>0.4000</td>\n",
       "      <td>0.1625</td>\n",
       "      <td>0.2364</td>\n",
       "      <td>0.07678</td>\n",
       "    </tr>\n",
       "  </tbody>\n",
       "</table>\n",
       "<p>5 rows × 30 columns</p>\n",
       "</div>"
      ],
      "text/plain": [
       "   mean radius  mean texture  mean perimeter  mean area  mean smoothness  \\\n",
       "0        17.99         10.38          122.80     1001.0          0.11840   \n",
       "1        20.57         17.77          132.90     1326.0          0.08474   \n",
       "2        19.69         21.25          130.00     1203.0          0.10960   \n",
       "3        11.42         20.38           77.58      386.1          0.14250   \n",
       "4        20.29         14.34          135.10     1297.0          0.10030   \n",
       "\n",
       "   mean compactness  mean concavity  mean concave points  mean symmetry  \\\n",
       "0           0.27760          0.3001              0.14710         0.2419   \n",
       "1           0.07864          0.0869              0.07017         0.1812   \n",
       "2           0.15990          0.1974              0.12790         0.2069   \n",
       "3           0.28390          0.2414              0.10520         0.2597   \n",
       "4           0.13280          0.1980              0.10430         0.1809   \n",
       "\n",
       "   mean fractal dimension  ...  worst radius  worst texture  worst perimeter  \\\n",
       "0                 0.07871  ...         25.38          17.33           184.60   \n",
       "1                 0.05667  ...         24.99          23.41           158.80   \n",
       "2                 0.05999  ...         23.57          25.53           152.50   \n",
       "3                 0.09744  ...         14.91          26.50            98.87   \n",
       "4                 0.05883  ...         22.54          16.67           152.20   \n",
       "\n",
       "   worst area  worst smoothness  worst compactness  worst concavity  \\\n",
       "0      2019.0            0.1622             0.6656           0.7119   \n",
       "1      1956.0            0.1238             0.1866           0.2416   \n",
       "2      1709.0            0.1444             0.4245           0.4504   \n",
       "3       567.7            0.2098             0.8663           0.6869   \n",
       "4      1575.0            0.1374             0.2050           0.4000   \n",
       "\n",
       "   worst concave points  worst symmetry  worst fractal dimension  \n",
       "0                0.2654          0.4601                  0.11890  \n",
       "1                0.1860          0.2750                  0.08902  \n",
       "2                0.2430          0.3613                  0.08758  \n",
       "3                0.2575          0.6638                  0.17300  \n",
       "4                0.1625          0.2364                  0.07678  \n",
       "\n",
       "[5 rows x 30 columns]"
      ]
     },
     "execution_count": 3,
     "metadata": {},
     "output_type": "execute_result"
    }
   ],
   "source": [
    "data = pd.DataFrame(data, columns = col_names)\n",
    "data.head()"
   ]
  },
  {
   "cell_type": "code",
   "execution_count": 4,
   "metadata": {},
   "outputs": [
    {
     "data": {
      "text/plain": [
       "(569, 30)"
      ]
     },
     "execution_count": 4,
     "metadata": {},
     "output_type": "execute_result"
    }
   ],
   "source": [
    "data.shape"
   ]
  },
  {
   "attachments": {},
   "cell_type": "markdown",
   "metadata": {},
   "source": [
    "## Getting the Data Ready for Deep Learning\n",
    "\n",
    "In order to pass this data into a neural network, we'll need to make sure that the data:\n",
    "\n",
    "* is purely numerical\n",
    "* contains no missing values\n",
    "* is normalized \n",
    "\n",
    "Let's begin by calling the DataFrame's `.info()` method to check the datatype of each feature. "
   ]
  },
  {
   "cell_type": "code",
   "execution_count": 5,
   "metadata": {},
   "outputs": [
    {
     "name": "stdout",
     "output_type": "stream",
     "text": [
      "<class 'pandas.core.frame.DataFrame'>\n",
      "RangeIndex: 569 entries, 0 to 568\n",
      "Data columns (total 30 columns):\n",
      " #   Column                   Non-Null Count  Dtype  \n",
      "---  ------                   --------------  -----  \n",
      " 0   mean radius              569 non-null    float64\n",
      " 1   mean texture             569 non-null    float64\n",
      " 2   mean perimeter           569 non-null    float64\n",
      " 3   mean area                569 non-null    float64\n",
      " 4   mean smoothness          569 non-null    float64\n",
      " 5   mean compactness         569 non-null    float64\n",
      " 6   mean concavity           569 non-null    float64\n",
      " 7   mean concave points      569 non-null    float64\n",
      " 8   mean symmetry            569 non-null    float64\n",
      " 9   mean fractal dimension   569 non-null    float64\n",
      " 10  radius error             569 non-null    float64\n",
      " 11  texture error            569 non-null    float64\n",
      " 12  perimeter error          569 non-null    float64\n",
      " 13  area error               569 non-null    float64\n",
      " 14  smoothness error         569 non-null    float64\n",
      " 15  compactness error        569 non-null    float64\n",
      " 16  concavity error          569 non-null    float64\n",
      " 17  concave points error     569 non-null    float64\n",
      " 18  symmetry error           569 non-null    float64\n",
      " 19  fractal dimension error  569 non-null    float64\n",
      " 20  worst radius             569 non-null    float64\n",
      " 21  worst texture            569 non-null    float64\n",
      " 22  worst perimeter          569 non-null    float64\n",
      " 23  worst area               569 non-null    float64\n",
      " 24  worst smoothness         569 non-null    float64\n",
      " 25  worst compactness        569 non-null    float64\n",
      " 26  worst concavity          569 non-null    float64\n",
      " 27  worst concave points     569 non-null    float64\n",
      " 28  worst symmetry           569 non-null    float64\n",
      " 29  worst fractal dimension  569 non-null    float64\n",
      "dtypes: float64(30)\n",
      "memory usage: 133.5 KB\n"
     ]
    }
   ],
   "source": [
    "data.info()"
   ]
  },
  {
   "attachments": {},
   "cell_type": "markdown",
   "metadata": {},
   "source": [
    "From the output above, we can see that the entire dataset is already in numerical format. We can also see from the counts that each feature has the same number of entries as the number of rows in the DataFrame -- that means that no feature contains any missing values. Great!\n",
    "\n",
    "Now, let's check to see if our data needs to be normalized. Instead of doing statistical tests here, let's just take a quick look at the `.head()` of the DataFrame again. Do this in the cell below. "
   ]
  },
  {
   "cell_type": "code",
   "execution_count": 6,
   "metadata": {},
   "outputs": [
    {
     "data": {
      "text/html": [
       "<div>\n",
       "<style scoped>\n",
       "    .dataframe tbody tr th:only-of-type {\n",
       "        vertical-align: middle;\n",
       "    }\n",
       "\n",
       "    .dataframe tbody tr th {\n",
       "        vertical-align: top;\n",
       "    }\n",
       "\n",
       "    .dataframe thead th {\n",
       "        text-align: right;\n",
       "    }\n",
       "</style>\n",
       "<table border=\"1\" class=\"dataframe\">\n",
       "  <thead>\n",
       "    <tr style=\"text-align: right;\">\n",
       "      <th></th>\n",
       "      <th>mean radius</th>\n",
       "      <th>mean texture</th>\n",
       "      <th>mean perimeter</th>\n",
       "      <th>mean area</th>\n",
       "      <th>mean smoothness</th>\n",
       "      <th>mean compactness</th>\n",
       "      <th>mean concavity</th>\n",
       "      <th>mean concave points</th>\n",
       "      <th>mean symmetry</th>\n",
       "      <th>mean fractal dimension</th>\n",
       "      <th>...</th>\n",
       "      <th>worst radius</th>\n",
       "      <th>worst texture</th>\n",
       "      <th>worst perimeter</th>\n",
       "      <th>worst area</th>\n",
       "      <th>worst smoothness</th>\n",
       "      <th>worst compactness</th>\n",
       "      <th>worst concavity</th>\n",
       "      <th>worst concave points</th>\n",
       "      <th>worst symmetry</th>\n",
       "      <th>worst fractal dimension</th>\n",
       "    </tr>\n",
       "  </thead>\n",
       "  <tbody>\n",
       "    <tr>\n",
       "      <th>0</th>\n",
       "      <td>17.99</td>\n",
       "      <td>10.38</td>\n",
       "      <td>122.80</td>\n",
       "      <td>1001.0</td>\n",
       "      <td>0.11840</td>\n",
       "      <td>0.27760</td>\n",
       "      <td>0.3001</td>\n",
       "      <td>0.14710</td>\n",
       "      <td>0.2419</td>\n",
       "      <td>0.07871</td>\n",
       "      <td>...</td>\n",
       "      <td>25.38</td>\n",
       "      <td>17.33</td>\n",
       "      <td>184.60</td>\n",
       "      <td>2019.0</td>\n",
       "      <td>0.1622</td>\n",
       "      <td>0.6656</td>\n",
       "      <td>0.7119</td>\n",
       "      <td>0.2654</td>\n",
       "      <td>0.4601</td>\n",
       "      <td>0.11890</td>\n",
       "    </tr>\n",
       "    <tr>\n",
       "      <th>1</th>\n",
       "      <td>20.57</td>\n",
       "      <td>17.77</td>\n",
       "      <td>132.90</td>\n",
       "      <td>1326.0</td>\n",
       "      <td>0.08474</td>\n",
       "      <td>0.07864</td>\n",
       "      <td>0.0869</td>\n",
       "      <td>0.07017</td>\n",
       "      <td>0.1812</td>\n",
       "      <td>0.05667</td>\n",
       "      <td>...</td>\n",
       "      <td>24.99</td>\n",
       "      <td>23.41</td>\n",
       "      <td>158.80</td>\n",
       "      <td>1956.0</td>\n",
       "      <td>0.1238</td>\n",
       "      <td>0.1866</td>\n",
       "      <td>0.2416</td>\n",
       "      <td>0.1860</td>\n",
       "      <td>0.2750</td>\n",
       "      <td>0.08902</td>\n",
       "    </tr>\n",
       "    <tr>\n",
       "      <th>2</th>\n",
       "      <td>19.69</td>\n",
       "      <td>21.25</td>\n",
       "      <td>130.00</td>\n",
       "      <td>1203.0</td>\n",
       "      <td>0.10960</td>\n",
       "      <td>0.15990</td>\n",
       "      <td>0.1974</td>\n",
       "      <td>0.12790</td>\n",
       "      <td>0.2069</td>\n",
       "      <td>0.05999</td>\n",
       "      <td>...</td>\n",
       "      <td>23.57</td>\n",
       "      <td>25.53</td>\n",
       "      <td>152.50</td>\n",
       "      <td>1709.0</td>\n",
       "      <td>0.1444</td>\n",
       "      <td>0.4245</td>\n",
       "      <td>0.4504</td>\n",
       "      <td>0.2430</td>\n",
       "      <td>0.3613</td>\n",
       "      <td>0.08758</td>\n",
       "    </tr>\n",
       "    <tr>\n",
       "      <th>3</th>\n",
       "      <td>11.42</td>\n",
       "      <td>20.38</td>\n",
       "      <td>77.58</td>\n",
       "      <td>386.1</td>\n",
       "      <td>0.14250</td>\n",
       "      <td>0.28390</td>\n",
       "      <td>0.2414</td>\n",
       "      <td>0.10520</td>\n",
       "      <td>0.2597</td>\n",
       "      <td>0.09744</td>\n",
       "      <td>...</td>\n",
       "      <td>14.91</td>\n",
       "      <td>26.50</td>\n",
       "      <td>98.87</td>\n",
       "      <td>567.7</td>\n",
       "      <td>0.2098</td>\n",
       "      <td>0.8663</td>\n",
       "      <td>0.6869</td>\n",
       "      <td>0.2575</td>\n",
       "      <td>0.6638</td>\n",
       "      <td>0.17300</td>\n",
       "    </tr>\n",
       "    <tr>\n",
       "      <th>4</th>\n",
       "      <td>20.29</td>\n",
       "      <td>14.34</td>\n",
       "      <td>135.10</td>\n",
       "      <td>1297.0</td>\n",
       "      <td>0.10030</td>\n",
       "      <td>0.13280</td>\n",
       "      <td>0.1980</td>\n",
       "      <td>0.10430</td>\n",
       "      <td>0.1809</td>\n",
       "      <td>0.05883</td>\n",
       "      <td>...</td>\n",
       "      <td>22.54</td>\n",
       "      <td>16.67</td>\n",
       "      <td>152.20</td>\n",
       "      <td>1575.0</td>\n",
       "      <td>0.1374</td>\n",
       "      <td>0.2050</td>\n",
       "      <td>0.4000</td>\n",
       "      <td>0.1625</td>\n",
       "      <td>0.2364</td>\n",
       "      <td>0.07678</td>\n",
       "    </tr>\n",
       "  </tbody>\n",
       "</table>\n",
       "<p>5 rows × 30 columns</p>\n",
       "</div>"
      ],
      "text/plain": [
       "   mean radius  mean texture  mean perimeter  mean area  mean smoothness  \\\n",
       "0        17.99         10.38          122.80     1001.0          0.11840   \n",
       "1        20.57         17.77          132.90     1326.0          0.08474   \n",
       "2        19.69         21.25          130.00     1203.0          0.10960   \n",
       "3        11.42         20.38           77.58      386.1          0.14250   \n",
       "4        20.29         14.34          135.10     1297.0          0.10030   \n",
       "\n",
       "   mean compactness  mean concavity  mean concave points  mean symmetry  \\\n",
       "0           0.27760          0.3001              0.14710         0.2419   \n",
       "1           0.07864          0.0869              0.07017         0.1812   \n",
       "2           0.15990          0.1974              0.12790         0.2069   \n",
       "3           0.28390          0.2414              0.10520         0.2597   \n",
       "4           0.13280          0.1980              0.10430         0.1809   \n",
       "\n",
       "   mean fractal dimension  ...  worst radius  worst texture  worst perimeter  \\\n",
       "0                 0.07871  ...         25.38          17.33           184.60   \n",
       "1                 0.05667  ...         24.99          23.41           158.80   \n",
       "2                 0.05999  ...         23.57          25.53           152.50   \n",
       "3                 0.09744  ...         14.91          26.50            98.87   \n",
       "4                 0.05883  ...         22.54          16.67           152.20   \n",
       "\n",
       "   worst area  worst smoothness  worst compactness  worst concavity  \\\n",
       "0      2019.0            0.1622             0.6656           0.7119   \n",
       "1      1956.0            0.1238             0.1866           0.2416   \n",
       "2      1709.0            0.1444             0.4245           0.4504   \n",
       "3       567.7            0.2098             0.8663           0.6869   \n",
       "4      1575.0            0.1374             0.2050           0.4000   \n",
       "\n",
       "   worst concave points  worst symmetry  worst fractal dimension  \n",
       "0                0.2654          0.4601                  0.11890  \n",
       "1                0.1860          0.2750                  0.08902  \n",
       "2                0.2430          0.3613                  0.08758  \n",
       "3                0.2575          0.6638                  0.17300  \n",
       "4                0.1625          0.2364                  0.07678  \n",
       "\n",
       "[5 rows x 30 columns]"
      ]
     },
     "execution_count": 6,
     "metadata": {},
     "output_type": "execute_result"
    }
   ],
   "source": [
    "data.head()"
   ]
  },
  {
   "attachments": {},
   "cell_type": "markdown",
   "metadata": {},
   "source": [
    "As we can see from comparing `mean radius` and `mean area`, columns are clearly on different scales, which means that we need to normalize our dataset. To do this, we'll make use of scikit-learn's `StandardScaler()` class. \n",
    "\n",
    "In the cell below, instantiate a `StandardScaler` and use it to create a normalized version of our dataset. "
   ]
  },
  {
   "cell_type": "code",
   "execution_count": 7,
   "metadata": {},
   "outputs": [
    {
     "data": {
      "text/plain": [
       "array([[ 1.09706398, -2.07333501,  1.26993369, ...,  2.29607613,\n",
       "         2.75062224,  1.93701461],\n",
       "       [ 1.82982061, -0.35363241,  1.68595471, ...,  1.0870843 ,\n",
       "        -0.24388967,  0.28118999],\n",
       "       [ 1.57988811,  0.45618695,  1.56650313, ...,  1.95500035,\n",
       "         1.152255  ,  0.20139121],\n",
       "       ...,\n",
       "       [ 0.70228425,  2.0455738 ,  0.67267578, ...,  0.41406869,\n",
       "        -1.10454895, -0.31840916],\n",
       "       [ 1.83834103,  2.33645719,  1.98252415, ...,  2.28998549,\n",
       "         1.91908301,  2.21963528],\n",
       "       [-1.80840125,  1.22179204, -1.81438851, ..., -1.74506282,\n",
       "        -0.04813821, -0.75120669]])"
      ]
     },
     "execution_count": 7,
     "metadata": {},
     "output_type": "execute_result"
    }
   ],
   "source": [
    "scaler = StandardScaler()\n",
    "scaled_data = scaler.fit_transform(data)\n",
    "scaled_data"
   ]
  },
  {
   "cell_type": "code",
   "execution_count": 8,
   "metadata": {},
   "outputs": [
    {
     "data": {
      "text/html": [
       "<div>\n",
       "<style scoped>\n",
       "    .dataframe tbody tr th:only-of-type {\n",
       "        vertical-align: middle;\n",
       "    }\n",
       "\n",
       "    .dataframe tbody tr th {\n",
       "        vertical-align: top;\n",
       "    }\n",
       "\n",
       "    .dataframe thead th {\n",
       "        text-align: right;\n",
       "    }\n",
       "</style>\n",
       "<table border=\"1\" class=\"dataframe\">\n",
       "  <thead>\n",
       "    <tr style=\"text-align: right;\">\n",
       "      <th></th>\n",
       "      <th>mean radius</th>\n",
       "      <th>mean texture</th>\n",
       "      <th>mean perimeter</th>\n",
       "      <th>mean area</th>\n",
       "      <th>mean smoothness</th>\n",
       "      <th>mean compactness</th>\n",
       "      <th>mean concavity</th>\n",
       "      <th>mean concave points</th>\n",
       "      <th>mean symmetry</th>\n",
       "      <th>mean fractal dimension</th>\n",
       "      <th>...</th>\n",
       "      <th>worst radius</th>\n",
       "      <th>worst texture</th>\n",
       "      <th>worst perimeter</th>\n",
       "      <th>worst area</th>\n",
       "      <th>worst smoothness</th>\n",
       "      <th>worst compactness</th>\n",
       "      <th>worst concavity</th>\n",
       "      <th>worst concave points</th>\n",
       "      <th>worst symmetry</th>\n",
       "      <th>worst fractal dimension</th>\n",
       "    </tr>\n",
       "  </thead>\n",
       "  <tbody>\n",
       "    <tr>\n",
       "      <th>0</th>\n",
       "      <td>1.097064</td>\n",
       "      <td>-2.073335</td>\n",
       "      <td>1.269934</td>\n",
       "      <td>0.984375</td>\n",
       "      <td>1.568466</td>\n",
       "      <td>3.283515</td>\n",
       "      <td>2.652874</td>\n",
       "      <td>2.532475</td>\n",
       "      <td>2.217515</td>\n",
       "      <td>2.255747</td>\n",
       "      <td>...</td>\n",
       "      <td>1.886690</td>\n",
       "      <td>-1.359293</td>\n",
       "      <td>2.303601</td>\n",
       "      <td>2.001237</td>\n",
       "      <td>1.307686</td>\n",
       "      <td>2.616665</td>\n",
       "      <td>2.109526</td>\n",
       "      <td>2.296076</td>\n",
       "      <td>2.750622</td>\n",
       "      <td>1.937015</td>\n",
       "    </tr>\n",
       "    <tr>\n",
       "      <th>1</th>\n",
       "      <td>1.829821</td>\n",
       "      <td>-0.353632</td>\n",
       "      <td>1.685955</td>\n",
       "      <td>1.908708</td>\n",
       "      <td>-0.826962</td>\n",
       "      <td>-0.487072</td>\n",
       "      <td>-0.023846</td>\n",
       "      <td>0.548144</td>\n",
       "      <td>0.001392</td>\n",
       "      <td>-0.868652</td>\n",
       "      <td>...</td>\n",
       "      <td>1.805927</td>\n",
       "      <td>-0.369203</td>\n",
       "      <td>1.535126</td>\n",
       "      <td>1.890489</td>\n",
       "      <td>-0.375612</td>\n",
       "      <td>-0.430444</td>\n",
       "      <td>-0.146749</td>\n",
       "      <td>1.087084</td>\n",
       "      <td>-0.243890</td>\n",
       "      <td>0.281190</td>\n",
       "    </tr>\n",
       "    <tr>\n",
       "      <th>2</th>\n",
       "      <td>1.579888</td>\n",
       "      <td>0.456187</td>\n",
       "      <td>1.566503</td>\n",
       "      <td>1.558884</td>\n",
       "      <td>0.942210</td>\n",
       "      <td>1.052926</td>\n",
       "      <td>1.363478</td>\n",
       "      <td>2.037231</td>\n",
       "      <td>0.939685</td>\n",
       "      <td>-0.398008</td>\n",
       "      <td>...</td>\n",
       "      <td>1.511870</td>\n",
       "      <td>-0.023974</td>\n",
       "      <td>1.347475</td>\n",
       "      <td>1.456285</td>\n",
       "      <td>0.527407</td>\n",
       "      <td>1.082932</td>\n",
       "      <td>0.854974</td>\n",
       "      <td>1.955000</td>\n",
       "      <td>1.152255</td>\n",
       "      <td>0.201391</td>\n",
       "    </tr>\n",
       "    <tr>\n",
       "      <th>3</th>\n",
       "      <td>-0.768909</td>\n",
       "      <td>0.253732</td>\n",
       "      <td>-0.592687</td>\n",
       "      <td>-0.764464</td>\n",
       "      <td>3.283553</td>\n",
       "      <td>3.402909</td>\n",
       "      <td>1.915897</td>\n",
       "      <td>1.451707</td>\n",
       "      <td>2.867383</td>\n",
       "      <td>4.910919</td>\n",
       "      <td>...</td>\n",
       "      <td>-0.281464</td>\n",
       "      <td>0.133984</td>\n",
       "      <td>-0.249939</td>\n",
       "      <td>-0.550021</td>\n",
       "      <td>3.394275</td>\n",
       "      <td>3.893397</td>\n",
       "      <td>1.989588</td>\n",
       "      <td>2.175786</td>\n",
       "      <td>6.046041</td>\n",
       "      <td>4.935010</td>\n",
       "    </tr>\n",
       "    <tr>\n",
       "      <th>4</th>\n",
       "      <td>1.750297</td>\n",
       "      <td>-1.151816</td>\n",
       "      <td>1.776573</td>\n",
       "      <td>1.826229</td>\n",
       "      <td>0.280372</td>\n",
       "      <td>0.539340</td>\n",
       "      <td>1.371011</td>\n",
       "      <td>1.428493</td>\n",
       "      <td>-0.009560</td>\n",
       "      <td>-0.562450</td>\n",
       "      <td>...</td>\n",
       "      <td>1.298575</td>\n",
       "      <td>-1.466770</td>\n",
       "      <td>1.338539</td>\n",
       "      <td>1.220724</td>\n",
       "      <td>0.220556</td>\n",
       "      <td>-0.313395</td>\n",
       "      <td>0.613179</td>\n",
       "      <td>0.729259</td>\n",
       "      <td>-0.868353</td>\n",
       "      <td>-0.397100</td>\n",
       "    </tr>\n",
       "  </tbody>\n",
       "</table>\n",
       "<p>5 rows × 30 columns</p>\n",
       "</div>"
      ],
      "text/plain": [
       "   mean radius  mean texture  mean perimeter  mean area  mean smoothness  \\\n",
       "0     1.097064     -2.073335        1.269934   0.984375         1.568466   \n",
       "1     1.829821     -0.353632        1.685955   1.908708        -0.826962   \n",
       "2     1.579888      0.456187        1.566503   1.558884         0.942210   \n",
       "3    -0.768909      0.253732       -0.592687  -0.764464         3.283553   \n",
       "4     1.750297     -1.151816        1.776573   1.826229         0.280372   \n",
       "\n",
       "   mean compactness  mean concavity  mean concave points  mean symmetry  \\\n",
       "0          3.283515        2.652874             2.532475       2.217515   \n",
       "1         -0.487072       -0.023846             0.548144       0.001392   \n",
       "2          1.052926        1.363478             2.037231       0.939685   \n",
       "3          3.402909        1.915897             1.451707       2.867383   \n",
       "4          0.539340        1.371011             1.428493      -0.009560   \n",
       "\n",
       "   mean fractal dimension  ...  worst radius  worst texture  worst perimeter  \\\n",
       "0                2.255747  ...      1.886690      -1.359293         2.303601   \n",
       "1               -0.868652  ...      1.805927      -0.369203         1.535126   \n",
       "2               -0.398008  ...      1.511870      -0.023974         1.347475   \n",
       "3                4.910919  ...     -0.281464       0.133984        -0.249939   \n",
       "4               -0.562450  ...      1.298575      -1.466770         1.338539   \n",
       "\n",
       "   worst area  worst smoothness  worst compactness  worst concavity  \\\n",
       "0    2.001237          1.307686           2.616665         2.109526   \n",
       "1    1.890489         -0.375612          -0.430444        -0.146749   \n",
       "2    1.456285          0.527407           1.082932         0.854974   \n",
       "3   -0.550021          3.394275           3.893397         1.989588   \n",
       "4    1.220724          0.220556          -0.313395         0.613179   \n",
       "\n",
       "   worst concave points  worst symmetry  worst fractal dimension  \n",
       "0              2.296076        2.750622                 1.937015  \n",
       "1              1.087084       -0.243890                 0.281190  \n",
       "2              1.955000        1.152255                 0.201391  \n",
       "3              2.175786        6.046041                 4.935010  \n",
       "4              0.729259       -0.868353                -0.397100  \n",
       "\n",
       "[5 rows x 30 columns]"
      ]
     },
     "execution_count": 8,
     "metadata": {},
     "output_type": "execute_result"
    }
   ],
   "source": [
    "scaled_df = pd.DataFrame(scaled_data, columns = data.columns)\n",
    "scaled_df.head()"
   ]
  },
  {
   "attachments": {},
   "cell_type": "markdown",
   "metadata": {},
   "source": [
    "## Binarizing our Labels\n",
    "\n",
    "If you took a look at the data dictionary on Kaggle, then you probably noticed the target for this dataset is to predict if the sample is \"M\" (Malignant) or \"B\" (Benign). This means that this is a **_Binary Classification_** task, so we'll need to binarize our labels. \n",
    "\n",
    "In the cell below, make use of scikit-learn's `LabelBinarizer()` class to create a binarized version of our labels. "
   ]
  },
  {
   "cell_type": "code",
   "execution_count": null,
   "metadata": {},
   "outputs": [],
   "source": [
    "# target to predict whether a sample is \"M\" (malignant) or \"B\" (Benign) this should be a binary classification task\n",
    "# target"
   ]
  },
  {
   "cell_type": "code",
   "execution_count": 9,
   "metadata": {},
   "outputs": [
    {
     "name": "stdout",
     "output_type": "stream",
     "text": [
      "1    357\n",
      "0    212\n",
      "Name: count, dtype: int64\n"
     ]
    }
   ],
   "source": [
    "# here we convert the target to a series to the get the value counts\n",
    "target_counts = pd.Series(target).value_counts() \n",
    "print(target_counts)"
   ]
  },
  {
   "cell_type": "code",
   "execution_count": 12,
   "metadata": {},
   "outputs": [],
   "source": [
    "binarizer = LabelBinarizer()\n",
    "labels = binarizer.fit_transform(target)"
   ]
  },
  {
   "attachments": {},
   "cell_type": "markdown",
   "metadata": {},
   "source": [
    "## Building our MLP\n",
    "\n",
    "Now, we'll build a small **_Multi-Layer Perceptron_** using Keras in the cell below. Our first model will act as a baseline, and then we'll make it bigger to see what happens to model performance. \n",
    "\n",
    "In the cell below:\n",
    "\n",
    "* Instantiate a `Sequential()` Keras model   \n",
    "* Use the model's `.add()` method to add a `Dense` layer with 10 neurons and a `'tanh'` activation function. Also set the `input_shape` attribute to `(30,)`, since we have 30 features  \n",
    "* Since this is a binary classification task, the output layer should be a `Dense` layer with a single neuron, and the activation set to `'sigmoid'` "
   ]
  },
  {
   "cell_type": "code",
   "execution_count": 14,
   "metadata": {},
   "outputs": [],
   "source": [
    "model_1 = Sequential()\n",
    "model_1.add(Dense(10, activation = 'tanh', input_shape = (30,))) # input_shape = (30,) since the number of features are 30\n",
    "\n",
    "# the task is a binary classification task the output layer should be dense layer single neuron while activation set to sigmoid \n",
    "model_1.add(Dense(1, activation = 'sigmoid')) \n"
   ]
  },
  {
   "attachments": {},
   "cell_type": "markdown",
   "metadata": {},
   "source": [
    "### Compiling the Model\n",
    "\n",
    "Now that we've created the model, the next step is to compile it. \n",
    "\n",
    "In the cell below, compile the model. Set the following hyperparameters:\n",
    "\n",
    "* `loss='binary_crossentropy'`\n",
    "* `optimizer='sgd'`\n",
    "* `metrics=['acc']`"
   ]
  },
  {
   "cell_type": "code",
   "execution_count": 15,
   "metadata": {},
   "outputs": [],
   "source": [
    "model_1.compile(\n",
    "    loss = 'binary_crossentropy',\n",
    "    optimizer = 'sgd',\n",
    "    metrics = ['acc']\n",
    ")"
   ]
  },
  {
   "cell_type": "code",
   "execution_count": 18,
   "metadata": {},
   "outputs": [
    {
     "name": "stdout",
     "output_type": "stream",
     "text": [
      "Model: \"sequential\"\n",
      "_________________________________________________________________\n",
      "Layer (type)                 Output Shape              Param #   \n",
      "=================================================================\n",
      "dense (Dense)                (None, 10)                310       \n",
      "_________________________________________________________________\n",
      "dense_1 (Dense)              (None, 1)                 11        \n",
      "=================================================================\n",
      "Total params: 321\n",
      "Trainable params: 321\n",
      "Non-trainable params: 0\n",
      "_________________________________________________________________\n"
     ]
    }
   ],
   "source": [
    "model_1.summary()"
   ]
  },
  {
   "attachments": {},
   "cell_type": "markdown",
   "metadata": {},
   "source": [
    "### Fitting the Model\n",
    "\n",
    "Now, let's fit the model. Set the following hyperparameters:\n",
    "\n",
    "* `epochs=25`\n",
    "* `batch_size=1`\n",
    "* `validation_split=0.2`"
   ]
  },
  {
   "cell_type": "code",
   "execution_count": 17,
   "metadata": {},
   "outputs": [
    {
     "name": "stdout",
     "output_type": "stream",
     "text": [
      "Epoch 1/25\n",
      "455/455 [==============================] - 1s 1ms/step - loss: 0.2462 - acc: 0.9209 - val_loss: 0.1415 - val_acc: 0.9649\n",
      "Epoch 2/25\n",
      "455/455 [==============================] - 0s 842us/step - loss: 0.1082 - acc: 0.9780 - val_loss: 0.1036 - val_acc: 0.9825\n",
      "Epoch 3/25\n",
      "455/455 [==============================] - 0s 806us/step - loss: 0.0842 - acc: 0.9802 - val_loss: 0.0917 - val_acc: 0.9912\n",
      "Epoch 4/25\n",
      "455/455 [==============================] - 0s 703us/step - loss: 0.0742 - acc: 0.9780 - val_loss: 0.0840 - val_acc: 0.9912\n",
      "Epoch 5/25\n",
      "455/455 [==============================] - 0s 799us/step - loss: 0.0685 - acc: 0.9780 - val_loss: 0.0834 - val_acc: 0.9912\n",
      "Epoch 6/25\n",
      "455/455 [==============================] - 0s 842us/step - loss: 0.0650 - acc: 0.9802 - val_loss: 0.0837 - val_acc: 0.9912\n",
      "Epoch 7/25\n",
      "455/455 [==============================] - 0s 806us/step - loss: 0.0628 - acc: 0.9780 - val_loss: 0.0797 - val_acc: 0.9912\n",
      "Epoch 8/25\n",
      "455/455 [==============================] - 0s 1ms/step - loss: 0.0603 - acc: 0.9846 - val_loss: 0.0758 - val_acc: 0.9912\n",
      "Epoch 9/25\n",
      "455/455 [==============================] - 1s 1ms/step - loss: 0.0587 - acc: 0.9824 - val_loss: 0.0746 - val_acc: 0.9912\n",
      "Epoch 10/25\n",
      "455/455 [==============================] - 1s 1ms/step - loss: 0.0572 - acc: 0.9846 - val_loss: 0.0755 - val_acc: 0.9825\n",
      "Epoch 11/25\n",
      "455/455 [==============================] - 1s 1ms/step - loss: 0.0559 - acc: 0.9824 - val_loss: 0.0755 - val_acc: 0.9825\n",
      "Epoch 12/25\n",
      "455/455 [==============================] - 0s 1ms/step - loss: 0.0546 - acc: 0.9824 - val_loss: 0.0803 - val_acc: 0.9737\n",
      "Epoch 13/25\n",
      "455/455 [==============================] - 0s 1ms/step - loss: 0.0537 - acc: 0.9846 - val_loss: 0.0798 - val_acc: 0.9649\n",
      "Epoch 14/25\n",
      "455/455 [==============================] - 0s 983us/step - loss: 0.0526 - acc: 0.9846 - val_loss: 0.0762 - val_acc: 0.9737\n",
      "Epoch 15/25\n",
      "455/455 [==============================] - 0s 913us/step - loss: 0.0518 - acc: 0.9868 - val_loss: 0.0731 - val_acc: 0.9737\n",
      "Epoch 16/25\n",
      "455/455 [==============================] - 1s 1ms/step - loss: 0.0507 - acc: 0.9824 - val_loss: 0.0725 - val_acc: 0.9737\n",
      "Epoch 17/25\n",
      "455/455 [==============================] - 0s 1ms/step - loss: 0.0498 - acc: 0.9846 - val_loss: 0.0730 - val_acc: 0.9737\n",
      "Epoch 18/25\n",
      "455/455 [==============================] - 0s 961us/step - loss: 0.0485 - acc: 0.9846 - val_loss: 0.0779 - val_acc: 0.9649\n",
      "Epoch 19/25\n",
      "455/455 [==============================] - 0s 914us/step - loss: 0.0478 - acc: 0.9868 - val_loss: 0.0785 - val_acc: 0.9649\n",
      "Epoch 20/25\n",
      "455/455 [==============================] - 0s 869us/step - loss: 0.0465 - acc: 0.9868 - val_loss: 0.0742 - val_acc: 0.9737\n",
      "Epoch 21/25\n",
      "455/455 [==============================] - 0s 810us/step - loss: 0.0460 - acc: 0.9868 - val_loss: 0.0780 - val_acc: 0.9649\n",
      "Epoch 22/25\n",
      "455/455 [==============================] - 0s 917us/step - loss: 0.0448 - acc: 0.9846 - val_loss: 0.0832 - val_acc: 0.9649\n",
      "Epoch 23/25\n",
      "455/455 [==============================] - 0s 915us/step - loss: 0.0439 - acc: 0.9868 - val_loss: 0.0777 - val_acc: 0.9649\n",
      "Epoch 24/25\n",
      "455/455 [==============================] - 0s 879us/step - loss: 0.0429 - acc: 0.9868 - val_loss: 0.0754 - val_acc: 0.9649\n",
      "Epoch 25/25\n",
      "455/455 [==============================] - 0s 1ms/step - loss: 0.0419 - acc: 0.9868 - val_loss: 0.0755 - val_acc: 0.9649\n"
     ]
    }
   ],
   "source": [
    "results_1 = model_1.fit(scaled_data, labels, epochs = 25, batch_size = 1, validation_split = .2)"
   ]
  },
  {
   "attachments": {},
   "cell_type": "markdown",
   "metadata": {},
   "source": [
    "Note that when you call a Keras model's `.fit()` method, it returns a Keras callback containing information on the training process of the model. If you examine the callback's `.history` attribute, you'll find a dictionary containing both the training and validation loss, as well as any metrics we specified when compiling the model (in this case, just accuracy). \n",
    "\n",
    "Let's quickly plot our validation and accuracy curves and see if we notice anything. Since we'll want to do this anytime we train an MLP, its worth wrapping this code in a function so that we can easily reuse it. \n",
    "\n",
    "In the cell below, we created a function for visualizing the loss and accuracy metrics. "
   ]
  },
  {
   "cell_type": "code",
   "execution_count": 19,
   "metadata": {},
   "outputs": [],
   "source": [
    "def visualize_training_results(results):\n",
    "    history = results.history\n",
    "    plt.figure()\n",
    "    plt.plot(history['val_loss'])\n",
    "    plt.plot(history['loss'])\n",
    "    plt.legend(['val_loss', 'loss'])\n",
    "    plt.title('Loss')\n",
    "    plt.xlabel('Epochs')\n",
    "    plt.ylabel('Loss')\n",
    "    plt.show()\n",
    "    \n",
    "    plt.figure()\n",
    "    plt.plot(history['val_acc'])\n",
    "    plt.plot(history['acc'])\n",
    "    plt.legend(['val_acc', 'acc'])\n",
    "    plt.title('Accuracy')\n",
    "    plt.xlabel('Epochs')\n",
    "    plt.ylabel('Accuracy')\n",
    "    plt.show()"
   ]
  },
  {
   "cell_type": "code",
   "execution_count": 20,
   "metadata": {},
   "outputs": [
    {
     "data": {
      "image/png": "[encoded data removed]",
      "text/plain": [
       "<Figure size 640x480 with 1 Axes>"
      ]
     },
     "metadata": {},
     "output_type": "display_data"
    },
    {
     "data": {
      "image/png": "[encoded data removed]",
      "text/plain": [
       "<Figure size 640x480 with 1 Axes>"
      ]
     },
     "metadata": {},
     "output_type": "display_data"
    }
   ],
   "source": [
    "visualize_training_results(results_1)"
   ]
  },
  {
   "attachments": {},
   "cell_type": "markdown",
   "metadata": {},
   "source": [
    "## Detecting Overfitting\n",
    "\n",
    "You'll probably notice that the model did pretty well! It's always recommended to visualize your training and validation metrics against each other after training a model. By plotting them like this, we can easily detect when the model is starting to overfit. We can tell that this is happening by seeing the model's training performance steadily improve long after the validation performance plateaus. We can see that in the plots above as the training loss continues to decrease and the training accuracy continues to increase, and the distance between the two lines gets greater as the epochs gets higher. \n",
    "\n",
    "## Iterating on the Model\n",
    "\n",
    "By adding another hidden layer, we can a given the model the ability to capture more high-level abstraction in the data. However, increasing the depth of the model also increases the amount of data the model needs to converge to answer, because with a more complex model comes the \"Curse of Dimensionality\", thanks to all the extra trainable parameters that come from adding more size to our network. \n",
    "\n",
    "If there is complexity in the data that our smaller model was not big enough to catch, then a larger model may improve performance. However, if our dataset isn't big enough for the new, larger model, then we may see performance decrease as then model \"thrashes\" about a bit, failing to converge. Let's try and see what happens. \n",
    "\n",
    "In the cell below, recreate the model that you created above, with one exception. In the model below, add a second `Dense` layer with `'tanh'` activation function and 5 neurons after the first. The network's output layer should still be a `Dense` layer with a single neuron and a `'sigmoid'` activation function, since this is still a binary classification task. \n",
    "\n",
    "Create, compile, and fit the model in the cells below, and then visualize the results to compare the history. "
   ]
  },
  {
   "cell_type": "code",
   "execution_count": 21,
   "metadata": {},
   "outputs": [],
   "source": [
    "model_2 = Sequential()\n",
    "model_2.add(Dense(10, activation = 'tanh', input_shape = (30,)))\n",
    "model_2.add(Dense(5, activation = 'tanh'))\n",
    "model_2.add(Dense(1, activation = 'sigmoid'))"
   ]
  },
  {
   "cell_type": "code",
   "execution_count": 23,
   "metadata": {},
   "outputs": [],
   "source": [
    "model_2.compile(\n",
    "    loss = 'binary_crossentropy',\n",
    "    optimizer = 'sgd',\n",
    "    metrics = ['acc']\n",
    ")"
   ]
  },
  {
   "cell_type": "code",
   "execution_count": 24,
   "metadata": {
    "scrolled": true
   },
   "outputs": [
    {
     "name": "stdout",
     "output_type": "stream",
     "text": [
      "Epoch 1/25\n",
      "455/455 [==============================] - 0s 913us/step - loss: 0.3654 - acc: 0.8879 - val_loss: 0.2040 - val_acc: 0.9825\n",
      "Epoch 2/25\n",
      "455/455 [==============================] - 0s 697us/step - loss: 0.1577 - acc: 0.9626 - val_loss: 0.1271 - val_acc: 0.9737\n",
      "Epoch 3/25\n",
      "455/455 [==============================] - 0s 731us/step - loss: 0.1089 - acc: 0.9758 - val_loss: 0.1067 - val_acc: 0.9737\n",
      "Epoch 4/25\n",
      "455/455 [==============================] - 0s 729us/step - loss: 0.0855 - acc: 0.9758 - val_loss: 0.0944 - val_acc: 0.9649\n",
      "Epoch 5/25\n",
      "455/455 [==============================] - 0s 779us/step - loss: 0.0785 - acc: 0.9802 - val_loss: 0.0898 - val_acc: 0.9649\n",
      "Epoch 6/25\n",
      "455/455 [==============================] - 0s 734us/step - loss: 0.0693 - acc: 0.9824 - val_loss: 0.0948 - val_acc: 0.9649\n",
      "Epoch 7/25\n",
      "455/455 [==============================] - 0s 766us/step - loss: 0.0641 - acc: 0.9846 - val_loss: 0.0777 - val_acc: 0.9649\n",
      "Epoch 8/25\n",
      "455/455 [==============================] - 0s 792us/step - loss: 0.0617 - acc: 0.9802 - val_loss: 0.0884 - val_acc: 0.9737\n",
      "Epoch 9/25\n",
      "455/455 [==============================] - 0s 1ms/step - loss: 0.0589 - acc: 0.9868 - val_loss: 0.0893 - val_acc: 0.9649\n",
      "Epoch 10/25\n",
      "455/455 [==============================] - 0s 990us/step - loss: 0.0553 - acc: 0.9890 - val_loss: 0.0963 - val_acc: 0.9561\n",
      "Epoch 11/25\n",
      "455/455 [==============================] - 0s 955us/step - loss: 0.0546 - acc: 0.9846 - val_loss: 0.0999 - val_acc: 0.9737\n",
      "Epoch 12/25\n",
      "455/455 [==============================] - 0s 979us/step - loss: 0.0520 - acc: 0.9868 - val_loss: 0.1015 - val_acc: 0.9649\n",
      "Epoch 13/25\n",
      "455/455 [==============================] - 0s 1ms/step - loss: 0.0489 - acc: 0.9868 - val_loss: 0.0779 - val_acc: 0.9737\n",
      "Epoch 14/25\n",
      "455/455 [==============================] - 0s 964us/step - loss: 0.0520 - acc: 0.9846 - val_loss: 0.0883 - val_acc: 0.9561\n",
      "Epoch 15/25\n",
      "455/455 [==============================] - 0s 909us/step - loss: 0.0483 - acc: 0.9890 - val_loss: 0.1003 - val_acc: 0.9561\n",
      "Epoch 16/25\n",
      "455/455 [==============================] - 0s 979us/step - loss: 0.0474 - acc: 0.9868 - val_loss: 0.0959 - val_acc: 0.9649\n",
      "Epoch 17/25\n",
      "455/455 [==============================] - 0s 1ms/step - loss: 0.0454 - acc: 0.9890 - val_loss: 0.0910 - val_acc: 0.9649\n",
      "Epoch 18/25\n",
      "455/455 [==============================] - 0s 1ms/step - loss: 0.0447 - acc: 0.9868 - val_loss: 0.0968 - val_acc: 0.9649\n",
      "Epoch 19/25\n",
      "455/455 [==============================] - 0s 1ms/step - loss: 0.0431 - acc: 0.9890 - val_loss: 0.0878 - val_acc: 0.9649\n",
      "Epoch 20/25\n",
      "455/455 [==============================] - 0s 916us/step - loss: 0.0414 - acc: 0.9846 - val_loss: 0.1002 - val_acc: 0.9561\n",
      "Epoch 21/25\n",
      "455/455 [==============================] - 0s 915us/step - loss: 0.0409 - acc: 0.9868 - val_loss: 0.0838 - val_acc: 0.9825\n",
      "Epoch 22/25\n",
      "455/455 [==============================] - 0s 914us/step - loss: 0.0394 - acc: 0.9890 - val_loss: 0.0884 - val_acc: 0.9649\n",
      "Epoch 23/25\n",
      "455/455 [==============================] - 0s 801us/step - loss: 0.0383 - acc: 0.9912 - val_loss: 0.1187 - val_acc: 0.9561\n",
      "Epoch 24/25\n",
      "455/455 [==============================] - 0s 771us/step - loss: 0.0390 - acc: 0.9868 - val_loss: 0.0942 - val_acc: 0.9649\n",
      "Epoch 25/25\n",
      "455/455 [==============================] - 0s 918us/step - loss: 0.0375 - acc: 0.9890 - val_loss: 0.0979 - val_acc: 0.9561\n"
     ]
    }
   ],
   "source": [
    "results_2 = model_2.fit(scaled_data, labels, epochs = 25, batch_size = 1, validation_split = .2)"
   ]
  },
  {
   "cell_type": "code",
   "execution_count": 25,
   "metadata": {
    "scrolled": true
   },
   "outputs": [
    {
     "data": {
      "image/png": "[encoded data removed]",
      "text/plain": [
       "<Figure size 640x480 with 1 Axes>"
      ]
     },
     "metadata": {},
     "output_type": "display_data"
    },
    {
     "data": {
      "image/png": "[encoded data removed]",
      "text/plain": [
       "<Figure size 640x480 with 1 Axes>"
      ]
     },
     "metadata": {},
     "output_type": "display_data"
    }
   ],
   "source": [
    "visualize_training_results(results_2)"
   ]
  },
  {
   "attachments": {},
   "cell_type": "markdown",
   "metadata": {},
   "source": [
    "## What Happened?\n",
    "\n",
    "Although the final validation score for both models is the same, this model is clearly worse because it hasn't converged yet. We can tell because of the greater variance in the movement of the `val_loss` and `val_acc` lines. This suggests that we can remedy this by either:\n",
    "\n",
    "* Decreasing the size of the network, or\n",
    "* Increasing the size of our training data \n",
    "\n",
    "## Visualizing why we Normalize our Data\n",
    "\n",
    "As a final exercise, let's create a third model that is the same as the first model we created earlier. The only difference is that we will train it on our raw dataset, not the normalized version. This way, we can see how much of a difference normalizing our input data makes.\n",
    "\n",
    "Create, compile, and fit a model in the cell below. The only change in parameters will be using `data` instead of `scaled_data` during the `.fit()` step. "
   ]
  },
  {
   "cell_type": "code",
   "execution_count": 26,
   "metadata": {},
   "outputs": [],
   "source": [
    "model_3 = Sequential()\n",
    "model_3.add(Dense(5, activation = 'tanh', input_shape = (30,)))\n",
    "model_3.add(Dense(1, activation = 'sigmoid'))\n"
   ]
  },
  {
   "cell_type": "code",
   "execution_count": null,
   "metadata": {},
   "outputs": [],
   "source": [
    "# model_3 = Sequential()\n",
    "# model_3.add(Dense(5, activation='tanh', input_shape=(30,)))\n",
    "# model_3.add(Dense(1, activation='sigmoid'))"
   ]
  },
  {
   "cell_type": "code",
   "execution_count": null,
   "metadata": {},
   "outputs": [],
   "source": [
    "# model_3.compile(loss='binary_crossentropy', optimizer='sgd', metrics=['acc'])"
   ]
  },
  {
   "cell_type": "code",
   "execution_count": 27,
   "metadata": {},
   "outputs": [],
   "source": [
    "model_3.compile(\n",
    "    loss = 'binary_crossentropy',\n",
    "    optimizer = 'sgd',\n",
    "    metrics = ['acc']\n",
    ")"
   ]
  },
  {
   "cell_type": "code",
   "execution_count": 32,
   "metadata": {},
   "outputs": [
    {
     "name": "stdout",
     "output_type": "stream",
     "text": [
      "Epoch 1/25\n",
      "455/455 [==============================] - 1s 1ms/step - loss: 0.6816 - acc: 0.5912 - val_loss: 0.6182 - val_acc: 0.7719\n",
      "Epoch 2/25\n",
      "455/455 [==============================] - 1s 2ms/step - loss: 0.6783 - acc: 0.5912 - val_loss: 0.5699 - val_acc: 0.7719\n",
      "Epoch 3/25\n",
      "455/455 [==============================] - 1s 1ms/step - loss: 0.6812 - acc: 0.5912 - val_loss: 0.6668 - val_acc: 0.7719\n",
      "Epoch 4/25\n",
      "455/455 [==============================] - 1s 1ms/step - loss: 0.6814 - acc: 0.5912 - val_loss: 0.5932 - val_acc: 0.7719\n",
      "Epoch 5/25\n",
      "455/455 [==============================] - 1s 1ms/step - loss: 0.6804 - acc: 0.5912 - val_loss: 0.6610 - val_acc: 0.7719\n",
      "Epoch 6/25\n",
      "455/455 [==============================] - 1s 1ms/step - loss: 0.6802 - acc: 0.5912 - val_loss: 0.6621 - val_acc: 0.7719\n",
      "Epoch 7/25\n",
      "455/455 [==============================] - 1s 1ms/step - loss: 0.6824 - acc: 0.5912 - val_loss: 0.6207 - val_acc: 0.7719\n",
      "Epoch 8/25\n",
      "455/455 [==============================] - 1s 1ms/step - loss: 0.6808 - acc: 0.5912 - val_loss: 0.6518 - val_acc: 0.7719\n",
      "Epoch 9/25\n",
      "455/455 [==============================] - 1s 1ms/step - loss: 0.6809 - acc: 0.5890 - val_loss: 0.6485 - val_acc: 0.7719\n",
      "Epoch 10/25\n",
      "455/455 [==============================] - 1s 1ms/step - loss: 0.6825 - acc: 0.5912 - val_loss: 0.6291 - val_acc: 0.7719\n",
      "Epoch 11/25\n",
      "455/455 [==============================] - 1s 1ms/step - loss: 0.6794 - acc: 0.5912 - val_loss: 0.6600 - val_acc: 0.7719\n",
      "Epoch 12/25\n",
      "455/455 [==============================] - 1s 1ms/step - loss: 0.6813 - acc: 0.5912 - val_loss: 0.5954 - val_acc: 0.7719\n",
      "Epoch 13/25\n",
      "455/455 [==============================] - 1s 1ms/step - loss: 0.6802 - acc: 0.5868 - val_loss: 0.6165 - val_acc: 0.7719\n",
      "Epoch 14/25\n",
      "455/455 [==============================] - 1s 1ms/step - loss: 0.6785 - acc: 0.5912 - val_loss: 0.5701 - val_acc: 0.7719\n",
      "Epoch 15/25\n",
      "455/455 [==============================] - 1s 1ms/step - loss: 0.6789 - acc: 0.5912 - val_loss: 0.6478 - val_acc: 0.7719\n",
      "Epoch 16/25\n",
      "455/455 [==============================] - 1s 2ms/step - loss: 0.6803 - acc: 0.5912 - val_loss: 0.6276 - val_acc: 0.7719\n",
      "Epoch 17/25\n",
      "455/455 [==============================] - 1s 2ms/step - loss: 0.6825 - acc: 0.5912 - val_loss: 0.6206 - val_acc: 0.7719\n",
      "Epoch 18/25\n",
      "455/455 [==============================] - 1s 2ms/step - loss: 0.6822 - acc: 0.5912 - val_loss: 0.6037 - val_acc: 0.7719\n",
      "Epoch 19/25\n",
      "455/455 [==============================] - 1s 2ms/step - loss: 0.6800 - acc: 0.5846 - val_loss: 0.6288 - val_acc: 0.7719\n",
      "Epoch 20/25\n",
      "455/455 [==============================] - 1s 1ms/step - loss: 0.6823 - acc: 0.5912 - val_loss: 0.6136 - val_acc: 0.7719\n",
      "Epoch 21/25\n",
      "455/455 [==============================] - 1s 1ms/step - loss: 0.6820 - acc: 0.5912 - val_loss: 0.6260 - val_acc: 0.7719\n",
      "Epoch 22/25\n",
      "455/455 [==============================] - 1s 2ms/step - loss: 0.6829 - acc: 0.5912 - val_loss: 0.6137 - val_acc: 0.7719\n",
      "Epoch 23/25\n",
      "455/455 [==============================] - 1s 2ms/step - loss: 0.6797 - acc: 0.5912 - val_loss: 0.6489 - val_acc: 0.7719\n",
      "Epoch 24/25\n",
      "455/455 [==============================] - 1s 2ms/step - loss: 0.6792 - acc: 0.5670 - val_loss: 0.6180 - val_acc: 0.7719\n",
      "Epoch 25/25\n",
      "455/455 [==============================] - 1s 2ms/step - loss: 0.6820 - acc: 0.5912 - val_loss: 0.5959 - val_acc: 0.7719\n"
     ]
    }
   ],
   "source": [
    "results_3 = model_3.fit(data, labels, epochs=25, batch_size=1, validation_split=0.2)"
   ]
  },
  {
   "cell_type": "code",
   "execution_count": 33,
   "metadata": {},
   "outputs": [],
   "source": [
    "# results_3 = model_3.fit(data, labels, epochs = 25, batch_size = 1, validation_split = .2)"
   ]
  },
  {
   "cell_type": "code",
   "execution_count": 34,
   "metadata": {},
   "outputs": [
    {
     "data": {
      "image/png": "[encoded data removed]",
      "text/plain": [
       "<Figure size 640x480 with 1 Axes>"
      ]
     },
     "metadata": {},
     "output_type": "display_data"
    },
    {
     "data": {
      "image/png": "[encoded data removed]",
      "text/plain": [
       "<Figure size 640x480 with 1 Axes>"
      ]
     },
     "metadata": {},
     "output_type": "display_data"
    }
   ],
   "source": [
    "visualize_training_results(results_3)"
   ]
  },
  {
   "attachments": {},
   "cell_type": "markdown",
   "metadata": {},
   "source": [
    "Wow! Our results were much worse -- over 20% poorer performance when working with non-normalized input data!  \n",
    "\n",
    "\n",
    "## Summary\n",
    "\n",
    "In this lab, we got some practice creating **_Multi-Layer Perceptrons_**, and explored how things like the number of layers in a model and data normalization affect our overall training results!"
   ]
  }
 ],
 "metadata": {
  "kernelspec": {
   "display_name": "learn-env",
   "language": "python",
   "name": "python3"
  },
  "language_info": {
   "codemirror_mode": {
    "name": "ipython",
    "version": 3
   },
   "file_extension": ".py",
   "mimetype": "text/x-python",
   "name": "python",
   "nbconvert_exporter": "python",
   "pygments_lexer": "ipython3",
   "version": "3.8.5"
  }
 },
 "nbformat": 4,
 "nbformat_minor": 2
}
